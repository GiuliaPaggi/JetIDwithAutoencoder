{
  "nbformat": 4,
  "nbformat_minor": 0,
  "metadata": {
    "colab": {
      "provenance": [],
      "gpuType": "T4",
      "mount_file_id": "1dD0w8GQZESpKL9QsLwtLpQ_Qk7ACYF9N",
      "authorship_tag": "ABX9TyNU53H1aZlE+hF38ci3v0g2",
      "include_colab_link": true
    },
    "kernelspec": {
      "name": "python3",
      "display_name": "Python 3"
    },
    "language_info": {
      "name": "python"
    },
    "accelerator": "GPU"
  },
  "cells": [
    {
      "cell_type": "markdown",
      "metadata": {
        "id": "view-in-github",
        "colab_type": "text"
      },
      "source": [
        "<a href=\"https://colab.research.google.com/github/GiuliaPaggi/JetIDwithAutoencoder/blob/main/JetIDAE.ipynb\" target=\"_parent\"><img src=\"https://colab.research.google.com/assets/colab-badge.svg\" alt=\"Open In Colab\"/></a>"
      ]
    },
    {
      "cell_type": "code",
      "execution_count": 1,
      "metadata": {
        "id": "IbY9KGa9wnSn"
      },
      "outputs": [],
      "source": [
        "import numpy as np\n",
        "import pandas as pd\n",
        "import tensorflow as tf\n",
        "import os\n",
        "import keras\n",
        "\n",
        "from keras.models import Model\n",
        "from keras.layers import Dense, Input\n",
        "from keras.datasets import mnist\n",
        "from keras.regularizers import l1\n",
        "from tensorflow.keras.optimizers import Adam\n",
        "from tensorflow.keras import layers, models\n",
        "\n",
        "from tensorflow.math import confusion_matrix\n",
        "\n",
        "from IPython.utils.py3compat import no_code\n",
        "\n",
        "import matplotlib.pyplot as plt\n",
        "import seaborn as sns\n",
        "import warnings"
      ]
    },
    {
      "cell_type": "markdown",
      "source": [
        "Define layers input dimensions"
      ],
      "metadata": {
        "id": "Kdg3SRf5ygLD"
      }
    },
    {
      "cell_type": "code",
      "source": [
        "n_chann = 98\n",
        "layer = 8\n",
        "n_input = (n_chann*layer)+2 #len of vector\n",
        "n_hidden1 = int(n_input/2)\n",
        "n_code = int(n_hidden1/2) #codings\n",
        "n_hidden2 = n_hidden1\n",
        "n_output = n_input\n"
      ],
      "metadata": {
        "id": "9ciYtTQvyD4h"
      },
      "execution_count": 2,
      "outputs": []
    },
    {
      "cell_type": "code",
      "source": [
        "train_ae = False"
      ],
      "metadata": {
        "id": "gtb-uSuxk6YW"
      },
      "execution_count": 3,
      "outputs": []
    },
    {
      "cell_type": "markdown",
      "source": [
        "Import shower data from drive"
      ],
      "metadata": {
        "id": "fwUW0SaFzDi-"
      }
    },
    {
      "cell_type": "code",
      "source": [
        "os.chdir('/content/drive/MyDrive/JetDTsAutoencoder/data/')\n",
        "csv_files_shower = [f for f in os.listdir() if (f.startswith('shower') and f.endswith('.csv'))]\n",
        "dfs = []\n",
        "\n",
        "for data_file in csv_files_shower :\n",
        "  print(\"Read \"+data_file)\n",
        "  s_df = pd.read_csv(data_file)\n",
        "  dfs.append(s_df)\n",
        "\n",
        "df = pd.concat(dfs, ignore_index = True)\n",
        "\n",
        "df = df.drop(columns= 'Unnamed: 0')\n",
        "df = df.sample(frac = 1).reset_index(drop=True)\n",
        "del(dfs)\n"
      ],
      "metadata": {
        "colab": {
          "base_uri": "https://localhost:8080/"
        },
        "id": "SrJXwT0szE6S",
        "outputId": "513e6f4a-af3c-4d9f-9da4-d5b4729d918b"
      },
      "execution_count": 4,
      "outputs": [
        {
          "output_type": "stream",
          "name": "stdout",
          "text": [
            "Read shower_HiddenGluGluH_mH-375_Phi-60_ctau-1000_8.csv\n",
            "Read shower_HiddenGluGluH_mH-375_Phi-60_ctau-1000_23.csv\n",
            "Read shower_HiddenGluGluH_mH-375_Phi-60_ctau-1000_1.csv\n",
            "Read shower_HiddenGluGluH_mH-375_Phi-60_ctau-1000_10.csv\n",
            "Read shower_HiddenGluGluH_mH-375_Phi-60_ctau-1000_20.csv\n",
            "Read shower_HiddenGluGluH_mH-375_Phi-60_ctau-1000_4.csv\n",
            "Read shower_HiddenGluGluH_mH-375_Phi-60_ctau-1000_14.csv\n",
            "Read shower_HiddenGluGluH_mH-375_Phi-60_ctau-1000_0.csv\n",
            "Read shower_HiddenGluGluH_mH-375_Phi-60_ctau-1000_7.csv\n",
            "Read shower_HiddenGluGluH_mH-375_Phi-60_ctau-1000_13.csv\n",
            "Read shower_HiddenGluGluH_mH-375_Phi-60_ctau-1000_15.csv\n",
            "Read shower_HiddenGluGluH_mH-375_Phi-60_ctau-1000_26.csv\n",
            "Read shower_HiddenGluGluH_mH-375_Phi-60_ctau-1000_22.csv\n",
            "Read shower_HiddenGluGluH_mH-375_Phi-60_ctau-1000_24.csv\n",
            "Read shower_HiddenGluGluH_mH-375_Phi-60_ctau-1000_18.csv\n",
            "Read shower_HiddenGluGluH_mH-375_Phi-60_ctau-1000_19.csv\n",
            "Read shower_HiddenGluGluH_mH-375_Phi-60_ctau-1000_27.csv\n",
            "Read shower_HiddenGluGluH_mH-375_Phi-60_ctau-1000_21.csv\n",
            "Read shower_HiddenGluGluH_mH-375_Phi-60_ctau-1000_5.csv\n",
            "Read shower_HiddenGluGluH_mH-375_Phi-60_ctau-1000_11.csv\n",
            "Read shower_HiddenGluGluH_mH-375_Phi-60_ctau-1000_9.csv\n",
            "Read shower_HiddenGluGluH_mH-375_Phi-60_ctau-1000_3.csv\n",
            "Read shower_HiddenGluGluH_mH-375_Phi-60_ctau-1000_6.csv\n",
            "Read shower_HiddenGluGluH_mH-375_Phi-60_ctau-1000_2.csv\n",
            "Read shower_HiddenGluGluH_mH-375_Phi-60_ctau-1000_17.csv\n",
            "Read shower_HiddenGluGluH_mH-375_Phi-60_ctau-1000_25.csv\n",
            "Read shower_HiddenGluGluH_mH-375_Phi-60_ctau-1000_12.csv\n",
            "Read shower_HiddenGluGluH_mH-375_Phi-60_ctau-1000_16.csv\n"
          ]
        }
      ]
    },
    {
      "cell_type": "markdown",
      "source": [
        "split in train, validation and test samples -> remove validation, use validation_split attribute of training method"
      ],
      "metadata": {
        "id": "rxURPTt41ANl"
      }
    },
    {
      "cell_type": "code",
      "source": [
        "print(df.iloc[:10, :(n_input-2)])"
      ],
      "metadata": {
        "colab": {
          "base_uri": "https://localhost:8080/"
        },
        "id": "LTmx3RSoUVNx",
        "outputId": "7d8a354b-0c84-4d29-c722-ed31ed351d38"
      },
      "execution_count": 5,
      "outputs": [
        {
          "output_type": "stream",
          "name": "stdout",
          "text": [
            "   ch1l1  ch1l2  ch1l3  ch1l4  ch1l5  ch1l6  ch1l7  ch1l8  ch2l1  ch2l2  ...  \\\n",
            "0      0      0      0      0      0      0      0      0      0      0  ...   \n",
            "1      0      0      0      0      0      0      0      0      0      0  ...   \n",
            "2      0      0      0      0      0      0      0      0      0      0  ...   \n",
            "3      0      0      0      0      0      0      0      0      0      0  ...   \n",
            "4      0      0      0      0      0      0      0      0      0      0  ...   \n",
            "5      0      0      0      0      0      0      0      0      0      0  ...   \n",
            "6      0      0      0      0      0      0      0      0      0      0  ...   \n",
            "7      0      0      0      0      0      0      0      0      0      0  ...   \n",
            "8      0      0      0      0      0      0      0      0      0      0  ...   \n",
            "9      0      0      0      0      0      0      0      0      0      0  ...   \n",
            "\n",
            "   ch97l7  ch97l8  ch98l1  ch98l2  ch98l3  ch98l4  ch98l5  ch98l6  ch98l7  \\\n",
            "0       0       0       0       0       0       0       0       0       0   \n",
            "1       0       0       0       0       0       0       0       0       0   \n",
            "2       0       0       0       0       0       0       0       0       0   \n",
            "3       2       3       3       2       2       3       2       2       1   \n",
            "4       0       0       0       0       0       0       0       0       0   \n",
            "5       0       0       0       0       0       0       0       0       0   \n",
            "6       0       0       0       0       0       0       0       0       0   \n",
            "7       0       0       0       0       0       0       0       0       0   \n",
            "8       0       0       0       0       0       0       0       0       0   \n",
            "9       0       0       0       0       0       0       0       0       0   \n",
            "\n",
            "   ch98l8  \n",
            "0       0  \n",
            "1       0  \n",
            "2       0  \n",
            "3       1  \n",
            "4       0  \n",
            "5       0  \n",
            "6       0  \n",
            "7       0  \n",
            "8       0  \n",
            "9       0  \n",
            "\n",
            "[10 rows x 784 columns]\n"
          ]
        }
      ]
    },
    {
      "cell_type": "markdown",
      "source": [
        "Divide in train - validation - test"
      ],
      "metadata": {
        "id": "YXDfxSlysqxD"
      }
    },
    {
      "cell_type": "code",
      "source": [
        "if train_ae :\n",
        "  train_events = round(len(df)*.7)\n",
        "  validation_events = round(len(df)*.2)\n",
        "  test_events = len(df)-(train_events+validation_events)\n",
        "\n",
        "  x_train = df.iloc[:train_events, :n_input]\n",
        "  x_validation = df.iloc[train_events:(train_events+validation_events), :n_input]\n",
        "  x_test = df.iloc[(train_events+validation_events):, :n_input]\n",
        "\n",
        "  y_train = df.iloc[:train_events, n_input:]\n",
        "  y_validation = df.iloc[train_events:(train_events+validation_events), n_input:]\n",
        "  y_test = df.iloc[(train_events+validation_events):, n_input:]\n"
      ],
      "metadata": {
        "id": "OdzmOoL-1GNE"
      },
      "execution_count": 6,
      "outputs": []
    },
    {
      "cell_type": "markdown",
      "source": [
        "Check the correct division in train - validation - test samples"
      ],
      "metadata": {
        "id": "NK9KajRpsltl"
      }
    },
    {
      "cell_type": "code",
      "source": [
        "if train_ae :\n",
        "  print(len(df))\n",
        "  print(\"train sample\")\n",
        "  print(train_events)\n",
        "  print(len(x_train))\n",
        "  print(\"validation sample\")\n",
        "  print(validation_events)\n",
        "  print(len(x_validation))\n",
        "  print(\"test sample\")\n",
        "  print(len(x_test))\n"
      ],
      "metadata": {
        "id": "xRZwKpFi1-_a",
        "colab": {
          "base_uri": "https://localhost:8080/"
        },
        "outputId": "037abf4a-cf79-4e41-82f7-afe1f526c8d0"
      },
      "execution_count": 7,
      "outputs": [
        {
          "output_type": "stream",
          "name": "stdout",
          "text": [
            "140000\n",
            "train sample\n",
            "98000\n",
            "98000\n",
            "validation sample\n",
            "28000\n",
            "28000\n",
            "test sample\n",
            "14000\n"
          ]
        }
      ]
    },
    {
      "cell_type": "code",
      "source": [
        "if train_ae :\n",
        "  len(x_train.to_numpy()[0])"
      ],
      "metadata": {
        "id": "uAvmboXVh-sy"
      },
      "execution_count": 8,
      "outputs": []
    },
    {
      "cell_type": "markdown",
      "source": [
        "Define plotting functions"
      ],
      "metadata": {
        "id": "ZqciIB6wsg4q"
      }
    },
    {
      "cell_type": "code",
      "source": [
        "def plot_input(sample, n, dims):\n",
        "    # number of example to show\n",
        "    plt.figure(figsize=(80, 36))\n",
        "    for i in range(n):\n",
        "        # plot original image\n",
        "        ax = plt.subplot(2, n, i + 1)\n",
        "        event = np.random.randint(0, (layer*n_chann)+1)\n",
        "        print(event)\n",
        "        digi = n_input-2\n",
        "        plt.imshow(sample.iloc[event, :digi].to_numpy().reshape(*dims))\n",
        "        plt.gray()\n",
        "        ax.get_xaxis().set_visible(False)\n",
        "        ax.get_yaxis().set_visible(False)\n",
        "        if i == n/2:\n",
        "            ax.set_title('Original Images')\n",
        "\n",
        "    plt.show()\n",
        "\n",
        "def plot_autoencoder_outputs(sample, autoencoder, n, dims):\n",
        "\n",
        "    # number of example digits to show\n",
        "    plt.figure(figsize=(8, 6))\n",
        "    for i in range(n):\n",
        "        # plot original image\n",
        "        ax = plt.subplot(2, n, i + 1)\n",
        "        event = np.random.randint(0, (layer*n_chann)+1)\n",
        "        print(event)\n",
        "        plt.imshow(sample.iloc[i, :-2].to_numpy().reshape(*dims))\n",
        "        plt.gray()\n",
        "        ax.get_xaxis().set_visible(False)\n",
        "        ax.get_yaxis().set_visible(False)\n",
        "        if i == n/2:\n",
        "            ax.set_title('Original Images')\n",
        "\n",
        "        # plot reconstruction\n",
        "        decoded_imgs = autoencoder.predict(event)\n",
        "        ax = plt.subplot(2, n, i + 1 + n)\n",
        "        plt.imshow(decoded_imgs[i,:-2].reshape(*dims))\n",
        "        plt.gray()\n",
        "        ax.get_xaxis().set_visible(False)\n",
        "        ax.get_yaxis().set_visible(False)\n",
        "        if i == n/2:\n",
        "            ax.set_title('Reconstructed Images')\n",
        "    plt.show()\n",
        "\n",
        "def plot_loss(history):\n",
        "    historydf = pd.DataFrame(history.history, index=history.epoch)\n",
        "    plt.figure(figsize=(8, 6))\n",
        "    historydf.plot(ylim=(0, historydf.values.max()))\n",
        "    plt.title('Loss: %.3f' % history.history['loss'][-1])"
      ],
      "metadata": {
        "id": "gDOQAbTO_rV5"
      },
      "execution_count": 5,
      "outputs": []
    },
    {
      "cell_type": "markdown",
      "source": [
        "Check the input images"
      ],
      "metadata": {
        "id": "VsQzwDopsZae"
      }
    },
    {
      "cell_type": "code",
      "source": [
        "plot_input(df, 5, (layer, n_chann))\n",
        "plot_input(df, 5, (layer, n_chann))\n",
        "plot_input(df, 5, (layer, n_chann))"
      ],
      "metadata": {
        "colab": {
          "base_uri": "https://localhost:8080/",
          "height": 348
        },
        "id": "aakCIISH7hLr",
        "outputId": "988e4403-b2f9-402a-dea1-9ca0fe8570e8"
      },
      "execution_count": 6,
      "outputs": [
        {
          "output_type": "stream",
          "name": "stdout",
          "text": [
            "152\n",
            "265\n",
            "133\n",
            "665\n",
            "551\n"
          ]
        },
        {
          "output_type": "display_data",
          "data": {
            "text/plain": [
              "<Figure size 8000x3600 with 5 Axes>"
            ],
            "image/png": "[encoded data removed]"
          },
          "metadata": {}
        },
        {
          "output_type": "stream",
          "name": "stdout",
          "text": [
            "81\n",
            "55\n",
            "111\n",
            "674\n",
            "156\n"
          ]
        },
        {
          "output_type": "display_data",
          "data": {
            "text/plain": [
              "<Figure size 8000x3600 with 5 Axes>"
            ],
            "image/png": "[encoded data removed]"
          },
          "metadata": {}
        },
        {
          "output_type": "stream",
          "name": "stdout",
          "text": [
            "764\n",
            "157\n",
            "313\n",
            "159\n",
            "50\n"
          ]
        },
        {
          "output_type": "display_data",
          "data": {
            "text/plain": [
              "<Figure size 8000x3600 with 5 Axes>"
            ],
            "image/png": "[encoded data removed]"
          },
          "metadata": {}
        }
      ]
    },
    {
      "cell_type": "code",
      "source": [
        "if train_ae :\n",
        "  print(x_train.shape[1])"
      ],
      "metadata": {
        "id": "rWb7_Umu64FN",
        "colab": {
          "base_uri": "https://localhost:8080/"
        },
        "outputId": "72f0a1b8-8842-4556-c6af-88b7569c2cbb"
      },
      "execution_count": 11,
      "outputs": [
        {
          "output_type": "stream",
          "name": "stdout",
          "text": [
            "786\n"
          ]
        }
      ]
    },
    {
      "cell_type": "markdown",
      "source": [
        "Define the autoencoder model"
      ],
      "metadata": {
        "id": "SLZP7BSTr9S_"
      }
    },
    {
      "cell_type": "code",
      "source": [
        "input_img = n_input\n",
        "#define separately encoder and decoder to extract encoder for classification after training\n",
        "encoder = models.Sequential([\n",
        "    layers.InputLayer(input_shape=(input_img,)),\n",
        "    layers.Dense(n_hidden1, activation='relu'),\n",
        "    layers.Dense(n_code, activation='relu'),\n",
        "])\n",
        "\n",
        "# Decoder\n",
        "decoder = models.Sequential([\n",
        "    layers.Dense(n_hidden1, activation='relu', input_shape=(n_code,)),\n",
        "    layers.Dense(input_img, activation='relu'),\n",
        "])\n",
        "\n",
        "# Autoencoder\n",
        "autoencoder = models.Sequential([\n",
        "    encoder,\n",
        "    decoder,\n",
        "])\n",
        "\n",
        "l_rate = 0.001 # 0.001 default value\n",
        "\n",
        "#schedule learning rate to change\n",
        "lr_scheduler = keras.optimizers.schedules.ExponentialDecay(\n",
        "    initial_learning_rate=1e-3,\n",
        "    decay_steps=100,\n",
        "    decay_rate=0.99)\n",
        "\n",
        "schedule = keras.callbacks.LearningRateScheduler(lr_scheduler)\n",
        "#implement early stopping\n",
        "early_stop = keras.callbacks.EarlyStopping(monitor='loss', patience=10, verbose=1, restore_best_weights=True, mode = 'min')\n",
        "\n",
        "autoencoder.compile(optimizer='adam', loss='MSE')\n"
      ],
      "metadata": {
        "id": "oJj-oIXH9n8L"
      },
      "execution_count": 7,
      "outputs": []
    },
    {
      "cell_type": "markdown",
      "source": [
        "Check the autoencoder model"
      ],
      "metadata": {
        "id": "57FfHcwWtSSF"
      }
    },
    {
      "cell_type": "code",
      "source": [
        "if train_ae :\n",
        "  n_epochs = 1000\n",
        "  tf.keras.backend.clear_session()\n",
        "  tf.random.set_seed(42)\n",
        "\n",
        "  history = autoencoder.fit(x_train, x_train, batch_size= 512, epochs=n_epochs, validation_data=(x_validation, x_validation), callbacks=[schedule, early_stop])"
      ],
      "metadata": {
        "id": "F7uCF0VP-SJj",
        "colab": {
          "base_uri": "https://localhost:8080/"
        },
        "outputId": "8cfdef6a-951e-42d9-ea18-8a15c376c4c3"
      },
      "execution_count": 13,
      "outputs": [
        {
          "output_type": "stream",
          "name": "stdout",
          "text": [
            "Epoch 1/1000\n",
            "192/192 [==============================] - 5s 15ms/step - loss: 0.0929 - val_loss: 0.0633 - lr: 0.0010\n",
            "Epoch 2/1000\n",
            "192/192 [==============================] - 3s 13ms/step - loss: 0.0559 - val_loss: 0.0516 - lr: 9.9990e-04\n",
            "Epoch 3/1000\n",
            "192/192 [==============================] - 2s 10ms/step - loss: 0.0479 - val_loss: 0.0467 - lr: 9.9980e-04\n",
            "Epoch 4/1000\n",
            "192/192 [==============================] - 2s 9ms/step - loss: 0.0440 - val_loss: 0.0432 - lr: 9.9970e-04\n",
            "Epoch 5/1000\n",
            "192/192 [==============================] - 2s 9ms/step - loss: 0.0417 - val_loss: 0.0420 - lr: 9.9960e-04\n",
            "Epoch 6/1000\n",
            "192/192 [==============================] - 2s 8ms/step - loss: 0.0401 - val_loss: 0.0405 - lr: 9.9950e-04\n",
            "Epoch 7/1000\n",
            "192/192 [==============================] - 2s 8ms/step - loss: 0.0389 - val_loss: 0.0392 - lr: 9.9940e-04\n",
            "Epoch 8/1000\n",
            "192/192 [==============================] - 2s 9ms/step - loss: 0.0382 - val_loss: 0.0386 - lr: 9.9930e-04\n",
            "Epoch 9/1000\n",
            "192/192 [==============================] - 2s 11ms/step - loss: 0.0376 - val_loss: 0.0381 - lr: 9.9920e-04\n",
            "Epoch 10/1000\n",
            "192/192 [==============================] - 3s 13ms/step - loss: 0.0370 - val_loss: 0.0375 - lr: 9.9910e-04\n",
            "Epoch 11/1000\n",
            "192/192 [==============================] - 2s 9ms/step - loss: 0.0367 - val_loss: 0.0381 - lr: 9.9900e-04\n",
            "Epoch 12/1000\n",
            "192/192 [==============================] - 2s 8ms/step - loss: 0.0364 - val_loss: 0.0371 - lr: 9.9890e-04\n",
            "Epoch 13/1000\n",
            "192/192 [==============================] - 2s 9ms/step - loss: 0.0362 - val_loss: 0.0369 - lr: 9.9879e-04\n",
            "Epoch 14/1000\n",
            "192/192 [==============================] - 2s 9ms/step - loss: 0.0360 - val_loss: 0.0365 - lr: 9.9869e-04\n",
            "Epoch 15/1000\n",
            "192/192 [==============================] - 2s 8ms/step - loss: 0.0358 - val_loss: 0.0365 - lr: 9.9859e-04\n",
            "Epoch 16/1000\n",
            "192/192 [==============================] - 2s 9ms/step - loss: 0.0356 - val_loss: 0.0364 - lr: 9.9849e-04\n",
            "Epoch 17/1000\n",
            "192/192 [==============================] - 3s 13ms/step - loss: 0.0356 - val_loss: 0.0363 - lr: 9.9839e-04\n",
            "Epoch 18/1000\n",
            "192/192 [==============================] - 2s 11ms/step - loss: 0.0353 - val_loss: 0.0364 - lr: 9.9829e-04\n",
            "Epoch 19/1000\n",
            "192/192 [==============================] - 2s 9ms/step - loss: 0.0353 - val_loss: 0.0361 - lr: 9.9819e-04\n",
            "Epoch 20/1000\n",
            "192/192 [==============================] - 2s 8ms/step - loss: 0.0352 - val_loss: 0.0363 - lr: 9.9809e-04\n",
            "Epoch 21/1000\n",
            "192/192 [==============================] - 2s 8ms/step - loss: 0.0351 - val_loss: 0.0360 - lr: 9.9799e-04\n",
            "Epoch 22/1000\n",
            "192/192 [==============================] - 2s 9ms/step - loss: 0.0350 - val_loss: 0.0361 - lr: 9.9789e-04\n",
            "Epoch 23/1000\n",
            "192/192 [==============================] - 2s 8ms/step - loss: 0.0349 - val_loss: 0.0359 - lr: 9.9779e-04\n",
            "Epoch 24/1000\n",
            "192/192 [==============================] - 2s 11ms/step - loss: 0.0348 - val_loss: 0.0358 - lr: 9.9769e-04\n",
            "Epoch 25/1000\n",
            "192/192 [==============================] - 2s 12ms/step - loss: 0.0347 - val_loss: 0.0356 - lr: 9.9759e-04\n",
            "Epoch 26/1000\n",
            "192/192 [==============================] - 2s 10ms/step - loss: 0.0346 - val_loss: 0.0356 - lr: 9.9749e-04\n",
            "Epoch 27/1000\n",
            "192/192 [==============================] - 2s 9ms/step - loss: 0.0345 - val_loss: 0.0357 - lr: 9.9739e-04\n",
            "Epoch 28/1000\n",
            "192/192 [==============================] - 2s 9ms/step - loss: 0.0345 - val_loss: 0.0358 - lr: 9.9729e-04\n",
            "Epoch 29/1000\n",
            "192/192 [==============================] - 2s 9ms/step - loss: 0.0344 - val_loss: 0.0355 - lr: 9.9719e-04\n",
            "Epoch 30/1000\n",
            "192/192 [==============================] - 2s 8ms/step - loss: 0.0344 - val_loss: 0.0354 - lr: 9.9709e-04\n",
            "Epoch 31/1000\n",
            "192/192 [==============================] - 2s 9ms/step - loss: 0.0343 - val_loss: 0.0354 - lr: 9.9699e-04\n",
            "Epoch 32/1000\n",
            "192/192 [==============================] - 2s 10ms/step - loss: 0.0343 - val_loss: 0.0353 - lr: 9.9689e-04\n",
            "Epoch 33/1000\n",
            "192/192 [==============================] - 2s 12ms/step - loss: 0.0342 - val_loss: 0.0352 - lr: 9.9679e-04\n",
            "Epoch 34/1000\n",
            "192/192 [==============================] - 2s 10ms/step - loss: 0.0341 - val_loss: 0.0352 - lr: 9.9669e-04\n",
            "Epoch 35/1000\n",
            "192/192 [==============================] - 2s 8ms/step - loss: 0.0341 - val_loss: 0.0353 - lr: 9.9659e-04\n",
            "Epoch 36/1000\n",
            "192/192 [==============================] - 2s 8ms/step - loss: 0.0340 - val_loss: 0.0352 - lr: 9.9649e-04\n",
            "Epoch 37/1000\n",
            "192/192 [==============================] - 2s 9ms/step - loss: 0.0340 - val_loss: 0.0351 - lr: 9.9639e-04\n",
            "Epoch 38/1000\n",
            "192/192 [==============================] - 2s 10ms/step - loss: 0.0340 - val_loss: 0.0350 - lr: 9.9629e-04\n",
            "Epoch 39/1000\n",
            "192/192 [==============================] - 3s 15ms/step - loss: 0.0339 - val_loss: 0.0350 - lr: 9.9619e-04\n",
            "Epoch 40/1000\n",
            "192/192 [==============================] - 4s 20ms/step - loss: 0.0339 - val_loss: 0.0349 - lr: 9.9609e-04\n",
            "Epoch 41/1000\n",
            "192/192 [==============================] - 3s 16ms/step - loss: 0.0337 - val_loss: 0.0349 - lr: 9.9599e-04\n",
            "Epoch 42/1000\n",
            "192/192 [==============================] - 2s 9ms/step - loss: 0.0338 - val_loss: 0.0351 - lr: 9.9589e-04\n",
            "Epoch 43/1000\n",
            "192/192 [==============================] - 2s 13ms/step - loss: 0.0338 - val_loss: 0.0356 - lr: 9.9579e-04\n",
            "Epoch 44/1000\n",
            "192/192 [==============================] - 3s 17ms/step - loss: 0.0337 - val_loss: 0.0348 - lr: 9.9569e-04\n",
            "Epoch 45/1000\n",
            "192/192 [==============================] - 3s 18ms/step - loss: 0.0337 - val_loss: 0.0349 - lr: 9.9559e-04\n",
            "Epoch 46/1000\n",
            "192/192 [==============================] - 4s 22ms/step - loss: 0.0336 - val_loss: 0.0346 - lr: 9.9549e-04\n",
            "Epoch 47/1000\n",
            "192/192 [==============================] - 3s 17ms/step - loss: 0.0336 - val_loss: 0.0348 - lr: 9.9539e-04\n",
            "Epoch 48/1000\n",
            "192/192 [==============================] - 3s 16ms/step - loss: 0.0336 - val_loss: 0.0346 - lr: 9.9529e-04\n",
            "Epoch 49/1000\n",
            "192/192 [==============================] - 4s 21ms/step - loss: 0.0335 - val_loss: 0.0349 - lr: 9.9519e-04\n",
            "Epoch 50/1000\n",
            "192/192 [==============================] - 4s 20ms/step - loss: 0.0334 - val_loss: 0.0346 - lr: 9.9509e-04\n",
            "Epoch 51/1000\n",
            "192/192 [==============================] - 3s 14ms/step - loss: 0.0337 - val_loss: 0.0346 - lr: 9.9499e-04\n",
            "Epoch 52/1000\n",
            "192/192 [==============================] - 3s 15ms/step - loss: 0.0334 - val_loss: 0.0349 - lr: 9.9489e-04\n",
            "Epoch 53/1000\n",
            "192/192 [==============================] - 2s 9ms/step - loss: 0.0334 - val_loss: 0.0352 - lr: 9.9479e-04\n",
            "Epoch 54/1000\n",
            "192/192 [==============================] - 2s 9ms/step - loss: 0.0333 - val_loss: 0.0346 - lr: 9.9469e-04\n",
            "Epoch 55/1000\n",
            "192/192 [==============================] - 2s 10ms/step - loss: 0.0333 - val_loss: 0.0345 - lr: 9.9459e-04\n",
            "Epoch 56/1000\n",
            "192/192 [==============================] - 2s 12ms/step - loss: 0.0333 - val_loss: 0.0349 - lr: 9.9449e-04\n",
            "Epoch 57/1000\n",
            "192/192 [==============================] - 3s 16ms/step - loss: 0.0333 - val_loss: 0.0346 - lr: 9.9439e-04\n",
            "Epoch 58/1000\n",
            "192/192 [==============================] - 2s 9ms/step - loss: 0.0332 - val_loss: 0.0345 - lr: 9.9429e-04\n",
            "Epoch 59/1000\n",
            "192/192 [==============================] - 2s 9ms/step - loss: 0.0332 - val_loss: 0.0353 - lr: 9.9419e-04\n",
            "Epoch 60/1000\n",
            "192/192 [==============================] - 2s 9ms/step - loss: 0.0332 - val_loss: 0.0344 - lr: 9.9409e-04\n",
            "Epoch 61/1000\n",
            "192/192 [==============================] - 2s 9ms/step - loss: 0.0331 - val_loss: 0.0343 - lr: 9.9399e-04\n",
            "Epoch 62/1000\n",
            "192/192 [==============================] - 2s 11ms/step - loss: 0.0331 - val_loss: 0.0346 - lr: 9.9389e-04\n",
            "Epoch 63/1000\n",
            "192/192 [==============================] - 3s 14ms/step - loss: 0.0331 - val_loss: 0.0343 - lr: 9.9379e-04\n",
            "Epoch 64/1000\n",
            "192/192 [==============================] - 2s 9ms/step - loss: 0.0330 - val_loss: 0.0346 - lr: 9.9369e-04\n",
            "Epoch 65/1000\n",
            "192/192 [==============================] - 2s 9ms/step - loss: 0.0331 - val_loss: 0.0342 - lr: 9.9359e-04\n",
            "Epoch 66/1000\n",
            "192/192 [==============================] - 2s 8ms/step - loss: 0.0330 - val_loss: 0.0344 - lr: 9.9349e-04\n",
            "Epoch 67/1000\n",
            "192/192 [==============================] - 2s 11ms/step - loss: 0.0331 - val_loss: 0.0342 - lr: 9.9339e-04\n",
            "Epoch 68/1000\n",
            "192/192 [==============================] - 2s 9ms/step - loss: 0.0330 - val_loss: 0.0342 - lr: 9.9329e-04\n",
            "Epoch 69/1000\n",
            "192/192 [==============================] - 2s 11ms/step - loss: 0.0329 - val_loss: 0.0341 - lr: 9.9319e-04\n",
            "Epoch 70/1000\n",
            "192/192 [==============================] - 2s 12ms/step - loss: 0.0329 - val_loss: 0.0340 - lr: 9.9309e-04\n",
            "Epoch 71/1000\n",
            "192/192 [==============================] - 3s 15ms/step - loss: 0.0329 - val_loss: 0.0342 - lr: 9.9299e-04\n",
            "Epoch 72/1000\n",
            "192/192 [==============================] - 3s 14ms/step - loss: 0.0329 - val_loss: 0.0345 - lr: 9.9289e-04\n",
            "Epoch 73/1000\n",
            "192/192 [==============================] - 3s 15ms/step - loss: 0.0328 - val_loss: 0.0340 - lr: 9.9279e-04\n",
            "Epoch 74/1000\n",
            "192/192 [==============================] - 2s 9ms/step - loss: 0.0328 - val_loss: 0.0341 - lr: 9.9269e-04\n",
            "Epoch 75/1000\n",
            "192/192 [==============================] - 2s 9ms/step - loss: 0.0328 - val_loss: 0.0339 - lr: 9.9259e-04\n",
            "Epoch 76/1000\n",
            "192/192 [==============================] - 3s 14ms/step - loss: 0.0328 - val_loss: 0.0340 - lr: 9.9249e-04\n",
            "Epoch 77/1000\n",
            "192/192 [==============================] - 2s 11ms/step - loss: 0.0328 - val_loss: 0.0338 - lr: 9.9239e-04\n",
            "Epoch 78/1000\n",
            "192/192 [==============================] - 2s 9ms/step - loss: 0.0327 - val_loss: 0.0344 - lr: 9.9229e-04\n",
            "Epoch 79/1000\n",
            "192/192 [==============================] - 2s 9ms/step - loss: 0.0328 - val_loss: 0.0340 - lr: 9.9219e-04\n",
            "Epoch 80/1000\n",
            "192/192 [==============================] - 2s 9ms/step - loss: 0.0327 - val_loss: 0.0339 - lr: 9.9209e-04\n",
            "Epoch 81/1000\n",
            "192/192 [==============================] - 2s 9ms/step - loss: 0.0327 - val_loss: 0.0341 - lr: 9.9199e-04\n",
            "Epoch 82/1000\n",
            "192/192 [==============================] - 2s 9ms/step - loss: 0.0327 - val_loss: 0.0341 - lr: 9.9189e-04\n",
            "Epoch 83/1000\n",
            "192/192 [==============================] - 2s 11ms/step - loss: 0.0327 - val_loss: 0.0339 - lr: 9.9179e-04\n",
            "Epoch 84/1000\n",
            "192/192 [==============================] - 2s 12ms/step - loss: 0.0326 - val_loss: 0.0353 - lr: 9.9169e-04\n",
            "Epoch 85/1000\n",
            "192/192 [==============================] - 2s 10ms/step - loss: 0.0326 - val_loss: 0.0340 - lr: 9.9159e-04\n",
            "Epoch 86/1000\n",
            "192/192 [==============================] - 2s 10ms/step - loss: 0.0326 - val_loss: 0.0338 - lr: 9.9149e-04\n",
            "Epoch 87/1000\n",
            "192/192 [==============================] - 3s 15ms/step - loss: 0.0325 - val_loss: 0.0339 - lr: 9.9139e-04\n",
            "Epoch 88/1000\n",
            "192/192 [==============================] - 2s 13ms/step - loss: 0.0326 - val_loss: 0.0339 - lr: 9.9129e-04\n",
            "Epoch 89/1000\n",
            "192/192 [==============================] - 2s 8ms/step - loss: 0.0325 - val_loss: 0.0337 - lr: 9.9119e-04\n",
            "Epoch 90/1000\n",
            "192/192 [==============================] - 2s 12ms/step - loss: 0.0325 - val_loss: 0.0338 - lr: 9.9110e-04\n",
            "Epoch 91/1000\n",
            "192/192 [==============================] - 3s 18ms/step - loss: 0.0325 - val_loss: 0.0345 - lr: 9.9100e-04\n",
            "Epoch 92/1000\n",
            "192/192 [==============================] - 3s 17ms/step - loss: 0.0326 - val_loss: 0.0338 - lr: 9.9090e-04\n",
            "Epoch 93/1000\n",
            "192/192 [==============================] - 3s 17ms/step - loss: 0.0324 - val_loss: 0.0339 - lr: 9.9080e-04\n",
            "Epoch 94/1000\n",
            "192/192 [==============================] - 3s 16ms/step - loss: 0.0325 - val_loss: 0.0336 - lr: 9.9070e-04\n",
            "Epoch 95/1000\n",
            "192/192 [==============================] - 3s 17ms/step - loss: 0.0324 - val_loss: 0.0343 - lr: 9.9060e-04\n",
            "Epoch 96/1000\n",
            "192/192 [==============================] - 3s 15ms/step - loss: 0.0325 - val_loss: 0.0336 - lr: 9.9050e-04\n",
            "Epoch 97/1000\n",
            "192/192 [==============================] - 2s 10ms/step - loss: 0.0324 - val_loss: 0.0337 - lr: 9.9040e-04\n",
            "Epoch 98/1000\n",
            "192/192 [==============================] - 2s 9ms/step - loss: 0.0324 - val_loss: 0.0338 - lr: 9.9030e-04\n",
            "Epoch 99/1000\n",
            "192/192 [==============================] - 2s 9ms/step - loss: 0.0323 - val_loss: 0.0338 - lr: 9.9020e-04\n",
            "Epoch 100/1000\n",
            "192/192 [==============================] - 2s 9ms/step - loss: 0.0324 - val_loss: 0.0337 - lr: 9.9010e-04\n",
            "Epoch 101/1000\n",
            "192/192 [==============================] - 2s 9ms/step - loss: 0.0324 - val_loss: 0.0337 - lr: 9.9000e-04\n",
            "Epoch 102/1000\n",
            "192/192 [==============================] - 2s 12ms/step - loss: 0.0324 - val_loss: 0.0341 - lr: 9.8990e-04\n",
            "Epoch 103/1000\n",
            "192/192 [==============================] - 2s 12ms/step - loss: 0.0323 - val_loss: 0.0336 - lr: 9.8980e-04\n",
            "Epoch 104/1000\n",
            "192/192 [==============================] - 2s 10ms/step - loss: 0.0323 - val_loss: 0.0339 - lr: 9.8970e-04\n",
            "Epoch 105/1000\n",
            "192/192 [==============================] - 2s 8ms/step - loss: 0.0323 - val_loss: 0.0336 - lr: 9.8960e-04\n",
            "Epoch 106/1000\n",
            "192/192 [==============================] - 2s 9ms/step - loss: 0.0322 - val_loss: 0.0339 - lr: 9.8950e-04\n",
            "Epoch 107/1000\n",
            "192/192 [==============================] - 2s 9ms/step - loss: 0.0323 - val_loss: 0.0336 - lr: 9.8940e-04\n",
            "Epoch 108/1000\n",
            "192/192 [==============================] - 2s 9ms/step - loss: 0.0324 - val_loss: 0.0334 - lr: 9.8930e-04\n",
            "Epoch 109/1000\n",
            "192/192 [==============================] - 2s 8ms/step - loss: 0.0322 - val_loss: 0.0336 - lr: 9.8920e-04\n",
            "Epoch 110/1000\n",
            "192/192 [==============================] - 2s 13ms/step - loss: 0.0323 - val_loss: 0.0337 - lr: 9.8910e-04\n",
            "Epoch 111/1000\n",
            "192/192 [==============================] - 2s 12ms/step - loss: 0.0323 - val_loss: 0.0336 - lr: 9.8901e-04\n",
            "Epoch 112/1000\n",
            "192/192 [==============================] - 2s 9ms/step - loss: 0.0322 - val_loss: 0.0336 - lr: 9.8891e-04\n",
            "Epoch 113/1000\n",
            "192/192 [==============================] - 2s 13ms/step - loss: 0.0321 - val_loss: 0.0337 - lr: 9.8881e-04\n",
            "Epoch 114/1000\n",
            "192/192 [==============================] - 3s 18ms/step - loss: 0.0322 - val_loss: 0.0335 - lr: 9.8871e-04\n",
            "Epoch 115/1000\n",
            "192/192 [==============================] - 2s 9ms/step - loss: 0.0322 - val_loss: 0.0335 - lr: 9.8861e-04\n",
            "Epoch 116/1000\n",
            "192/192 [==============================] - 2s 13ms/step - loss: 0.0322 - val_loss: 0.0334 - lr: 9.8851e-04\n",
            "Epoch 117/1000\n",
            "192/192 [==============================] - 2s 12ms/step - loss: 0.0321 - val_loss: 0.0338 - lr: 9.8841e-04\n",
            "Epoch 118/1000\n",
            "192/192 [==============================] - 2s 9ms/step - loss: 0.0323 - val_loss: 0.0334 - lr: 9.8831e-04\n",
            "Epoch 119/1000\n",
            "192/192 [==============================] - 2s 9ms/step - loss: 0.0321 - val_loss: 0.0334 - lr: 9.8821e-04\n",
            "Epoch 120/1000\n",
            "192/192 [==============================] - 2s 9ms/step - loss: 0.0321 - val_loss: 0.0334 - lr: 9.8811e-04\n",
            "Epoch 121/1000\n",
            "192/192 [==============================] - 2s 9ms/step - loss: 0.0322 - val_loss: 0.0343 - lr: 9.8801e-04\n",
            "Epoch 122/1000\n",
            "192/192 [==============================] - 2s 9ms/step - loss: 0.0321 - val_loss: 0.0336 - lr: 9.8791e-04\n",
            "Epoch 123/1000\n",
            "192/192 [==============================] - 2s 9ms/step - loss: 0.0321 - val_loss: 0.0333 - lr: 9.8781e-04\n",
            "Epoch 124/1000\n",
            "192/192 [==============================] - 2s 12ms/step - loss: 0.0321 - val_loss: 0.0335 - lr: 9.8771e-04\n",
            "Epoch 125/1000\n",
            "192/192 [==============================] - 2s 12ms/step - loss: 0.0321 - val_loss: 0.0332 - lr: 9.8761e-04\n",
            "Epoch 126/1000\n",
            "192/192 [==============================] - 2s 9ms/step - loss: 0.0321 - val_loss: 0.0333 - lr: 9.8752e-04\n",
            "Epoch 127/1000\n",
            "192/192 [==============================] - 2s 9ms/step - loss: 0.0320 - val_loss: 0.0334 - lr: 9.8742e-04\n",
            "Epoch 128/1000\n",
            "192/192 [==============================] - 2s 8ms/step - loss: 0.0321 - val_loss: 0.0333 - lr: 9.8732e-04\n",
            "Epoch 129/1000\n",
            "192/192 [==============================] - 2s 9ms/step - loss: 0.0320 - val_loss: 0.0333 - lr: 9.8722e-04\n",
            "Epoch 130/1000\n",
            "192/192 [==============================] - 2s 12ms/step - loss: 0.0320 - val_loss: 0.0333 - lr: 9.8712e-04\n",
            "Epoch 131/1000\n",
            "192/192 [==============================] - 3s 14ms/step - loss: 0.0320 - val_loss: 0.0334 - lr: 9.8702e-04\n",
            "Epoch 132/1000\n",
            "192/192 [==============================] - 3s 14ms/step - loss: 0.0320 - val_loss: 0.0334 - lr: 9.8692e-04\n",
            "Epoch 133/1000\n",
            "192/192 [==============================] - 2s 10ms/step - loss: 0.0320 - val_loss: 0.0335 - lr: 9.8682e-04\n",
            "Epoch 134/1000\n",
            "192/192 [==============================] - 2s 9ms/step - loss: 0.0320 - val_loss: 0.0334 - lr: 9.8672e-04\n",
            "Epoch 135/1000\n",
            "192/192 [==============================] - 2s 9ms/step - loss: 0.0320 - val_loss: 0.0337 - lr: 9.8662e-04\n",
            "Epoch 136/1000\n",
            "192/192 [==============================] - 2s 9ms/step - loss: 0.0320 - val_loss: 0.0333 - lr: 9.8652e-04\n",
            "Epoch 137/1000\n",
            "192/192 [==============================] - 2s 9ms/step - loss: 0.0319 - val_loss: 0.0332 - lr: 9.8642e-04\n",
            "Epoch 138/1000\n",
            "192/192 [==============================] - 2s 9ms/step - loss: 0.0319 - val_loss: 0.0333 - lr: 9.8633e-04\n",
            "Epoch 139/1000\n",
            "192/192 [==============================] - 2s 13ms/step - loss: 0.0319 - val_loss: 0.0338 - lr: 9.8623e-04\n",
            "Epoch 140/1000\n",
            "192/192 [==============================] - 2s 13ms/step - loss: 0.0319 - val_loss: 0.0336 - lr: 9.8613e-04\n",
            "Epoch 141/1000\n",
            "192/192 [==============================] - 2s 9ms/step - loss: 0.0319 - val_loss: 0.0332 - lr: 9.8603e-04\n",
            "Epoch 142/1000\n",
            "192/192 [==============================] - 2s 9ms/step - loss: 0.0319 - val_loss: 0.0332 - lr: 9.8593e-04\n",
            "Epoch 143/1000\n",
            "192/192 [==============================] - 2s 9ms/step - loss: 0.0319 - val_loss: 0.0332 - lr: 9.8583e-04\n",
            "Epoch 144/1000\n",
            "192/192 [==============================] - 2s 9ms/step - loss: 0.0320 - val_loss: 0.0339 - lr: 9.8573e-04\n",
            "Epoch 145/1000\n",
            "192/192 [==============================] - 2s 9ms/step - loss: 0.0318 - val_loss: 0.0334 - lr: 9.8563e-04\n",
            "Epoch 146/1000\n",
            "192/192 [==============================] - 2s 8ms/step - loss: 0.0319 - val_loss: 0.0333 - lr: 9.8553e-04\n",
            "Epoch 147/1000\n",
            "192/192 [==============================] - 4s 21ms/step - loss: 0.0318 - val_loss: 0.0336 - lr: 9.8543e-04\n",
            "Epoch 148/1000\n",
            "192/192 [==============================] - 2s 11ms/step - loss: 0.0319 - val_loss: 0.0334 - lr: 9.8533e-04\n",
            "Epoch 149/1000\n",
            "192/192 [==============================] - 2s 9ms/step - loss: 0.0318 - val_loss: 0.0334 - lr: 9.8524e-04\n",
            "Epoch 150/1000\n",
            "192/192 [==============================] - 2s 9ms/step - loss: 0.0319 - val_loss: 0.0332 - lr: 9.8514e-04\n",
            "Epoch 151/1000\n",
            "192/192 [==============================] - 2s 8ms/step - loss: 0.0319 - val_loss: 0.0335 - lr: 9.8504e-04\n",
            "Epoch 152/1000\n",
            "192/192 [==============================] - 2s 9ms/step - loss: 0.0318 - val_loss: 0.0330 - lr: 9.8494e-04\n",
            "Epoch 153/1000\n",
            "192/192 [==============================] - 2s 9ms/step - loss: 0.0318 - val_loss: 0.0331 - lr: 9.8484e-04\n",
            "Epoch 154/1000\n",
            "192/192 [==============================] - 2s 11ms/step - loss: 0.0318 - val_loss: 0.0333 - lr: 9.8474e-04\n",
            "Epoch 155/1000\n",
            "192/192 [==============================] - 2s 12ms/step - loss: 0.0318 - val_loss: 0.0331 - lr: 9.8464e-04\n",
            "Epoch 156/1000\n",
            "192/192 [==============================] - 2s 11ms/step - loss: 0.0318 - val_loss: 0.0335 - lr: 9.8454e-04\n",
            "Epoch 157/1000\n",
            "192/192 [==============================] - 2s 9ms/step - loss: 0.0318 - val_loss: 0.0332 - lr: 9.8444e-04\n",
            "Epoch 158/1000\n",
            "192/192 [==============================] - 2s 9ms/step - loss: 0.0318 - val_loss: 0.0334 - lr: 9.8434e-04\n",
            "Epoch 159/1000\n",
            "192/192 [==============================] - 2s 8ms/step - loss: 0.0318 - val_loss: 0.0331 - lr: 9.8425e-04\n",
            "Epoch 160/1000\n",
            "192/192 [==============================] - 2s 9ms/step - loss: 0.0318 - val_loss: 0.0331 - lr: 9.8415e-04\n",
            "Epoch 161/1000\n",
            "192/192 [==============================] - 2s 9ms/step - loss: 0.0317 - val_loss: 0.0334 - lr: 9.8405e-04\n",
            "Epoch 162/1000\n",
            "192/192 [==============================] - 2s 12ms/step - loss: 0.0317 - val_loss: 0.0332 - lr: 9.8395e-04\n",
            "Epoch 163/1000\n",
            "192/192 [==============================] - 2s 12ms/step - loss: 0.0317 - val_loss: 0.0332 - lr: 9.8385e-04\n",
            "Epoch 164/1000\n",
            "192/192 [==============================] - 3s 13ms/step - loss: 0.0317 - val_loss: 0.0331 - lr: 9.8375e-04\n",
            "Epoch 165/1000\n",
            "192/192 [==============================] - 2s 9ms/step - loss: 0.0317 - val_loss: 0.0332 - lr: 9.8365e-04\n",
            "Epoch 166/1000\n",
            "192/192 [==============================] - 2s 9ms/step - loss: 0.0318 - val_loss: 0.0336 - lr: 9.8355e-04\n",
            "Epoch 167/1000\n",
            "192/192 [==============================] - 2s 9ms/step - loss: 0.0317 - val_loss: 0.0332 - lr: 9.8345e-04\n",
            "Epoch 168/1000\n",
            "192/192 [==============================] - 2s 9ms/step - loss: 0.0317 - val_loss: 0.0334 - lr: 9.8336e-04\n",
            "Epoch 169/1000\n",
            "192/192 [==============================] - 2s 10ms/step - loss: 0.0317 - val_loss: 0.0333 - lr: 9.8326e-04\n",
            "Epoch 170/1000\n",
            "192/192 [==============================] - 2s 12ms/step - loss: 0.0317 - val_loss: 0.0333 - lr: 9.8316e-04\n",
            "Epoch 171/1000\n",
            "192/192 [==============================] - 2s 11ms/step - loss: 0.0317 - val_loss: 0.0333 - lr: 9.8306e-04\n",
            "Epoch 172/1000\n",
            "192/192 [==============================] - 2s 9ms/step - loss: 0.0317 - val_loss: 0.0331 - lr: 9.8296e-04\n",
            "Epoch 173/1000\n",
            "192/192 [==============================] - 2s 8ms/step - loss: 0.0317 - val_loss: 0.0334 - lr: 9.8286e-04\n",
            "Epoch 174/1000\n",
            "192/192 [==============================] - 2s 9ms/step - loss: 0.0317 - val_loss: 0.0331 - lr: 9.8276e-04\n",
            "Epoch 175/1000\n",
            "192/192 [==============================] - 2s 9ms/step - loss: 0.0317 - val_loss: 0.0330 - lr: 9.8266e-04\n",
            "Epoch 176/1000\n",
            "192/192 [==============================] - 2s 9ms/step - loss: 0.0317 - val_loss: 0.0331 - lr: 9.8257e-04\n",
            "Epoch 177/1000\n",
            "192/192 [==============================] - 2s 12ms/step - loss: 0.0317 - val_loss: 0.0332 - lr: 9.8247e-04\n",
            "Epoch 178/1000\n",
            "192/192 [==============================] - 2s 12ms/step - loss: 0.0316 - val_loss: 0.0330 - lr: 9.8237e-04\n",
            "Epoch 179/1000\n",
            "192/192 [==============================] - 2s 10ms/step - loss: 0.0316 - val_loss: 0.0331 - lr: 9.8227e-04\n",
            "Epoch 180/1000\n",
            "192/192 [==============================] - 2s 9ms/step - loss: 0.0316 - val_loss: 0.0331 - lr: 9.8217e-04\n",
            "Epoch 181/1000\n",
            "192/192 [==============================] - 2s 9ms/step - loss: 0.0317 - val_loss: 0.0332 - lr: 9.8207e-04\n",
            "Epoch 182/1000\n",
            "192/192 [==============================] - 2s 9ms/step - loss: 0.0316 - val_loss: 0.0332 - lr: 9.8197e-04\n",
            "Epoch 183/1000\n",
            "192/192 [==============================] - 2s 9ms/step - loss: 0.0316 - val_loss: 0.0333 - lr: 9.8187e-04\n",
            "Epoch 184/1000\n",
            "192/192 [==============================] - 2s 9ms/step - loss: 0.0317 - val_loss: 0.0332 - lr: 9.8178e-04\n",
            "Epoch 185/1000\n",
            "192/192 [==============================] - 2s 12ms/step - loss: 0.0316 - val_loss: 0.0330 - lr: 9.8168e-04\n",
            "Epoch 186/1000\n",
            "192/192 [==============================] - 2s 13ms/step - loss: 0.0316 - val_loss: 0.0332 - lr: 9.8158e-04\n",
            "Epoch 187/1000\n",
            "192/192 [==============================] - 2s 9ms/step - loss: 0.0316 - val_loss: 0.0329 - lr: 9.8148e-04\n",
            "Epoch 188/1000\n",
            "192/192 [==============================] - 2s 9ms/step - loss: 0.0316 - val_loss: 0.0331 - lr: 9.8138e-04\n",
            "Epoch 189/1000\n",
            "192/192 [==============================] - 2s 9ms/step - loss: 0.0316 - val_loss: 0.0331 - lr: 9.8128e-04\n",
            "Epoch 190/1000\n",
            "192/192 [==============================] - 2s 9ms/step - loss: 0.0316 - val_loss: 0.0330 - lr: 9.8118e-04\n",
            "Epoch 191/1000\n",
            "192/192 [==============================] - 2s 9ms/step - loss: 0.0315 - val_loss: 0.0330 - lr: 9.8109e-04\n",
            "Epoch 192/1000\n",
            "192/192 [==============================] - 2s 9ms/step - loss: 0.0316 - val_loss: 0.0334 - lr: 9.8099e-04\n",
            "Epoch 193/1000\n",
            "192/192 [==============================] - 3s 14ms/step - loss: 0.0316 - val_loss: 0.0331 - lr: 9.8089e-04\n",
            "Epoch 194/1000\n",
            "192/192 [==============================] - 2s 11ms/step - loss: 0.0315 - val_loss: 0.0330 - lr: 9.8079e-04\n",
            "Epoch 195/1000\n",
            "192/192 [==============================] - 2s 9ms/step - loss: 0.0315 - val_loss: 0.0330 - lr: 9.8069e-04\n",
            "Epoch 196/1000\n",
            "192/192 [==============================] - 2s 9ms/step - loss: 0.0316 - val_loss: 0.0331 - lr: 9.8059e-04\n",
            "Epoch 197/1000\n",
            "192/192 [==============================] - 2s 8ms/step - loss: 0.0315 - val_loss: 0.0331 - lr: 9.8049e-04\n",
            "Epoch 198/1000\n",
            "192/192 [==============================] - 2s 9ms/step - loss: 0.0317 - val_loss: 0.0331 - lr: 9.8040e-04\n",
            "Epoch 199/1000\n",
            "192/192 [==============================] - 2s 9ms/step - loss: 0.0315 - val_loss: 0.0331 - lr: 9.8030e-04\n",
            "Epoch 200/1000\n",
            "192/192 [==============================] - 2s 11ms/step - loss: 0.0315 - val_loss: 0.0329 - lr: 9.8020e-04\n",
            "Epoch 201/1000\n",
            "192/192 [==============================] - 2s 12ms/step - loss: 0.0316 - val_loss: 0.0331 - lr: 9.8010e-04\n",
            "Epoch 202/1000\n",
            "192/192 [==============================] - 2s 10ms/step - loss: 0.0315 - val_loss: 0.0330 - lr: 9.8000e-04\n",
            "Epoch 203/1000\n",
            "192/192 [==============================] - 2s 11ms/step - loss: 0.0315 - val_loss: 0.0331 - lr: 9.7990e-04\n",
            "Epoch 204/1000\n",
            "192/192 [==============================] - 2s 9ms/step - loss: 0.0315 - val_loss: 0.0331 - lr: 9.7980e-04\n",
            "Epoch 205/1000\n",
            "192/192 [==============================] - 2s 9ms/step - loss: 0.0316 - val_loss: 0.0330 - lr: 9.7971e-04\n",
            "Epoch 206/1000\n",
            "192/192 [==============================] - 2s 9ms/step - loss: 0.0315 - val_loss: 0.0332 - lr: 9.7961e-04\n",
            "Epoch 207/1000\n",
            "192/192 [==============================] - 2s 9ms/step - loss: 0.0315 - val_loss: 0.0331 - lr: 9.7951e-04\n",
            "Epoch 208/1000\n",
            "192/192 [==============================] - 3s 14ms/step - loss: 0.0315 - val_loss: 0.0329 - lr: 9.7941e-04\n",
            "Epoch 209/1000\n",
            "192/192 [==============================] - 2s 12ms/step - loss: 0.0315 - val_loss: 0.0330 - lr: 9.7931e-04\n",
            "Epoch 210/1000\n",
            "192/192 [==============================] - 2s 9ms/step - loss: 0.0314 - val_loss: 0.0330 - lr: 9.7921e-04\n",
            "Epoch 211/1000\n",
            "192/192 [==============================] - 2s 9ms/step - loss: 0.0315 - val_loss: 0.0331 - lr: 9.7912e-04\n",
            "Epoch 212/1000\n",
            "192/192 [==============================] - 2s 9ms/step - loss: 0.0314 - val_loss: 0.0330 - lr: 9.7902e-04\n",
            "Epoch 213/1000\n",
            "192/192 [==============================] - 2s 9ms/step - loss: 0.0315 - val_loss: 0.0331 - lr: 9.7892e-04\n",
            "Epoch 214/1000\n",
            "192/192 [==============================] - 2s 9ms/step - loss: 0.0315 - val_loss: 0.0329 - lr: 9.7882e-04\n",
            "Epoch 215/1000\n",
            "192/192 [==============================] - 2s 10ms/step - loss: 0.0314 - val_loss: 0.0330 - lr: 9.7872e-04\n",
            "Epoch 216/1000\n",
            "192/192 [==============================] - 3s 14ms/step - loss: 0.0315 - val_loss: 0.0332 - lr: 9.7862e-04\n",
            "Epoch 217/1000\n",
            "192/192 [==============================] - 2s 10ms/step - loss: 0.0315 - val_loss: 0.0329 - lr: 9.7853e-04\n",
            "Epoch 218/1000\n",
            "192/192 [==============================] - 2s 9ms/step - loss: 0.0315 - val_loss: 0.0331 - lr: 9.7843e-04\n",
            "Epoch 219/1000\n",
            "192/192 [==============================] - 2s 9ms/step - loss: 0.0315 - val_loss: 0.0331 - lr: 9.7833e-04\n",
            "Epoch 220/1000\n",
            "192/192 [==============================] - 2s 9ms/step - loss: 0.0314 - val_loss: 0.0329 - lr: 9.7823e-04\n",
            "Epoch 221/1000\n",
            "192/192 [==============================] - 2s 9ms/step - loss: 0.0314 - val_loss: 0.0330 - lr: 9.7813e-04\n",
            "Epoch 222/1000\n",
            "192/192 [==============================] - 2s 9ms/step - loss: 0.0315 - val_loss: 0.0328 - lr: 9.7803e-04\n",
            "Epoch 223/1000\n",
            "192/192 [==============================] - 3s 13ms/step - loss: 0.0314 - val_loss: 0.0328 - lr: 9.7794e-04\n",
            "Epoch 224/1000\n",
            "192/192 [==============================] - 2s 12ms/step - loss: 0.0314 - val_loss: 0.0331 - lr: 9.7784e-04\n",
            "Epoch 225/1000\n",
            "192/192 [==============================] - 2s 9ms/step - loss: 0.0314 - val_loss: 0.0328 - lr: 9.7774e-04\n",
            "Epoch 226/1000\n",
            "192/192 [==============================] - 2s 9ms/step - loss: 0.0314 - val_loss: 0.0330 - lr: 9.7764e-04\n",
            "Epoch 227/1000\n",
            "192/192 [==============================] - 2s 9ms/step - loss: 0.0314 - val_loss: 0.0327 - lr: 9.7754e-04\n",
            "Epoch 228/1000\n",
            "192/192 [==============================] - 2s 9ms/step - loss: 0.0314 - val_loss: 0.0330 - lr: 9.7744e-04\n",
            "Epoch 229/1000\n",
            "192/192 [==============================] - 2s 9ms/step - loss: 0.0314 - val_loss: 0.0328 - lr: 9.7735e-04\n",
            "Epoch 230/1000\n",
            "192/192 [==============================] - 2s 10ms/step - loss: 0.0314 - val_loss: 0.0335 - lr: 9.7725e-04\n",
            "Epoch 231/1000\n",
            "192/192 [==============================] - 3s 13ms/step - loss: 0.0315 - val_loss: 0.0328 - lr: 9.7715e-04\n",
            "Epoch 232/1000\n",
            "192/192 [==============================] - 2s 10ms/step - loss: 0.0314 - val_loss: 0.0329 - lr: 9.7705e-04\n",
            "Epoch 233/1000\n",
            "192/192 [==============================] - 2s 9ms/step - loss: 0.0314 - val_loss: 0.0329 - lr: 9.7695e-04\n",
            "Epoch 234/1000\n",
            "192/192 [==============================] - 2s 9ms/step - loss: 0.0314 - val_loss: 0.0328 - lr: 9.7685e-04\n",
            "Epoch 235/1000\n",
            "192/192 [==============================] - 2s 9ms/step - loss: 0.0314 - val_loss: 0.0331 - lr: 9.7676e-04\n",
            "Epoch 236/1000\n",
            "192/192 [==============================] - 2s 9ms/step - loss: 0.0314 - val_loss: 0.0332 - lr: 9.7666e-04\n",
            "Epoch 237/1000\n",
            "192/192 [==============================] - 2s 9ms/step - loss: 0.0314 - val_loss: 0.0329 - lr: 9.7656e-04\n",
            "Epoch 238/1000\n",
            "192/192 [==============================] - 2s 11ms/step - loss: 0.0314 - val_loss: 0.0329 - lr: 9.7646e-04\n",
            "Epoch 239/1000\n",
            "192/192 [==============================] - 2s 12ms/step - loss: 0.0314 - val_loss: 0.0329 - lr: 9.7636e-04\n",
            "Epoch 240/1000\n",
            "192/192 [==============================] - 2s 10ms/step - loss: 0.0314 - val_loss: 0.0330 - lr: 9.7627e-04\n",
            "Epoch 241/1000\n",
            "192/192 [==============================] - 2s 9ms/step - loss: 0.0313 - val_loss: 0.0328 - lr: 9.7617e-04\n",
            "Epoch 242/1000\n",
            "192/192 [==============================] - 2s 9ms/step - loss: 0.0314 - val_loss: 0.0339 - lr: 9.7607e-04\n",
            "Epoch 243/1000\n",
            "192/192 [==============================] - 2s 9ms/step - loss: 0.0314 - val_loss: 0.0327 - lr: 9.7597e-04\n",
            "Epoch 244/1000\n",
            "192/192 [==============================] - 2s 9ms/step - loss: 0.0314 - val_loss: 0.0328 - lr: 9.7587e-04\n",
            "Epoch 245/1000\n",
            "192/192 [==============================] - 2s 9ms/step - loss: 0.0313 - val_loss: 0.0329 - lr: 9.7578e-04\n",
            "Epoch 246/1000\n",
            "192/192 [==============================] - 2s 12ms/step - loss: 0.0314 - val_loss: 0.0330 - lr: 9.7568e-04\n",
            "Epoch 247/1000\n",
            "192/192 [==============================] - 3s 14ms/step - loss: 0.0314 - val_loss: 0.0331 - lr: 9.7558e-04\n",
            "Epoch 248/1000\n",
            "192/192 [==============================] - 2s 9ms/step - loss: 0.0313 - val_loss: 0.0330 - lr: 9.7548e-04\n",
            "Epoch 249/1000\n",
            "192/192 [==============================] - 2s 9ms/step - loss: 0.0313 - val_loss: 0.0328 - lr: 9.7538e-04\n",
            "Epoch 250/1000\n",
            "192/192 [==============================] - 2s 9ms/step - loss: 0.0313 - val_loss: 0.0327 - lr: 9.7529e-04\n",
            "Epoch 251/1000\n",
            "192/192 [==============================] - 2s 9ms/step - loss: 0.0314 - val_loss: 0.0328 - lr: 9.7519e-04\n",
            "Epoch 252/1000\n",
            "192/192 [==============================] - 2s 9ms/step - loss: 0.0313 - val_loss: 0.0332 - lr: 9.7509e-04\n",
            "Epoch 253/1000\n",
            "192/192 [==============================] - 2s 11ms/step - loss: 0.0313 - val_loss: 0.0330 - lr: 9.7499e-04\n",
            "Epoch 254/1000\n",
            "192/192 [==============================] - 3s 14ms/step - loss: 0.0314 - val_loss: 0.0327 - lr: 9.7489e-04\n",
            "Epoch 255/1000\n",
            "192/192 [==============================] - 2s 10ms/step - loss: 0.0313 - val_loss: 0.0329 - lr: 9.7480e-04\n",
            "Epoch 256/1000\n",
            "192/192 [==============================] - 2s 9ms/step - loss: 0.0314 - val_loss: 0.0327 - lr: 9.7470e-04\n",
            "Epoch 257/1000\n",
            "192/192 [==============================] - 2s 9ms/step - loss: 0.0313 - val_loss: 0.0330 - lr: 9.7460e-04\n",
            "Epoch 258/1000\n",
            "192/192 [==============================] - 2s 9ms/step - loss: 0.0313 - val_loss: 0.0328 - lr: 9.7450e-04\n",
            "Epoch 259/1000\n",
            "192/192 [==============================] - 2s 9ms/step - loss: 0.0313 - val_loss: 0.0328 - lr: 9.7440e-04\n",
            "Epoch 260/1000\n",
            "192/192 [==============================] - 2s 9ms/step - loss: 0.0313 - val_loss: 0.0334 - lr: 9.7431e-04\n",
            "Epoch 261/1000\n",
            "192/192 [==============================] - 3s 13ms/step - loss: 0.0314 - val_loss: 0.0327 - lr: 9.7421e-04\n",
            "Epoch 262/1000\n",
            "192/192 [==============================] - 2s 12ms/step - loss: 0.0313 - val_loss: 0.0329 - lr: 9.7411e-04\n",
            "Epoch 263/1000\n",
            "192/192 [==============================] - 2s 9ms/step - loss: 0.0313 - val_loss: 0.0327 - lr: 9.7401e-04\n",
            "Epoch 264/1000\n",
            "192/192 [==============================] - 2s 9ms/step - loss: 0.0314 - val_loss: 0.0330 - lr: 9.7391e-04\n",
            "Epoch 265/1000\n",
            "192/192 [==============================] - 2s 9ms/step - loss: 0.0313 - val_loss: 0.0328 - lr: 9.7382e-04\n",
            "Epoch 266/1000\n",
            "192/192 [==============================] - 2s 9ms/step - loss: 0.0313 - val_loss: 0.0328 - lr: 9.7372e-04\n",
            "Epoch 267/1000\n",
            "192/192 [==============================] - 2s 9ms/step - loss: 0.0313 - val_loss: 0.0329 - lr: 9.7362e-04\n",
            "Epoch 268/1000\n",
            "192/192 [==============================] - 2s 11ms/step - loss: 0.0313 - val_loss: 0.0328 - lr: 9.7352e-04\n",
            "Epoch 269/1000\n",
            "192/192 [==============================] - 3s 14ms/step - loss: 0.0312 - val_loss: 0.0329 - lr: 9.7342e-04\n",
            "Epoch 270/1000\n",
            "192/192 [==============================] - 2s 10ms/step - loss: 0.0314 - val_loss: 0.0328 - lr: 9.7333e-04\n",
            "Epoch 271/1000\n",
            "192/192 [==============================] - 2s 9ms/step - loss: 0.0313 - val_loss: 0.0331 - lr: 9.7323e-04\n",
            "Epoch 272/1000\n",
            "192/192 [==============================] - 2s 9ms/step - loss: 0.0313 - val_loss: 0.0328 - lr: 9.7313e-04\n",
            "Epoch 273/1000\n",
            "192/192 [==============================] - 2s 9ms/step - loss: 0.0312 - val_loss: 0.0327 - lr: 9.7303e-04\n",
            "Epoch 274/1000\n",
            "192/192 [==============================] - 2s 9ms/step - loss: 0.0313 - val_loss: 0.0328 - lr: 9.7294e-04\n",
            "Epoch 275/1000\n",
            "192/192 [==============================] - 2s 9ms/step - loss: 0.0314 - val_loss: 0.0328 - lr: 9.7284e-04\n",
            "Epoch 276/1000\n",
            "192/192 [==============================] - 3s 13ms/step - loss: 0.0312 - val_loss: 0.0329 - lr: 9.7274e-04\n",
            "Epoch 277/1000\n",
            "192/192 [==============================] - 2s 12ms/step - loss: 0.0313 - val_loss: 0.0329 - lr: 9.7264e-04\n",
            "Epoch 278/1000\n",
            "192/192 [==============================] - 2s 9ms/step - loss: 0.0313 - val_loss: 0.0327 - lr: 9.7254e-04\n",
            "Epoch 279/1000\n",
            "192/192 [==============================] - 2s 9ms/step - loss: 0.0312 - val_loss: 0.0328 - lr: 9.7245e-04\n",
            "Epoch 280/1000\n",
            "192/192 [==============================] - 2s 9ms/step - loss: 0.0313 - val_loss: 0.0330 - lr: 9.7235e-04\n",
            "Epoch 281/1000\n",
            "192/192 [==============================] - 2s 9ms/step - loss: 0.0313 - val_loss: 0.0326 - lr: 9.7225e-04\n",
            "Epoch 282/1000\n",
            "192/192 [==============================] - 2s 9ms/step - loss: 0.0313 - val_loss: 0.0329 - lr: 9.7215e-04\n",
            "Epoch 283/1000\n",
            "192/192 [==============================] - 2s 11ms/step - loss: 0.0312 - val_loss: 0.0329 - lr: 9.7206e-04\n",
            "Epoch 284/1000\n",
            "192/192 [==============================] - 2s 12ms/step - loss: 0.0313 - val_loss: 0.0327 - lr: 9.7196e-04\n",
            "Epoch 285/1000\n",
            "192/192 [==============================] - 2s 12ms/step - loss: 0.0312 - val_loss: 0.0327 - lr: 9.7186e-04\n",
            "Epoch 286/1000\n",
            "192/192 [==============================] - 2s 9ms/step - loss: 0.0312 - val_loss: 0.0328 - lr: 9.7176e-04\n",
            "Epoch 287/1000\n",
            "192/192 [==============================] - 2s 9ms/step - loss: 0.0312 - val_loss: 0.0327 - lr: 9.7167e-04\n",
            "Epoch 288/1000\n",
            "192/192 [==============================] - 2s 9ms/step - loss: 0.0313 - val_loss: 0.0327 - lr: 9.7157e-04\n",
            "Epoch 289/1000\n",
            "192/192 [==============================] - 2s 9ms/step - loss: 0.0312 - val_loss: 0.0327 - lr: 9.7147e-04\n",
            "Epoch 290/1000\n",
            "192/192 [==============================] - 2s 9ms/step - loss: 0.0313 - val_loss: 0.0328 - lr: 9.7137e-04\n",
            "Epoch 291/1000\n",
            "192/192 [==============================] - 2s 10ms/step - loss: 0.0313 - val_loss: 0.0328 - lr: 9.7127e-04\n",
            "Epoch 292/1000\n",
            "192/192 [==============================] - 3s 14ms/step - loss: 0.0312 - val_loss: 0.0331 - lr: 9.7118e-04\n",
            "Epoch 293/1000\n",
            "192/192 [==============================] - 3s 15ms/step - loss: 0.0312 - val_loss: 0.0327 - lr: 9.7108e-04\n",
            "Epoch 294/1000\n",
            "192/192 [==============================] - 2s 13ms/step - loss: 0.0312 - val_loss: 0.0327 - lr: 9.7098e-04\n",
            "Epoch 295/1000\n",
            "190/192 [============================>.] - ETA: 0s - loss: 0.0312Restoring model weights from the end of the best epoch: 285.\n",
            "192/192 [==============================] - 2s 10ms/step - loss: 0.0313 - val_loss: 0.0328 - lr: 9.7088e-04\n",
            "Epoch 295: early stopping\n"
          ]
        }
      ]
    },
    {
      "cell_type": "code",
      "source": [
        "if train_ae:\n",
        "  autoencoder.summary()"
      ],
      "metadata": {
        "id": "7E82ineF-Lwg",
        "colab": {
          "base_uri": "https://localhost:8080/"
        },
        "outputId": "4cbd7902-c0dd-4f81-e03d-35a6a81a3ffc"
      },
      "execution_count": 14,
      "outputs": [
        {
          "output_type": "stream",
          "name": "stdout",
          "text": [
            "Model: \"sequential_2\"\n",
            "_________________________________________________________________\n",
            " Layer (type)                Output Shape              Param #   \n",
            "=================================================================\n",
            " sequential (Sequential)     (None, 196)               386515    \n",
            "                                                                 \n",
            " sequential_1 (Sequential)   (None, 786)               387105    \n",
            "                                                                 \n",
            "=================================================================\n",
            "Total params: 773620 (2.95 MB)\n",
            "Trainable params: 773620 (2.95 MB)\n",
            "Non-trainable params: 0 (0.00 Byte)\n",
            "_________________________________________________________________\n"
          ]
        }
      ]
    },
    {
      "cell_type": "markdown",
      "source": [
        "Plot train and validation loss during the training to check for convergence/overfitting"
      ],
      "metadata": {
        "id": "uHMZsrlVtYvy"
      }
    },
    {
      "cell_type": "code",
      "source": [
        "if train_ae :\n",
        "  loss = history.history['loss']\n",
        "  val_loss = history.history['val_loss']\n",
        "  epochs = range(len(loss))\n",
        "  plt.figure()\n",
        "  plt.plot(epochs, loss, 'r', label='Training loss')\n",
        "  plt.plot(epochs, val_loss, 'b', label='Validation loss')\n",
        "  plt.title('Training and validation loss')\n",
        "  plt.legend()\n",
        "  plt.show()"
      ],
      "metadata": {
        "id": "U2Wg1IrSJ1VE",
        "colab": {
          "base_uri": "https://localhost:8080/",
          "height": 452
        },
        "outputId": "342796c2-6fa8-41a8-da42-27d88b1c30da"
      },
      "execution_count": 16,
      "outputs": [
        {
          "output_type": "display_data",
          "data": {
            "text/plain": [
              "<Figure size 640x480 with 1 Axes>"
            ],
            "image/png": "[encoded data removed]"
          },
          "metadata": {}
        }
      ]
    },
    {
      "cell_type": "code",
      "source": [
        "plot_autoencoder_outputs(df, autoencoder, 2, (layer, n_chann))"
      ],
      "metadata": {
        "colab": {
          "base_uri": "https://localhost:8080/",
          "height": 374
        },
        "id": "G-5JenKke17b",
        "outputId": "9d5a72f3-1ac6-40c1-d76b-a481545ebdc4"
      },
      "execution_count": 19,
      "outputs": [
        {
          "output_type": "stream",
          "name": "stdout",
          "text": [
            "4375/4375 [==============================] - 12s 3ms/step\n",
            "746\n"
          ]
        },
        {
          "output_type": "display_data",
          "data": {
            "text/plain": [
              "<Figure size 800x600 with 2 Axes>"
            ],
            "image/png": "[encoded data removed]"
          },
          "metadata": {}
        }
      ]
    },
    {
      "cell_type": "markdown",
      "source": [
        "save the model after training"
      ],
      "metadata": {
        "id": "Qzo09RTcblw6"
      }
    },
    {
      "cell_type": "code",
      "source": [
        "if train_ae :\n",
        "  from google.colab import drive\n",
        "  drive.mount('/content/drive')"
      ],
      "metadata": {
        "id": "hnZZ9LKQbgTn"
      },
      "execution_count": null,
      "outputs": []
    },
    {
      "cell_type": "code",
      "source": [
        "if train_ae :\n",
        "  autoencoder.save_weights('/content/drive/MyDrive/JetDTsAutoencoder')"
      ],
      "metadata": {
        "id": "6HJkf2YTblY3"
      },
      "execution_count": 21,
      "outputs": []
    },
    {
      "cell_type": "markdown",
      "source": [
        "load previously saved weights so there is no need to train every time"
      ],
      "metadata": {
        "id": "MV9ZcFT1BKtM"
      }
    },
    {
      "cell_type": "code",
      "source": [
        "autoencoder.load_weights('/content/drive/MyDrive/JetDTsAutoencoder')"
      ],
      "metadata": {
        "colab": {
          "base_uri": "https://localhost:8080/"
        },
        "id": "BZSY0A846ZRz",
        "outputId": "35540853-a2bb-4710-a0da-c188a749d682"
      },
      "execution_count": 8,
      "outputs": [
        {
          "output_type": "execute_result",
          "data": {
            "text/plain": [
              "<tensorflow.python.checkpoint.checkpoint.CheckpointLoadStatus at 0x789201fdaa40>"
            ]
          },
          "metadata": {},
          "execution_count": 8
        }
      ]
    },
    {
      "cell_type": "code",
      "source": [
        "if train_ae:\n",
        "  test_eval = autoencoder.evaluate(x_test, x_test)"
      ],
      "metadata": {
        "id": "Kfb-HVpW53Uj"
      },
      "execution_count": null,
      "outputs": []
    },
    {
      "cell_type": "code",
      "source": [
        "if train_ae:\n",
        "  plot_autoencoder_outputs(x_validation, autoencoder, 2, (layer, n_chann))"
      ],
      "metadata": {
        "id": "52VQVfkz3otd",
        "colab": {
          "base_uri": "https://localhost:8080/",
          "height": 386
        },
        "outputId": "8cb02c8a-644d-4078-be25-41ddec40a043"
      },
      "execution_count": 25,
      "outputs": [
        {
          "output_type": "stream",
          "name": "stdout",
          "text": [
            "875/875 [==============================] - 3s 3ms/step\n",
            "292\n",
            "587\n"
          ]
        },
        {
          "output_type": "display_data",
          "data": {
            "text/plain": [
              "<Figure size 800x600 with 4 Axes>"
            ],
            "image/png": "[encoded data removed]"
          },
          "metadata": {}
        }
      ]
    },
    {
      "cell_type": "markdown",
      "source": [
        "Use the trained model encoder part for classification"
      ],
      "metadata": {
        "id": "BO6kl1ofn9OU"
      }
    },
    {
      "cell_type": "markdown",
      "source": [
        "Import the muon data and add them to the dataset, shuffle"
      ],
      "metadata": {
        "id": "Fu6ce6krtt9S"
      }
    },
    {
      "cell_type": "code",
      "source": [
        "#add muons to the dataset\n",
        "\n",
        "df[\"is_muon\"] = 0\n",
        "\n",
        "dfs = []\n",
        "csv_files_muon = [f for f in os.listdir() if (f.startswith('muon') and f.endswith('.csv'))]\n",
        "for data_file in csv_files_muon :\n",
        "  print(\"Read \"+data_file)\n",
        "  m_df = pd.read_csv(data_file)\n",
        "  m_df[\"is_muon\"] = 1\n",
        "  dfs.append(m_df)\n",
        "\n",
        "\n",
        "c_df = pd.concat(dfs, ignore_index = True)\n",
        "del(dfs)\n",
        "c_df = c_df.drop(columns = 'Unnamed: 0')\n",
        "\n",
        "c_df = pd.concat([c_df, df], ignore_index=True)\n",
        "c_df = c_df.sample(frac = 1).reset_index(drop=True)\n"
      ],
      "metadata": {
        "colab": {
          "base_uri": "https://localhost:8080/"
        },
        "id": "GRFK-geuLMd4",
        "outputId": "bcf27a50-5e62-499d-932b-2f22cbc9cc87"
      },
      "execution_count": 12,
      "outputs": [
        {
          "output_type": "stream",
          "name": "stdout",
          "text": [
            "Read muon_HiddenGluGluH_mH-375_Phi-60_ctau-1000_7.csv\n",
            "Read muon_HiddenGluGluH_mH-375_Phi-60_ctau-1000_26.csv\n",
            "Read muon_HiddenGluGluH_mH-375_Phi-60_ctau-1000_11.csv\n",
            "Read muon_HiddenGluGluH_mH-375_Phi-60_ctau-1000_22.csv\n",
            "Read muon_HiddenGluGluH_mH-375_Phi-60_ctau-1000_9.csv\n",
            "Read muon_HiddenGluGluH_mH-375_Phi-60_ctau-1000_15.csv\n",
            "Read muon_HiddenGluGluH_mH-375_Phi-60_ctau-1000_6.csv\n",
            "Read muon_HiddenGluGluH_mH-375_Phi-60_ctau-1000_23.csv\n",
            "Read muon_HiddenGluGluH_mH-375_Phi-60_ctau-1000_25.csv\n",
            "Read muon_HiddenGluGluH_mH-375_Phi-60_ctau-1000_17.csv\n",
            "Read muon_HiddenGluGluH_mH-375_Phi-60_ctau-1000_19.csv\n",
            "Read muon_HiddenGluGluH_mH-375_Phi-60_ctau-1000_5.csv\n",
            "Read muon_HiddenGluGluH_mH-375_Phi-60_ctau-1000_1.csv\n",
            "Read muon_HiddenGluGluH_mH-375_Phi-60_ctau-1000_8.csv\n",
            "Read muon_HiddenGluGluH_mH-375_Phi-60_ctau-1000_20.csv\n",
            "Read muon_HiddenGluGluH_mH-375_Phi-60_ctau-1000_4.csv\n",
            "Read muon_HiddenGluGluH_mH-375_Phi-60_ctau-1000_21.csv\n",
            "Read muon_HiddenGluGluH_mH-375_Phi-60_ctau-1000_10.csv\n",
            "Read muon_HiddenGluGluH_mH-375_Phi-60_ctau-1000_18.csv\n",
            "Read muon_HiddenGluGluH_mH-375_Phi-60_ctau-1000_14.csv\n",
            "Read muon_HiddenGluGluH_mH-375_Phi-60_ctau-1000_13.csv\n",
            "Read muon_HiddenGluGluH_mH-375_Phi-60_ctau-1000_27.csv\n",
            "Read muon_HiddenGluGluH_mH-375_Phi-60_ctau-1000_24.csv\n",
            "Read muon_HiddenGluGluH_mH-375_Phi-60_ctau-1000_12.csv\n",
            "Read muon_HiddenGluGluH_mH-375_Phi-60_ctau-1000_16.csv\n",
            "Read muon_HiddenGluGluH_mH-375_Phi-60_ctau-1000_3.csv\n",
            "Read muon_HiddenGluGluH_mH-375_Phi-60_ctau-1000_0.csv\n",
            "Read muon_HiddenGluGluH_mH-375_Phi-60_ctau-1000_2.csv\n"
          ]
        }
      ]
    },
    {
      "cell_type": "markdown",
      "source": [
        "Divide also the new dataset in train validation and test subsample"
      ],
      "metadata": {
        "id": "MHazaYxzaNT2"
      }
    },
    {
      "cell_type": "code",
      "source": [
        "print(len(c_df))\n",
        "classification_train_events = round(len(c_df)*.7)\n",
        "classification_validation_events = round(len(c_df)*.2)\n",
        "classification_test_events = len(c_df)-(classification_train_events+classification_validation_events)\n",
        "\n",
        "c_x_train = c_df.iloc[:classification_train_events , :n_input]\n",
        "c_x_validation = c_df.iloc[classification_train_events:(classification_train_events+classification_validation_events) , :n_input]\n",
        "c_x_test = c_df.iloc[(classification_train_events+classification_validation_events): , :n_input]\n",
        "\n",
        "c_y_train = c_df.iloc[:classification_train_events, n_input:]\n",
        "c_y_validation = c_df.iloc[classification_train_events:(classification_train_events+classification_validation_events), n_input:]\n",
        "c_y_test = c_df.iloc[(classification_train_events+classification_validation_events):, n_input:]"
      ],
      "metadata": {
        "colab": {
          "base_uri": "https://localhost:8080/"
        },
        "id": "iTbToaGOaMcD",
        "outputId": "97ad26f8-f749-4bc1-8e0f-cf8a1cea3e31"
      },
      "execution_count": 13,
      "outputs": [
        {
          "output_type": "stream",
          "name": "stdout",
          "text": [
            "280000\n"
          ]
        }
      ]
    },
    {
      "cell_type": "code",
      "source": [
        "  print(len(c_df))\n",
        "  print(\"train sample\")\n",
        "  print(classification_train_events)\n",
        "  print(len(c_x_train))\n",
        "  print(\"validation sample\")\n",
        "  print(classification_validation_events)\n",
        "  print(len(c_x_validation))\n",
        "  print(\"test sample\")\n",
        "  print(len(c_x_test))"
      ],
      "metadata": {
        "colab": {
          "base_uri": "https://localhost:8080/"
        },
        "id": "ZdbK94ZiPc0l",
        "outputId": "6c25cce2-0511-433d-8783-055da3276fbd"
      },
      "execution_count": 14,
      "outputs": [
        {
          "output_type": "stream",
          "name": "stdout",
          "text": [
            "280000\n",
            "train sample\n",
            "196000\n",
            "196000\n",
            "validation sample\n",
            "56000\n",
            "56000\n",
            "test sample\n",
            "28000\n"
          ]
        }
      ]
    },
    {
      "cell_type": "code",
      "source": [
        "del c_df"
      ],
      "metadata": {
        "id": "oIhlYVtnjT9r"
      },
      "execution_count": 15,
      "outputs": []
    },
    {
      "cell_type": "markdown",
      "source": [
        "Check the images also with muons"
      ],
      "metadata": {
        "id": "So37XCc1t_hj"
      }
    },
    {
      "cell_type": "code",
      "source": [
        "plot_input(c_x_train, 5, (layer, n_chann))\n",
        "plot_input(c_x_train, 5, (layer, n_chann))\n",
        "plot_input(c_x_train, 5, (layer, n_chann))"
      ],
      "metadata": {
        "colab": {
          "base_uri": "https://localhost:8080/",
          "height": 348
        },
        "id": "CZbG9XUNeO-V",
        "outputId": "a0bba5f6-a69f-4099-cead-e0843bc54e18"
      },
      "execution_count": 19,
      "outputs": [
        {
          "output_type": "stream",
          "name": "stdout",
          "text": [
            "255\n",
            "229\n",
            "328\n",
            "306\n",
            "478\n"
          ]
        },
        {
          "output_type": "display_data",
          "data": {
            "text/plain": [
              "<Figure size 8000x3600 with 5 Axes>"
            ],
            "image/png": "[encoded data removed]"
          },
          "metadata": {}
        },
        {
          "output_type": "stream",
          "name": "stdout",
          "text": [
            "228\n",
            "649\n",
            "395\n",
            "518\n",
            "487\n"
          ]
        },
        {
          "output_type": "display_data",
          "data": {
            "text/plain": [
              "<Figure size 8000x3600 with 5 Axes>"
            ],
            "image/png": "[encoded data removed]"
          },
          "metadata": {}
        },
        {
          "output_type": "stream",
          "name": "stdout",
          "text": [
            "428\n",
            "553\n",
            "622\n",
            "45\n",
            "417\n"
          ]
        },
        {
          "output_type": "display_data",
          "data": {
            "text/plain": [
              "<Figure size 8000x3600 with 5 Axes>"
            ],
            "image/png": "[encoded data removed]"
          },
          "metadata": {}
        }
      ]
    },
    {
      "cell_type": "markdown",
      "source": [
        "Define the fully connected layer for muon/shower classification"
      ],
      "metadata": {
        "id": "mAyRTo8luI3f"
      }
    },
    {
      "cell_type": "code",
      "source": [
        "# Extract the encoder part for classification\n",
        "\n",
        "#fully connected layer which receives the codings from the encoder part\n",
        "encoded_input = layers.Input(shape=(n_code,))\n",
        "classifier_output = layers.Dense(1, activation='sigmoid')(encoded_input)\n",
        "classifier_model = models.Model(encoded_input, classifier_output)\n",
        "\n",
        "# Compile the classifier model\n",
        "classifier_model.compile(optimizer='adam', loss='binary_crossentropy', metrics=['accuracy'])\n"
      ],
      "metadata": {
        "id": "WrpL-WtnkBou"
      },
      "execution_count": 20,
      "outputs": []
    },
    {
      "cell_type": "markdown",
      "source": [
        "Use the encoder that was trained before to reduce the dimensionality of the input images for train -  validation - test samples"
      ],
      "metadata": {
        "id": "_EvpdtwnuOne"
      }
    },
    {
      "cell_type": "code",
      "source": [
        "encoded_x_train= encoder.predict(c_x_train)\n",
        "del c_x_train"
      ],
      "metadata": {
        "colab": {
          "base_uri": "https://localhost:8080/"
        },
        "id": "xMGevR6hDjXq",
        "outputId": "047c8df8-c2a3-4bc2-cc3f-de72973bd66f"
      },
      "execution_count": 23,
      "outputs": [
        {
          "output_type": "stream",
          "name": "stdout",
          "text": [
            "6125/6125 [==============================] - 12s 2ms/step\n"
          ]
        }
      ]
    },
    {
      "cell_type": "code",
      "source": [
        "encoded_x_validation = encoder.predict(c_x_validation)\n",
        "del c_x_validation"
      ],
      "metadata": {
        "colab": {
          "base_uri": "https://localhost:8080/"
        },
        "id": "xLTIHtSPjnJW",
        "outputId": "6a29cd28-2cbb-49b4-c57a-6b4a30feb808"
      },
      "execution_count": 24,
      "outputs": [
        {
          "output_type": "stream",
          "name": "stdout",
          "text": [
            "1750/1750 [==============================] - 3s 2ms/step\n"
          ]
        }
      ]
    },
    {
      "cell_type": "code",
      "source": [
        "encoded_x_test = encoder.predict(c_x_test)\n",
        "del c_x_test"
      ],
      "metadata": {
        "colab": {
          "base_uri": "https://localhost:8080/"
        },
        "id": "Bkd_Xh_7jm0S",
        "outputId": "a07a2cdb-2ac2-45c3-ead0-d427dac1fab7"
      },
      "execution_count": 25,
      "outputs": [
        {
          "output_type": "stream",
          "name": "stdout",
          "text": [
            "875/875 [==============================] - 1s 2ms/step\n"
          ]
        }
      ]
    },
    {
      "cell_type": "markdown",
      "source": [
        "Train the classifier layer"
      ],
      "metadata": {
        "id": "Cjryn8YiuacK"
      }
    },
    {
      "cell_type": "code",
      "source": [
        "# Train the classifier\n",
        "classifier_history = classifier_model.fit(x= encoded_x_train, y = c_y_train, epochs=1000, batch_size= 512, validation_data=(encoded_x_validation, c_y_validation), callbacks=[schedule, early_stop])"
      ],
      "metadata": {
        "colab": {
          "base_uri": "https://localhost:8080/"
        },
        "id": "kkSqNqzbqulH",
        "outputId": "524234a2-f27d-40cd-a3c5-5a0b4d703715"
      },
      "execution_count": 26,
      "outputs": [
        {
          "output_type": "stream",
          "name": "stdout",
          "text": [
            "Epoch 1/1000\n",
            "383/383 [==============================] - 2s 5ms/step - loss: 0.1806 - accuracy: 0.9668 - val_loss: 0.1494 - val_accuracy: 0.9729 - lr: 0.0010\n",
            "Epoch 2/1000\n",
            "383/383 [==============================] - 2s 6ms/step - loss: 0.1314 - accuracy: 0.9761 - val_loss: 0.1143 - val_accuracy: 0.9786 - lr: 9.9990e-04\n",
            "Epoch 3/1000\n",
            "383/383 [==============================] - 2s 5ms/step - loss: 0.1041 - accuracy: 0.9806 - val_loss: 0.0931 - val_accuracy: 0.9815 - lr: 9.9980e-04\n",
            "Epoch 4/1000\n",
            "383/383 [==============================] - 2s 4ms/step - loss: 0.0865 - accuracy: 0.9835 - val_loss: 0.0790 - val_accuracy: 0.9862 - lr: 9.9970e-04\n",
            "Epoch 5/1000\n",
            "383/383 [==============================] - 2s 4ms/step - loss: 0.0740 - accuracy: 0.9857 - val_loss: 0.0680 - val_accuracy: 0.9867 - lr: 9.9960e-04\n",
            "Epoch 6/1000\n",
            "383/383 [==============================] - 2s 6ms/step - loss: 0.0648 - accuracy: 0.9871 - val_loss: 0.0602 - val_accuracy: 0.9887 - lr: 9.9950e-04\n",
            "Epoch 7/1000\n",
            "383/383 [==============================] - 2s 4ms/step - loss: 0.0575 - accuracy: 0.9883 - val_loss: 0.0539 - val_accuracy: 0.9880 - lr: 9.9940e-04\n",
            "Epoch 8/1000\n",
            "383/383 [==============================] - 2s 4ms/step - loss: 0.0517 - accuracy: 0.9892 - val_loss: 0.0485 - val_accuracy: 0.9898 - lr: 9.9930e-04\n",
            "Epoch 9/1000\n",
            "383/383 [==============================] - 2s 5ms/step - loss: 0.0470 - accuracy: 0.9900 - val_loss: 0.0446 - val_accuracy: 0.9910 - lr: 9.9920e-04\n",
            "Epoch 10/1000\n",
            "383/383 [==============================] - 2s 6ms/step - loss: 0.0430 - accuracy: 0.9906 - val_loss: 0.0408 - val_accuracy: 0.9910 - lr: 9.9910e-04\n",
            "Epoch 11/1000\n",
            "383/383 [==============================] - 2s 5ms/step - loss: 0.0398 - accuracy: 0.9911 - val_loss: 0.0381 - val_accuracy: 0.9921 - lr: 9.9900e-04\n",
            "Epoch 12/1000\n",
            "383/383 [==============================] - 2s 4ms/step - loss: 0.0370 - accuracy: 0.9916 - val_loss: 0.0355 - val_accuracy: 0.9921 - lr: 9.9890e-04\n",
            "Epoch 13/1000\n",
            "383/383 [==============================] - 2s 4ms/step - loss: 0.0347 - accuracy: 0.9921 - val_loss: 0.0335 - val_accuracy: 0.9918 - lr: 9.9879e-04\n",
            "Epoch 14/1000\n",
            "383/383 [==============================] - 2s 5ms/step - loss: 0.0328 - accuracy: 0.9925 - val_loss: 0.0316 - val_accuracy: 0.9924 - lr: 9.9869e-04\n",
            "Epoch 15/1000\n",
            "383/383 [==============================] - 2s 5ms/step - loss: 0.0310 - accuracy: 0.9927 - val_loss: 0.0305 - val_accuracy: 0.9920 - lr: 9.9859e-04\n",
            "Epoch 16/1000\n",
            "383/383 [==============================] - 2s 6ms/step - loss: 0.0295 - accuracy: 0.9930 - val_loss: 0.0289 - val_accuracy: 0.9927 - lr: 9.9849e-04\n",
            "Epoch 17/1000\n",
            "383/383 [==============================] - 4s 11ms/step - loss: 0.0283 - accuracy: 0.9932 - val_loss: 0.0277 - val_accuracy: 0.9934 - lr: 9.9839e-04\n",
            "Epoch 18/1000\n",
            "383/383 [==============================] - 2s 4ms/step - loss: 0.0272 - accuracy: 0.9933 - val_loss: 0.0270 - val_accuracy: 0.9939 - lr: 9.9829e-04\n",
            "Epoch 19/1000\n",
            "383/383 [==============================] - 2s 4ms/step - loss: 0.0263 - accuracy: 0.9935 - val_loss: 0.0258 - val_accuracy: 0.9934 - lr: 9.9819e-04\n",
            "Epoch 20/1000\n",
            "383/383 [==============================] - 2s 5ms/step - loss: 0.0254 - accuracy: 0.9937 - val_loss: 0.0254 - val_accuracy: 0.9940 - lr: 9.9809e-04\n",
            "Epoch 21/1000\n",
            "383/383 [==============================] - 2s 4ms/step - loss: 0.0247 - accuracy: 0.9937 - val_loss: 0.0245 - val_accuracy: 0.9936 - lr: 9.9799e-04\n",
            "Epoch 22/1000\n",
            "383/383 [==============================] - 2s 6ms/step - loss: 0.0241 - accuracy: 0.9939 - val_loss: 0.0239 - val_accuracy: 0.9939 - lr: 9.9789e-04\n",
            "Epoch 23/1000\n",
            "383/383 [==============================] - 3s 9ms/step - loss: 0.0235 - accuracy: 0.9940 - val_loss: 0.0235 - val_accuracy: 0.9942 - lr: 9.9779e-04\n",
            "Epoch 24/1000\n",
            "383/383 [==============================] - 4s 9ms/step - loss: 0.0231 - accuracy: 0.9940 - val_loss: 0.0232 - val_accuracy: 0.9936 - lr: 9.9769e-04\n",
            "Epoch 25/1000\n",
            "383/383 [==============================] - 2s 4ms/step - loss: 0.0225 - accuracy: 0.9942 - val_loss: 0.0231 - val_accuracy: 0.9933 - lr: 9.9759e-04\n",
            "Epoch 26/1000\n",
            "383/383 [==============================] - 2s 4ms/step - loss: 0.0222 - accuracy: 0.9941 - val_loss: 0.0225 - val_accuracy: 0.9936 - lr: 9.9749e-04\n",
            "Epoch 27/1000\n",
            "383/383 [==============================] - 2s 4ms/step - loss: 0.0219 - accuracy: 0.9942 - val_loss: 0.0221 - val_accuracy: 0.9938 - lr: 9.9739e-04\n",
            "Epoch 28/1000\n",
            "383/383 [==============================] - 2s 4ms/step - loss: 0.0215 - accuracy: 0.9943 - val_loss: 0.0217 - val_accuracy: 0.9942 - lr: 9.9729e-04\n",
            "Epoch 29/1000\n",
            "383/383 [==============================] - 2s 4ms/step - loss: 0.0212 - accuracy: 0.9943 - val_loss: 0.0215 - val_accuracy: 0.9943 - lr: 9.9719e-04\n",
            "Epoch 30/1000\n",
            "383/383 [==============================] - 2s 6ms/step - loss: 0.0210 - accuracy: 0.9944 - val_loss: 0.0212 - val_accuracy: 0.9944 - lr: 9.9709e-04\n",
            "Epoch 31/1000\n",
            "383/383 [==============================] - 2s 6ms/step - loss: 0.0207 - accuracy: 0.9945 - val_loss: 0.0211 - val_accuracy: 0.9941 - lr: 9.9699e-04\n",
            "Epoch 32/1000\n",
            "383/383 [==============================] - 2s 5ms/step - loss: 0.0205 - accuracy: 0.9944 - val_loss: 0.0209 - val_accuracy: 0.9944 - lr: 9.9689e-04\n",
            "Epoch 33/1000\n",
            "383/383 [==============================] - 2s 4ms/step - loss: 0.0203 - accuracy: 0.9946 - val_loss: 0.0210 - val_accuracy: 0.9940 - lr: 9.9679e-04\n",
            "Epoch 34/1000\n",
            "383/383 [==============================] - 3s 8ms/step - loss: 0.0201 - accuracy: 0.9945 - val_loss: 0.0205 - val_accuracy: 0.9944 - lr: 9.9669e-04\n",
            "Epoch 35/1000\n",
            "383/383 [==============================] - 3s 8ms/step - loss: 0.0200 - accuracy: 0.9945 - val_loss: 0.0204 - val_accuracy: 0.9945 - lr: 9.9659e-04\n",
            "Epoch 36/1000\n",
            "383/383 [==============================] - 2s 6ms/step - loss: 0.0198 - accuracy: 0.9946 - val_loss: 0.0204 - val_accuracy: 0.9947 - lr: 9.9649e-04\n",
            "Epoch 37/1000\n",
            "383/383 [==============================] - 3s 7ms/step - loss: 0.0197 - accuracy: 0.9946 - val_loss: 0.0203 - val_accuracy: 0.9946 - lr: 9.9639e-04\n",
            "Epoch 38/1000\n",
            "383/383 [==============================] - 2s 5ms/step - loss: 0.0195 - accuracy: 0.9946 - val_loss: 0.0205 - val_accuracy: 0.9947 - lr: 9.9629e-04\n",
            "Epoch 39/1000\n",
            "383/383 [==============================] - 2s 4ms/step - loss: 0.0194 - accuracy: 0.9946 - val_loss: 0.0198 - val_accuracy: 0.9946 - lr: 9.9619e-04\n",
            "Epoch 40/1000\n",
            "383/383 [==============================] - 2s 4ms/step - loss: 0.0193 - accuracy: 0.9946 - val_loss: 0.0201 - val_accuracy: 0.9941 - lr: 9.9609e-04\n",
            "Epoch 41/1000\n",
            "383/383 [==============================] - 2s 4ms/step - loss: 0.0191 - accuracy: 0.9946 - val_loss: 0.0200 - val_accuracy: 0.9946 - lr: 9.9599e-04\n",
            "Epoch 42/1000\n",
            "383/383 [==============================] - 2s 4ms/step - loss: 0.0191 - accuracy: 0.9946 - val_loss: 0.0199 - val_accuracy: 0.9941 - lr: 9.9589e-04\n",
            "Epoch 43/1000\n",
            "383/383 [==============================] - 2s 4ms/step - loss: 0.0189 - accuracy: 0.9946 - val_loss: 0.0195 - val_accuracy: 0.9947 - lr: 9.9579e-04\n",
            "Epoch 44/1000\n",
            "383/383 [==============================] - 2s 6ms/step - loss: 0.0189 - accuracy: 0.9946 - val_loss: 0.0197 - val_accuracy: 0.9943 - lr: 9.9569e-04\n",
            "Epoch 45/1000\n",
            "383/383 [==============================] - 3s 7ms/step - loss: 0.0188 - accuracy: 0.9947 - val_loss: 0.0195 - val_accuracy: 0.9944 - lr: 9.9559e-04\n",
            "Epoch 46/1000\n",
            "383/383 [==============================] - 2s 4ms/step - loss: 0.0187 - accuracy: 0.9947 - val_loss: 0.0193 - val_accuracy: 0.9947 - lr: 9.9549e-04\n",
            "Epoch 47/1000\n",
            "383/383 [==============================] - 2s 4ms/step - loss: 0.0186 - accuracy: 0.9947 - val_loss: 0.0192 - val_accuracy: 0.9947 - lr: 9.9539e-04\n",
            "Epoch 48/1000\n",
            "383/383 [==============================] - 2s 4ms/step - loss: 0.0186 - accuracy: 0.9947 - val_loss: 0.0192 - val_accuracy: 0.9946 - lr: 9.9529e-04\n",
            "Epoch 49/1000\n",
            "383/383 [==============================] - 2s 4ms/step - loss: 0.0185 - accuracy: 0.9947 - val_loss: 0.0192 - val_accuracy: 0.9947 - lr: 9.9519e-04\n",
            "Epoch 50/1000\n",
            "383/383 [==============================] - 2s 4ms/step - loss: 0.0185 - accuracy: 0.9947 - val_loss: 0.0192 - val_accuracy: 0.9946 - lr: 9.9509e-04\n",
            "Epoch 51/1000\n",
            "383/383 [==============================] - 2s 4ms/step - loss: 0.0183 - accuracy: 0.9946 - val_loss: 0.0191 - val_accuracy: 0.9947 - lr: 9.9499e-04\n",
            "Epoch 52/1000\n",
            "383/383 [==============================] - 3s 7ms/step - loss: 0.0183 - accuracy: 0.9948 - val_loss: 0.0194 - val_accuracy: 0.9947 - lr: 9.9489e-04\n",
            "Epoch 53/1000\n",
            "383/383 [==============================] - 2s 6ms/step - loss: 0.0182 - accuracy: 0.9948 - val_loss: 0.0190 - val_accuracy: 0.9947 - lr: 9.9479e-04\n",
            "Epoch 54/1000\n",
            "383/383 [==============================] - 2s 4ms/step - loss: 0.0183 - accuracy: 0.9947 - val_loss: 0.0189 - val_accuracy: 0.9947 - lr: 9.9469e-04\n",
            "Epoch 55/1000\n",
            "383/383 [==============================] - 2s 4ms/step - loss: 0.0181 - accuracy: 0.9948 - val_loss: 0.0189 - val_accuracy: 0.9947 - lr: 9.9459e-04\n",
            "Epoch 56/1000\n",
            "383/383 [==============================] - 2s 4ms/step - loss: 0.0181 - accuracy: 0.9947 - val_loss: 0.0190 - val_accuracy: 0.9945 - lr: 9.9449e-04\n",
            "Epoch 57/1000\n",
            "383/383 [==============================] - 2s 4ms/step - loss: 0.0180 - accuracy: 0.9948 - val_loss: 0.0187 - val_accuracy: 0.9947 - lr: 9.9439e-04\n",
            "Epoch 58/1000\n",
            "383/383 [==============================] - 2s 4ms/step - loss: 0.0180 - accuracy: 0.9948 - val_loss: 0.0188 - val_accuracy: 0.9948 - lr: 9.9429e-04\n",
            "Epoch 59/1000\n",
            "383/383 [==============================] - 2s 4ms/step - loss: 0.0180 - accuracy: 0.9948 - val_loss: 0.0187 - val_accuracy: 0.9946 - lr: 9.9419e-04\n",
            "Epoch 60/1000\n",
            "383/383 [==============================] - 3s 7ms/step - loss: 0.0179 - accuracy: 0.9948 - val_loss: 0.0187 - val_accuracy: 0.9947 - lr: 9.9409e-04\n",
            "Epoch 61/1000\n",
            "383/383 [==============================] - 2s 6ms/step - loss: 0.0179 - accuracy: 0.9947 - val_loss: 0.0191 - val_accuracy: 0.9947 - lr: 9.9399e-04\n",
            "Epoch 62/1000\n",
            "383/383 [==============================] - 2s 4ms/step - loss: 0.0178 - accuracy: 0.9948 - val_loss: 0.0187 - val_accuracy: 0.9947 - lr: 9.9389e-04\n",
            "Epoch 63/1000\n",
            "383/383 [==============================] - 2s 4ms/step - loss: 0.0178 - accuracy: 0.9949 - val_loss: 0.0185 - val_accuracy: 0.9948 - lr: 9.9379e-04\n",
            "Epoch 64/1000\n",
            "383/383 [==============================] - 2s 4ms/step - loss: 0.0178 - accuracy: 0.9948 - val_loss: 0.0185 - val_accuracy: 0.9947 - lr: 9.9369e-04\n",
            "Epoch 65/1000\n",
            "383/383 [==============================] - 2s 4ms/step - loss: 0.0177 - accuracy: 0.9948 - val_loss: 0.0185 - val_accuracy: 0.9948 - lr: 9.9359e-04\n",
            "Epoch 66/1000\n",
            "383/383 [==============================] - 2s 4ms/step - loss: 0.0177 - accuracy: 0.9949 - val_loss: 0.0192 - val_accuracy: 0.9949 - lr: 9.9349e-04\n",
            "Epoch 67/1000\n",
            "383/383 [==============================] - 2s 4ms/step - loss: 0.0177 - accuracy: 0.9948 - val_loss: 0.0185 - val_accuracy: 0.9947 - lr: 9.9339e-04\n",
            "Epoch 68/1000\n",
            "383/383 [==============================] - 4s 10ms/step - loss: 0.0176 - accuracy: 0.9949 - val_loss: 0.0190 - val_accuracy: 0.9944 - lr: 9.9329e-04\n",
            "Epoch 69/1000\n",
            "383/383 [==============================] - 2s 5ms/step - loss: 0.0176 - accuracy: 0.9947 - val_loss: 0.0191 - val_accuracy: 0.9949 - lr: 9.9319e-04\n",
            "Epoch 70/1000\n",
            "383/383 [==============================] - 2s 4ms/step - loss: 0.0176 - accuracy: 0.9949 - val_loss: 0.0184 - val_accuracy: 0.9947 - lr: 9.9309e-04\n",
            "Epoch 71/1000\n",
            "383/383 [==============================] - 2s 4ms/step - loss: 0.0175 - accuracy: 0.9948 - val_loss: 0.0184 - val_accuracy: 0.9948 - lr: 9.9299e-04\n",
            "Epoch 72/1000\n",
            "383/383 [==============================] - 2s 4ms/step - loss: 0.0175 - accuracy: 0.9948 - val_loss: 0.0184 - val_accuracy: 0.9947 - lr: 9.9289e-04\n",
            "Epoch 73/1000\n",
            "383/383 [==============================] - 2s 4ms/step - loss: 0.0175 - accuracy: 0.9949 - val_loss: 0.0184 - val_accuracy: 0.9946 - lr: 9.9279e-04\n",
            "Epoch 74/1000\n",
            "383/383 [==============================] - 2s 4ms/step - loss: 0.0175 - accuracy: 0.9949 - val_loss: 0.0183 - val_accuracy: 0.9948 - lr: 9.9269e-04\n",
            "Epoch 75/1000\n",
            "383/383 [==============================] - 2s 5ms/step - loss: 0.0175 - accuracy: 0.9948 - val_loss: 0.0185 - val_accuracy: 0.9947 - lr: 9.9259e-04\n",
            "Epoch 76/1000\n",
            "383/383 [==============================] - 2s 6ms/step - loss: 0.0174 - accuracy: 0.9949 - val_loss: 0.0183 - val_accuracy: 0.9948 - lr: 9.9249e-04\n",
            "Epoch 77/1000\n",
            "383/383 [==============================] - 2s 6ms/step - loss: 0.0173 - accuracy: 0.9949 - val_loss: 0.0183 - val_accuracy: 0.9948 - lr: 9.9239e-04\n",
            "Epoch 78/1000\n",
            "383/383 [==============================] - 2s 4ms/step - loss: 0.0173 - accuracy: 0.9949 - val_loss: 0.0183 - val_accuracy: 0.9948 - lr: 9.9229e-04\n",
            "Epoch 79/1000\n",
            "383/383 [==============================] - 2s 4ms/step - loss: 0.0173 - accuracy: 0.9948 - val_loss: 0.0188 - val_accuracy: 0.9948 - lr: 9.9219e-04\n",
            "Epoch 80/1000\n",
            "383/383 [==============================] - 2s 4ms/step - loss: 0.0174 - accuracy: 0.9948 - val_loss: 0.0182 - val_accuracy: 0.9948 - lr: 9.9209e-04\n",
            "Epoch 81/1000\n",
            "383/383 [==============================] - 2s 4ms/step - loss: 0.0173 - accuracy: 0.9949 - val_loss: 0.0182 - val_accuracy: 0.9946 - lr: 9.9199e-04\n",
            "Epoch 82/1000\n",
            "383/383 [==============================] - 2s 4ms/step - loss: 0.0173 - accuracy: 0.9949 - val_loss: 0.0182 - val_accuracy: 0.9948 - lr: 9.9189e-04\n",
            "Epoch 83/1000\n",
            "383/383 [==============================] - 2s 4ms/step - loss: 0.0173 - accuracy: 0.9949 - val_loss: 0.0184 - val_accuracy: 0.9946 - lr: 9.9179e-04\n",
            "Epoch 84/1000\n",
            "383/383 [==============================] - 2s 6ms/step - loss: 0.0173 - accuracy: 0.9949 - val_loss: 0.0183 - val_accuracy: 0.9947 - lr: 9.9169e-04\n",
            "Epoch 85/1000\n",
            "383/383 [==============================] - 2s 6ms/step - loss: 0.0173 - accuracy: 0.9948 - val_loss: 0.0182 - val_accuracy: 0.9948 - lr: 9.9159e-04\n",
            "Epoch 86/1000\n",
            "383/383 [==============================] - 2s 4ms/step - loss: 0.0173 - accuracy: 0.9948 - val_loss: 0.0184 - val_accuracy: 0.9946 - lr: 9.9149e-04\n",
            "Epoch 87/1000\n",
            "383/383 [==============================] - 2s 5ms/step - loss: 0.0172 - accuracy: 0.9949 - val_loss: 0.0184 - val_accuracy: 0.9946 - lr: 9.9139e-04\n",
            "Epoch 88/1000\n",
            "383/383 [==============================] - 2s 4ms/step - loss: 0.0173 - accuracy: 0.9948 - val_loss: 0.0182 - val_accuracy: 0.9947 - lr: 9.9129e-04\n",
            "Epoch 89/1000\n",
            "383/383 [==============================] - 2s 4ms/step - loss: 0.0172 - accuracy: 0.9949 - val_loss: 0.0182 - val_accuracy: 0.9947 - lr: 9.9119e-04\n",
            "Epoch 90/1000\n",
            "383/383 [==============================] - 2s 4ms/step - loss: 0.0173 - accuracy: 0.9948 - val_loss: 0.0184 - val_accuracy: 0.9946 - lr: 9.9110e-04\n",
            "Epoch 91/1000\n",
            "383/383 [==============================] - 2s 4ms/step - loss: 0.0172 - accuracy: 0.9950 - val_loss: 0.0183 - val_accuracy: 0.9946 - lr: 9.9100e-04\n",
            "Epoch 92/1000\n",
            "383/383 [==============================] - 2s 6ms/step - loss: 0.0172 - accuracy: 0.9949 - val_loss: 0.0182 - val_accuracy: 0.9946 - lr: 9.9090e-04\n",
            "Epoch 93/1000\n",
            "383/383 [==============================] - 3s 7ms/step - loss: 0.0172 - accuracy: 0.9949 - val_loss: 0.0181 - val_accuracy: 0.9948 - lr: 9.9080e-04\n",
            "Epoch 94/1000\n",
            "383/383 [==============================] - 2s 4ms/step - loss: 0.0171 - accuracy: 0.9950 - val_loss: 0.0181 - val_accuracy: 0.9947 - lr: 9.9070e-04\n",
            "Epoch 95/1000\n",
            "383/383 [==============================] - 2s 4ms/step - loss: 0.0171 - accuracy: 0.9949 - val_loss: 0.0181 - val_accuracy: 0.9948 - lr: 9.9060e-04\n",
            "Epoch 96/1000\n",
            "383/383 [==============================] - 2s 4ms/step - loss: 0.0171 - accuracy: 0.9949 - val_loss: 0.0181 - val_accuracy: 0.9947 - lr: 9.9050e-04\n",
            "Epoch 97/1000\n",
            "383/383 [==============================] - 2s 4ms/step - loss: 0.0171 - accuracy: 0.9949 - val_loss: 0.0181 - val_accuracy: 0.9948 - lr: 9.9040e-04\n",
            "Epoch 98/1000\n",
            "383/383 [==============================] - 2s 4ms/step - loss: 0.0170 - accuracy: 0.9949 - val_loss: 0.0181 - val_accuracy: 0.9947 - lr: 9.9030e-04\n",
            "Epoch 99/1000\n",
            "383/383 [==============================] - 2s 5ms/step - loss: 0.0171 - accuracy: 0.9949 - val_loss: 0.0181 - val_accuracy: 0.9947 - lr: 9.9020e-04\n",
            "Epoch 100/1000\n",
            "383/383 [==============================] - 2s 6ms/step - loss: 0.0171 - accuracy: 0.9950 - val_loss: 0.0182 - val_accuracy: 0.9946 - lr: 9.9010e-04\n",
            "Epoch 101/1000\n",
            "383/383 [==============================] - 2s 6ms/step - loss: 0.0171 - accuracy: 0.9949 - val_loss: 0.0184 - val_accuracy: 0.9946 - lr: 9.9000e-04\n",
            "Epoch 102/1000\n",
            "383/383 [==============================] - 2s 4ms/step - loss: 0.0171 - accuracy: 0.9949 - val_loss: 0.0182 - val_accuracy: 0.9946 - lr: 9.8990e-04\n",
            "Epoch 103/1000\n",
            "383/383 [==============================] - 2s 4ms/step - loss: 0.0170 - accuracy: 0.9949 - val_loss: 0.0180 - val_accuracy: 0.9947 - lr: 9.8980e-04\n",
            "Epoch 104/1000\n",
            "383/383 [==============================] - 2s 4ms/step - loss: 0.0170 - accuracy: 0.9950 - val_loss: 0.0188 - val_accuracy: 0.9944 - lr: 9.8970e-04\n",
            "Epoch 105/1000\n",
            "383/383 [==============================] - 2s 4ms/step - loss: 0.0171 - accuracy: 0.9949 - val_loss: 0.0182 - val_accuracy: 0.9949 - lr: 9.8960e-04\n",
            "Epoch 106/1000\n",
            "383/383 [==============================] - 2s 4ms/step - loss: 0.0170 - accuracy: 0.9950 - val_loss: 0.0183 - val_accuracy: 0.9949 - lr: 9.8950e-04\n",
            "Epoch 107/1000\n",
            "383/383 [==============================] - 2s 4ms/step - loss: 0.0170 - accuracy: 0.9949 - val_loss: 0.0180 - val_accuracy: 0.9948 - lr: 9.8940e-04\n",
            "Epoch 108/1000\n",
            "383/383 [==============================] - 3s 7ms/step - loss: 0.0170 - accuracy: 0.9950 - val_loss: 0.0191 - val_accuracy: 0.9943 - lr: 9.8930e-04\n",
            "Epoch 109/1000\n",
            "383/383 [==============================] - 2s 6ms/step - loss: 0.0170 - accuracy: 0.9949 - val_loss: 0.0180 - val_accuracy: 0.9948 - lr: 9.8920e-04\n",
            "Epoch 110/1000\n",
            "383/383 [==============================] - 2s 4ms/step - loss: 0.0170 - accuracy: 0.9950 - val_loss: 0.0181 - val_accuracy: 0.9949 - lr: 9.8910e-04\n",
            "Epoch 111/1000\n",
            "383/383 [==============================] - 2s 4ms/step - loss: 0.0170 - accuracy: 0.9949 - val_loss: 0.0180 - val_accuracy: 0.9948 - lr: 9.8901e-04\n",
            "Epoch 112/1000\n",
            "383/383 [==============================] - 2s 4ms/step - loss: 0.0170 - accuracy: 0.9950 - val_loss: 0.0180 - val_accuracy: 0.9947 - lr: 9.8891e-04\n",
            "Epoch 113/1000\n",
            "383/383 [==============================] - 2s 4ms/step - loss: 0.0170 - accuracy: 0.9950 - val_loss: 0.0184 - val_accuracy: 0.9948 - lr: 9.8881e-04\n",
            "Epoch 114/1000\n",
            "383/383 [==============================] - 2s 4ms/step - loss: 0.0169 - accuracy: 0.9949 - val_loss: 0.0182 - val_accuracy: 0.9949 - lr: 9.8871e-04\n",
            "Epoch 115/1000\n",
            "383/383 [==============================] - 2s 4ms/step - loss: 0.0169 - accuracy: 0.9950 - val_loss: 0.0180 - val_accuracy: 0.9946 - lr: 9.8861e-04\n",
            "Epoch 116/1000\n",
            "383/383 [==============================] - 3s 7ms/step - loss: 0.0169 - accuracy: 0.9950 - val_loss: 0.0180 - val_accuracy: 0.9948 - lr: 9.8851e-04\n",
            "Epoch 117/1000\n",
            "383/383 [==============================] - 2s 6ms/step - loss: 0.0169 - accuracy: 0.9949 - val_loss: 0.0182 - val_accuracy: 0.9949 - lr: 9.8841e-04\n",
            "Epoch 118/1000\n",
            "383/383 [==============================] - 2s 4ms/step - loss: 0.0170 - accuracy: 0.9949 - val_loss: 0.0181 - val_accuracy: 0.9948 - lr: 9.8831e-04\n",
            "Epoch 119/1000\n",
            "383/383 [==============================] - 2s 4ms/step - loss: 0.0169 - accuracy: 0.9951 - val_loss: 0.0188 - val_accuracy: 0.9949 - lr: 9.8821e-04\n",
            "Epoch 120/1000\n",
            "383/383 [==============================] - 2s 4ms/step - loss: 0.0170 - accuracy: 0.9950 - val_loss: 0.0186 - val_accuracy: 0.9949 - lr: 9.8811e-04\n",
            "Epoch 121/1000\n",
            "383/383 [==============================] - 2s 4ms/step - loss: 0.0169 - accuracy: 0.9950 - val_loss: 0.0188 - val_accuracy: 0.9949 - lr: 9.8801e-04\n",
            "Epoch 122/1000\n",
            "383/383 [==============================] - 2s 4ms/step - loss: 0.0170 - accuracy: 0.9949 - val_loss: 0.0180 - val_accuracy: 0.9949 - lr: 9.8791e-04\n",
            "Epoch 123/1000\n",
            "383/383 [==============================] - 2s 5ms/step - loss: 0.0169 - accuracy: 0.9950 - val_loss: 0.0180 - val_accuracy: 0.9946 - lr: 9.8781e-04\n",
            "Epoch 124/1000\n",
            "383/383 [==============================] - 3s 7ms/step - loss: 0.0169 - accuracy: 0.9950 - val_loss: 0.0182 - val_accuracy: 0.9945 - lr: 9.8771e-04\n",
            "Epoch 125/1000\n",
            "383/383 [==============================] - 2s 5ms/step - loss: 0.0170 - accuracy: 0.9949 - val_loss: 0.0181 - val_accuracy: 0.9947 - lr: 9.8761e-04\n",
            "Epoch 126/1000\n",
            "383/383 [==============================] - 2s 4ms/step - loss: 0.0169 - accuracy: 0.9950 - val_loss: 0.0180 - val_accuracy: 0.9949 - lr: 9.8752e-04\n",
            "Epoch 127/1000\n",
            "383/383 [==============================] - 2s 5ms/step - loss: 0.0170 - accuracy: 0.9949 - val_loss: 0.0180 - val_accuracy: 0.9947 - lr: 9.8742e-04\n",
            "Epoch 128/1000\n",
            "383/383 [==============================] - 2s 4ms/step - loss: 0.0169 - accuracy: 0.9950 - val_loss: 0.0179 - val_accuracy: 0.9947 - lr: 9.8732e-04\n",
            "Epoch 129/1000\n",
            "383/383 [==============================] - 2s 4ms/step - loss: 0.0169 - accuracy: 0.9949 - val_loss: 0.0180 - val_accuracy: 0.9947 - lr: 9.8722e-04\n",
            "Epoch 130/1000\n",
            "383/383 [==============================] - 2s 4ms/step - loss: 0.0169 - accuracy: 0.9950 - val_loss: 0.0181 - val_accuracy: 0.9948 - lr: 9.8712e-04\n",
            "Epoch 131/1000\n",
            "383/383 [==============================] - 2s 5ms/step - loss: 0.0169 - accuracy: 0.9950 - val_loss: 0.0185 - val_accuracy: 0.9946 - lr: 9.8702e-04\n",
            "Epoch 132/1000\n",
            "383/383 [==============================] - 2s 6ms/step - loss: 0.0169 - accuracy: 0.9950 - val_loss: 0.0179 - val_accuracy: 0.9947 - lr: 9.8692e-04\n",
            "Epoch 133/1000\n",
            "383/383 [==============================] - 2s 5ms/step - loss: 0.0169 - accuracy: 0.9950 - val_loss: 0.0183 - val_accuracy: 0.9946 - lr: 9.8682e-04\n",
            "Epoch 134/1000\n",
            "383/383 [==============================] - 2s 4ms/step - loss: 0.0169 - accuracy: 0.9951 - val_loss: 0.0180 - val_accuracy: 0.9947 - lr: 9.8672e-04\n",
            "Epoch 135/1000\n",
            "383/383 [==============================] - 2s 4ms/step - loss: 0.0168 - accuracy: 0.9950 - val_loss: 0.0181 - val_accuracy: 0.9948 - lr: 9.8662e-04\n",
            "Epoch 136/1000\n",
            "383/383 [==============================] - 2s 4ms/step - loss: 0.0169 - accuracy: 0.9950 - val_loss: 0.0180 - val_accuracy: 0.9947 - lr: 9.8652e-04\n",
            "Epoch 137/1000\n",
            "383/383 [==============================] - 2s 4ms/step - loss: 0.0168 - accuracy: 0.9950 - val_loss: 0.0179 - val_accuracy: 0.9948 - lr: 9.8642e-04\n",
            "Epoch 138/1000\n",
            "383/383 [==============================] - 2s 4ms/step - loss: 0.0169 - accuracy: 0.9950 - val_loss: 0.0186 - val_accuracy: 0.9949 - lr: 9.8633e-04\n",
            "Epoch 139/1000\n",
            "383/383 [==============================] - 2s 5ms/step - loss: 0.0168 - accuracy: 0.9950 - val_loss: 0.0184 - val_accuracy: 0.9949 - lr: 9.8623e-04\n",
            "Epoch 140/1000\n",
            "383/383 [==============================] - 2s 6ms/step - loss: 0.0168 - accuracy: 0.9950 - val_loss: 0.0179 - val_accuracy: 0.9947 - lr: 9.8613e-04\n",
            "Epoch 141/1000\n",
            "383/383 [==============================] - 2s 6ms/step - loss: 0.0169 - accuracy: 0.9949 - val_loss: 0.0181 - val_accuracy: 0.9946 - lr: 9.8603e-04\n",
            "Epoch 142/1000\n",
            "383/383 [==============================] - 2s 4ms/step - loss: 0.0168 - accuracy: 0.9949 - val_loss: 0.0181 - val_accuracy: 0.9946 - lr: 9.8593e-04\n",
            "Epoch 143/1000\n",
            "383/383 [==============================] - 2s 5ms/step - loss: 0.0168 - accuracy: 0.9949 - val_loss: 0.0179 - val_accuracy: 0.9948 - lr: 9.8583e-04\n",
            "Epoch 144/1000\n",
            "383/383 [==============================] - 2s 4ms/step - loss: 0.0168 - accuracy: 0.9949 - val_loss: 0.0182 - val_accuracy: 0.9945 - lr: 9.8573e-04\n",
            "Epoch 145/1000\n",
            "383/383 [==============================] - 2s 4ms/step - loss: 0.0169 - accuracy: 0.9949 - val_loss: 0.0179 - val_accuracy: 0.9948 - lr: 9.8563e-04\n",
            "Epoch 146/1000\n",
            "383/383 [==============================] - 2s 5ms/step - loss: 0.0168 - accuracy: 0.9949 - val_loss: 0.0180 - val_accuracy: 0.9948 - lr: 9.8553e-04\n",
            "Epoch 147/1000\n",
            "383/383 [==============================] - 2s 6ms/step - loss: 0.0168 - accuracy: 0.9950 - val_loss: 0.0180 - val_accuracy: 0.9947 - lr: 9.8543e-04\n",
            "Epoch 148/1000\n",
            "383/383 [==============================] - 2s 6ms/step - loss: 0.0168 - accuracy: 0.9950 - val_loss: 0.0180 - val_accuracy: 0.9947 - lr: 9.8533e-04\n",
            "Epoch 149/1000\n",
            "383/383 [==============================] - 2s 6ms/step - loss: 0.0169 - accuracy: 0.9950 - val_loss: 0.0180 - val_accuracy: 0.9947 - lr: 9.8524e-04\n",
            "Epoch 150/1000\n",
            "383/383 [==============================] - 2s 4ms/step - loss: 0.0169 - accuracy: 0.9950 - val_loss: 0.0180 - val_accuracy: 0.9946 - lr: 9.8514e-04\n",
            "Epoch 151/1000\n",
            "383/383 [==============================] - 2s 4ms/step - loss: 0.0168 - accuracy: 0.9950 - val_loss: 0.0181 - val_accuracy: 0.9946 - lr: 9.8504e-04\n",
            "Epoch 152/1000\n",
            "383/383 [==============================] - 2s 4ms/step - loss: 0.0168 - accuracy: 0.9950 - val_loss: 0.0184 - val_accuracy: 0.9949 - lr: 9.8494e-04\n",
            "Epoch 153/1000\n",
            "383/383 [==============================] - 2s 4ms/step - loss: 0.0168 - accuracy: 0.9950 - val_loss: 0.0181 - val_accuracy: 0.9948 - lr: 9.8484e-04\n",
            "Epoch 154/1000\n",
            "377/383 [============================>.] - ETA: 0s - loss: 0.0169 - accuracy: 0.9950Restoring model weights from the end of the best epoch: 144.\n",
            "383/383 [==============================] - 2s 4ms/step - loss: 0.0168 - accuracy: 0.9950 - val_loss: 0.0179 - val_accuracy: 0.9948 - lr: 9.8474e-04\n",
            "Epoch 154: early stopping\n"
          ]
        }
      ]
    },
    {
      "cell_type": "markdown",
      "source": [
        "Check the training and validation loss and validation for unsual behaviour"
      ],
      "metadata": {
        "id": "O-_zaDPDudoh"
      }
    },
    {
      "cell_type": "code",
      "source": [
        "classifier_loss = classifier_history.history['loss']\n",
        "classifier_val_loss = classifier_history.history['val_loss']\n",
        "epochs = range(len(classifier_loss))\n",
        "plt.figure()\n",
        "plt.plot(epochs, classifier_loss, 'r', label='Training loss')\n",
        "plt.plot(epochs, classifier_val_loss, 'b', label='Validation loss')\n",
        "plt.title('Training and validation loss')\n",
        "plt.legend()\n",
        "plt.show()"
      ],
      "metadata": {
        "colab": {
          "base_uri": "https://localhost:8080/",
          "height": 452
        },
        "id": "djbK-xHe_1sr",
        "outputId": "509b9229-0163-4068-944a-e49edecad9bb"
      },
      "execution_count": 27,
      "outputs": [
        {
          "output_type": "display_data",
          "data": {
            "text/plain": [
              "<Figure size 640x480 with 1 Axes>"
            ],
            "image/png": "[encoded data removed]"
          },
          "metadata": {}
        }
      ]
    },
    {
      "cell_type": "code",
      "source": [
        "accuracy = classifier_history.history['accuracy']\n",
        "val_accuracy = classifier_history.history['val_accuracy']\n",
        "epochs = range(len(accuracy))\n",
        "plt.plot(epochs, accuracy, 'bo', label='Training accuracy')\n",
        "plt.plot(epochs, val_accuracy, 'b', label='Validation accuracy')\n",
        "plt.title('Training and validation accuracy')\n",
        "plt.legend()\n",
        "plt.show()"
      ],
      "metadata": {
        "colab": {
          "base_uri": "https://localhost:8080/",
          "height": 452
        },
        "id": "vpSJabsfUPF4",
        "outputId": "34428fef-8f4f-4eb5-b518-378b824da7a3"
      },
      "execution_count": 28,
      "outputs": [
        {
          "output_type": "display_data",
          "data": {
            "text/plain": [
              "<Figure size 640x480 with 1 Axes>"
            ],
            "image/png": "[encoded data removed]"
          },
          "metadata": {}
        }
      ]
    },
    {
      "cell_type": "markdown",
      "source": [
        "Save also this model weights"
      ],
      "metadata": {
        "id": "31JcUzzOunp6"
      }
    },
    {
      "cell_type": "code",
      "source": [
        "classifier_model.save_weights('/content/drive/MyDrive/JetDTsAutoencoder/classifier/')"
      ],
      "metadata": {
        "id": "1v3t07RVOgNp"
      },
      "execution_count": 29,
      "outputs": []
    },
    {
      "cell_type": "code",
      "source": [
        "classifier_model.load_weights('/content/drive/MyDrive/JetDTsAutoencoder/classifier/')"
      ],
      "metadata": {
        "colab": {
          "base_uri": "https://localhost:8080/"
        },
        "id": "4QsXPes0OtrT",
        "outputId": "dedf079a-ae55-4dc4-d69f-db602d4748c5"
      },
      "execution_count": null,
      "outputs": [
        {
          "output_type": "execute_result",
          "data": {
            "text/plain": [
              "<tensorflow.python.checkpoint.checkpoint.CheckpointLoadStatus at 0x7b277d8ff6a0>"
            ]
          },
          "metadata": {},
          "execution_count": 32
        }
      ]
    },
    {
      "cell_type": "markdown",
      "source": [
        "Check the final outpur results using the test sample"
      ],
      "metadata": {
        "id": "nlmGMAYmus23"
      }
    },
    {
      "cell_type": "code",
      "source": [
        "test_eval = classifier_model.evaluate(encoded_x_test, c_y_test)"
      ],
      "metadata": {
        "colab": {
          "base_uri": "https://localhost:8080/"
        },
        "id": "KwuIo8qNVC_x",
        "outputId": "8d68a8e0-cb5b-48e0-9a86-6a785e94818c"
      },
      "execution_count": 30,
      "outputs": [
        {
          "output_type": "stream",
          "name": "stdout",
          "text": [
            "875/875 [==============================] - 3s 4ms/step - loss: 0.0158 - accuracy: 0.9948\n"
          ]
        }
      ]
    },
    {
      "cell_type": "code",
      "source": [
        "print('Test loss:', test_eval[0])\n",
        "print('Test accuracy:', test_eval[1])"
      ],
      "metadata": {
        "colab": {
          "base_uri": "https://localhost:8080/"
        },
        "id": "KEzQVyfRVQ9v",
        "outputId": "7fb8f944-2780-4ccd-e1c2-b0c1245d14a1"
      },
      "execution_count": 31,
      "outputs": [
        {
          "output_type": "stream",
          "name": "stdout",
          "text": [
            "Test loss: 0.015837883576750755\n",
            "Test accuracy: 0.9947500228881836\n"
          ]
        }
      ]
    },
    {
      "cell_type": "markdown",
      "source": [
        "Check also the roc curve since it's a classification problem"
      ],
      "metadata": {
        "id": "-OpRKWsWu0f3"
      }
    },
    {
      "cell_type": "code",
      "source": [
        "from sklearn.metrics import roc_curve\n",
        "y_pred = classifier_model.predict(encoded_x_test).ravel()\n",
        "fpr_keras, tpr_keras, thresholds_keras = roc_curve(c_y_test, y_pred)"
      ],
      "metadata": {
        "colab": {
          "base_uri": "https://localhost:8080/"
        },
        "id": "a4FKPpD7dw5K",
        "outputId": "6d6ca667-774f-4876-a742-2f8a87408795"
      },
      "execution_count": 32,
      "outputs": [
        {
          "output_type": "stream",
          "name": "stdout",
          "text": [
            "875/875 [==============================] - 2s 2ms/step\n"
          ]
        }
      ]
    },
    {
      "cell_type": "code",
      "source": [
        "from sklearn.metrics import auc\n",
        "auc_keras = auc(fpr_keras, tpr_keras)"
      ],
      "metadata": {
        "id": "mUluPM8zeMFn"
      },
      "execution_count": 33,
      "outputs": []
    },
    {
      "cell_type": "code",
      "source": [
        "plt.figure(1)\n",
        "plt.plot([0, 1], [0, 1], 'k--')\n",
        "plt.plot(fpr_keras, tpr_keras, label='Classifier (area = {:.3f})'.format(auc_keras))\n",
        "plt.xlabel('False positive rate')\n",
        "plt.ylabel('True positive rate')\n",
        "plt.title('ROC curve')\n",
        "plt.legend(loc='best')\n",
        "plt.show()\n",
        "# Zoom in view of the upper left corner.\n",
        "plt.figure(2)\n",
        "plt.xlim(0, 0.2)\n",
        "plt.ylim(0.8, 1)\n",
        "plt.plot([0, 1], [0, 1], 'k--')\n",
        "plt.plot(fpr_keras, tpr_keras, label='Classifier (area = {:.3f})'.format(auc_keras))\n",
        "plt.xlabel('False positive rate')\n",
        "plt.ylabel('True positive rate')\n",
        "plt.title('ROC curve (zoomed in at top left)')\n",
        "plt.legend(loc='best')\n",
        "plt.show()"
      ],
      "metadata": {
        "colab": {
          "base_uri": "https://localhost:8080/",
          "height": 927
        },
        "id": "wtMhC-69eRN_",
        "outputId": "4d1c8648-fecb-4d2e-e092-c4153b9d33c3"
      },
      "execution_count": 34,
      "outputs": [
        {
          "output_type": "display_data",
          "data": {
            "text/plain": [
              "<Figure size 640x480 with 1 Axes>"
            ],
            "image/png": "[encoded data removed]"
          },
          "metadata": {}
        },
        {
          "output_type": "display_data",
          "data": {
            "text/plain": [
              "<Figure size 640x480 with 1 Axes>"
            ],
            "image/png": "[encoded data removed]"
          },
          "metadata": {}
        }
      ]
    },
    {
      "cell_type": "markdown",
      "source": [
        "Plot confusion matrix"
      ],
      "metadata": {
        "id": "i954BuHCd90t"
      }
    },
    {
      "cell_type": "code",
      "source": [
        "from sklearn.metrics import confusion_matrix\n",
        "conf_mtx = confusion_matrix(c_y_test, y_pred = np.round(y_pred).tolist() , normalize='all')\n",
        "print(conf_mtx)"
      ],
      "metadata": {
        "colab": {
          "base_uri": "https://localhost:8080/"
        },
        "id": "hBgdHdU1dylx",
        "outputId": "e795ad9e-1cca-44ab-900c-fe298a2f8633"
      },
      "execution_count": 46,
      "outputs": [
        {
          "output_type": "stream",
          "name": "stdout",
          "text": [
            "[[0.49689286 0.004     ]\n",
            " [0.00125    0.49785714]]\n"
          ]
        }
      ]
    }
  ]
}