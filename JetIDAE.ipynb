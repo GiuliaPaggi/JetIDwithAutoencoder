{
  "nbformat": 4,
  "nbformat_minor": 0,
  "metadata": {
    "colab": {
      "provenance": [],
      "mount_file_id": "1dD0w8GQZESpKL9QsLwtLpQ_Qk7ACYF9N",
      "authorship_tag": "ABX9TyMksTpNPLizBF9J8gF9V35j",
      "include_colab_link": true
    },
    "kernelspec": {
      "name": "python3",
      "display_name": "Python 3"
    },
    "language_info": {
      "name": "python"
    }
  },
  "cells": [
    {
      "cell_type": "markdown",
      "metadata": {
        "id": "view-in-github",
        "colab_type": "text"
      },
      "source": [
        "<a href=\"https://colab.research.google.com/github/GiuliaPaggi/JetIDwithAutoencoder/blob/main/JetIDAE.ipynb\" target=\"_parent\"><img src=\"https://colab.research.google.com/assets/colab-badge.svg\" alt=\"Open In Colab\"/></a>"
      ]
    },
    {
      "cell_type": "code",
      "execution_count": null,
      "metadata": {
        "id": "IbY9KGa9wnSn"
      },
      "outputs": [],
      "source": [
        "import numpy as np\n",
        "import pandas as pd\n",
        "import tensorflow as tf\n",
        "import os\n",
        "import keras\n",
        "\n",
        "from keras.models import Model\n",
        "from keras.layers import Dense, Input\n",
        "from keras.datasets import mnist\n",
        "from keras.regularizers import l1\n",
        "from tensorflow.keras.optimizers import Adam\n",
        "from tensorflow.keras import layers, models\n",
        "\n",
        "from IPython.utils.py3compat import no_code\n",
        "\n",
        "import matplotlib.pyplot as plt\n",
        "import seaborn as sns\n",
        "import warnings"
      ]
    },
    {
      "cell_type": "markdown",
      "source": [
        "Define layers input dimensions"
      ],
      "metadata": {
        "id": "Kdg3SRf5ygLD"
      }
    },
    {
      "cell_type": "code",
      "source": [
        "n_chann = 98\n",
        "layer = 8\n",
        "n_input = (n_chann*layer)+2 #len of vector\n",
        "n_hidden1 = int(n_input/2)\n",
        "n_code = int(n_hidden1/2) #codings\n",
        "n_hidden2 = n_hidden1\n",
        "n_output = n_input\n"
      ],
      "metadata": {
        "id": "9ciYtTQvyD4h"
      },
      "execution_count": null,
      "outputs": []
    },
    {
      "cell_type": "code",
      "source": [
        "train_ae = False"
      ],
      "metadata": {
        "id": "gtb-uSuxk6YW"
      },
      "execution_count": null,
      "outputs": []
    },
    {
      "cell_type": "markdown",
      "source": [
        "Import shower data from drive"
      ],
      "metadata": {
        "id": "fwUW0SaFzDi-"
      }
    },
    {
      "cell_type": "code",
      "source": [
        "os.chdir('/content/drive/MyDrive/JetDTsAutoencoder/data/')\n",
        "csv_files_shower = [f for f in os.listdir() if (f.startswith('shower') and f.endswith('.csv'))]\n",
        "dfs = []\n",
        "\n",
        "for data_file in csv_files_shower :\n",
        "  print(\"Read \"+data_file)\n",
        "  s_df = pd.read_csv(data_file)\n",
        "  dfs.append(s_df)\n",
        "\n",
        "df = pd.concat(dfs, ignore_index = True)\n",
        "\n",
        "df = df.drop(columns= 'Unnamed: 0')\n",
        "df = df.sample(frac = 1).reset_index(drop=True)\n",
        "del(dfs)\n"
      ],
      "metadata": {
        "colab": {
          "base_uri": "https://localhost:8080/"
        },
        "id": "SrJXwT0szE6S",
        "outputId": "fb3bef79-de73-423a-bd25-7a56585587b7"
      },
      "execution_count": null,
      "outputs": [
        {
          "output_type": "stream",
          "name": "stdout",
          "text": [
            "Read shower_HiddenGluGluH_mH-375_Phi-60_ctau-1000_8.csv\n",
            "Read shower_HiddenGluGluH_mH-375_Phi-60_ctau-1000_23.csv\n",
            "Read shower_HiddenGluGluH_mH-375_Phi-60_ctau-1000_1.csv\n",
            "Read shower_HiddenGluGluH_mH-375_Phi-60_ctau-1000_10.csv\n",
            "Read shower_HiddenGluGluH_mH-375_Phi-60_ctau-1000_20.csv\n",
            "Read shower_HiddenGluGluH_mH-375_Phi-60_ctau-1000_4.csv\n",
            "Read shower_HiddenGluGluH_mH-375_Phi-60_ctau-1000_14.csv\n",
            "Read shower_HiddenGluGluH_mH-375_Phi-60_ctau-1000_0.csv\n",
            "Read shower_HiddenGluGluH_mH-375_Phi-60_ctau-1000_7.csv\n",
            "Read shower_HiddenGluGluH_mH-375_Phi-60_ctau-1000_13.csv\n",
            "Read shower_HiddenGluGluH_mH-375_Phi-60_ctau-1000_15.csv\n",
            "Read shower_HiddenGluGluH_mH-375_Phi-60_ctau-1000_26.csv\n",
            "Read shower_HiddenGluGluH_mH-375_Phi-60_ctau-1000_22.csv\n",
            "Read shower_HiddenGluGluH_mH-375_Phi-60_ctau-1000_24.csv\n",
            "Read shower_HiddenGluGluH_mH-375_Phi-60_ctau-1000_18.csv\n",
            "Read shower_HiddenGluGluH_mH-375_Phi-60_ctau-1000_19.csv\n",
            "Read shower_HiddenGluGluH_mH-375_Phi-60_ctau-1000_27.csv\n",
            "Read shower_HiddenGluGluH_mH-375_Phi-60_ctau-1000_21.csv\n",
            "Read shower_HiddenGluGluH_mH-375_Phi-60_ctau-1000_5.csv\n",
            "Read shower_HiddenGluGluH_mH-375_Phi-60_ctau-1000_11.csv\n",
            "Read shower_HiddenGluGluH_mH-375_Phi-60_ctau-1000_9.csv\n",
            "Read shower_HiddenGluGluH_mH-375_Phi-60_ctau-1000_3.csv\n",
            "Read shower_HiddenGluGluH_mH-375_Phi-60_ctau-1000_6.csv\n",
            "Read shower_HiddenGluGluH_mH-375_Phi-60_ctau-1000_2.csv\n",
            "Read shower_HiddenGluGluH_mH-375_Phi-60_ctau-1000_17.csv\n",
            "Read shower_HiddenGluGluH_mH-375_Phi-60_ctau-1000_25.csv\n",
            "Read shower_HiddenGluGluH_mH-375_Phi-60_ctau-1000_12.csv\n",
            "Read shower_HiddenGluGluH_mH-375_Phi-60_ctau-1000_16.csv\n"
          ]
        }
      ]
    },
    {
      "cell_type": "markdown",
      "source": [
        "split in train, validation and test samples -> remove validation, use validation_split attribute of training method"
      ],
      "metadata": {
        "id": "rxURPTt41ANl"
      }
    },
    {
      "cell_type": "code",
      "source": [
        "print(df.iloc[:10, :(n_input-2)])"
      ],
      "metadata": {
        "colab": {
          "base_uri": "https://localhost:8080/"
        },
        "id": "LTmx3RSoUVNx",
        "outputId": "6120816a-22a6-41aa-9f84-a13f7fbd1735"
      },
      "execution_count": null,
      "outputs": [
        {
          "output_type": "stream",
          "name": "stdout",
          "text": [
            "   ch1l1  ch1l2  ch1l3  ch1l4  ch1l5  ch1l6  ch1l7  ch1l8  ch2l1  ch2l2  ...  \\\n",
            "0      0      0      0      0      0      0      0      0      0      0  ...   \n",
            "1      0      0      0      0      0      0      0      0      0      0  ...   \n",
            "2      0      0      0      0      0      0      0      0      0      0  ...   \n",
            "3      0      0      0      0      0      0      0      0      0      0  ...   \n",
            "4      0      0      0      0      0      0      0      0      0      0  ...   \n",
            "5      0      0      0      0      0      0      0      0      0      0  ...   \n",
            "6      0      0      0      0      0      0      0      0      0      0  ...   \n",
            "7      0      0      0      0      0      0      0      0      0      0  ...   \n",
            "8      0      0      0      0      0      0      0      0      0      0  ...   \n",
            "9      0      0      0      0      0      0      0      0      0      0  ...   \n",
            "\n",
            "   ch97l7  ch97l8  ch98l1  ch98l2  ch98l3  ch98l4  ch98l5  ch98l6  ch98l7  \\\n",
            "0       0       0       0       0       0       0       0       0       0   \n",
            "1       0       0       0       0       0       0       0       0       0   \n",
            "2       0       0       0       0       0       0       0       0       0   \n",
            "3       0       0       0       0       0       0       0       0       0   \n",
            "4       0       0       0       0       0       0       0       0       0   \n",
            "5       0       0       0       0       0       0       0       0       0   \n",
            "6       0       0       0       0       0       0       0       0       0   \n",
            "7       0       0       0       0       0       0       0       0       0   \n",
            "8       0       0       0       0       0       0       0       0       0   \n",
            "9       0       0       0       0       0       0       0       0       0   \n",
            "\n",
            "   ch98l8  \n",
            "0       0  \n",
            "1       0  \n",
            "2       0  \n",
            "3       0  \n",
            "4       0  \n",
            "5       0  \n",
            "6       0  \n",
            "7       0  \n",
            "8       0  \n",
            "9       0  \n",
            "\n",
            "[10 rows x 784 columns]\n"
          ]
        }
      ]
    },
    {
      "cell_type": "markdown",
      "source": [
        "Divide in train - validation - test"
      ],
      "metadata": {
        "id": "YXDfxSlysqxD"
      }
    },
    {
      "cell_type": "code",
      "source": [
        "if train_ae :\n",
        "  train_events = round(len(df)*.7)\n",
        "  validation_events = round(len(df)*.2)\n",
        "  test_events = len(df)-(train_events+validation_events)\n",
        "\n",
        "  x_train = df.iloc[:train_events, :n_input]\n",
        "  x_validation = df.iloc[train_events:(train_events+validation_events), :n_input]\n",
        "  x_test = df.iloc[(train_events+validation_events):, :n_input]\n",
        "\n",
        "  y_train = df.iloc[:train_events, n_input:]\n",
        "  y_validation = df.iloc[train_events:(train_events+validation_events), n_input:]\n",
        "  y_test = df.iloc[(train_events+validation_events):, n_input:]\n"
      ],
      "metadata": {
        "id": "OdzmOoL-1GNE"
      },
      "execution_count": null,
      "outputs": []
    },
    {
      "cell_type": "markdown",
      "source": [
        "Check the correct division in train - validation - test samples"
      ],
      "metadata": {
        "id": "NK9KajRpsltl"
      }
    },
    {
      "cell_type": "code",
      "source": [
        "if train_ae :\n",
        "  print(len(df))\n",
        "  print(\"train sample\")\n",
        "  print(train_events)\n",
        "  print(len(x_train))\n",
        "  print(\"validation sample\")\n",
        "  print(validation_events)\n",
        "  print(len(x_validation))\n",
        "  print(\"test sample\")\n",
        "  print(len(x_test))\n"
      ],
      "metadata": {
        "id": "xRZwKpFi1-_a"
      },
      "execution_count": null,
      "outputs": []
    },
    {
      "cell_type": "code",
      "source": [
        "if train_ae :\n",
        "  len(x_train.to_numpy()[0])"
      ],
      "metadata": {
        "id": "uAvmboXVh-sy"
      },
      "execution_count": null,
      "outputs": []
    },
    {
      "cell_type": "markdown",
      "source": [
        "Define plotting functions"
      ],
      "metadata": {
        "id": "ZqciIB6wsg4q"
      }
    },
    {
      "cell_type": "code",
      "source": [
        "def plot_input(sample, n, dims):\n",
        "    # number of example to show\n",
        "    plt.figure(figsize=(80, 36))\n",
        "    for i in range(n):\n",
        "        # plot original image\n",
        "        ax = plt.subplot(2, n, i + 1)\n",
        "        event = np.random.randint(0, (layer*n_chann)+1)\n",
        "        print(event)\n",
        "        digi = n_input-2\n",
        "        plt.imshow(sample.iloc[event, :digi].to_numpy().reshape(*dims))\n",
        "        plt.gray()\n",
        "        ax.get_xaxis().set_visible(False)\n",
        "        ax.get_yaxis().set_visible(False)\n",
        "        if i == n/2:\n",
        "            ax.set_title('Original Images')\n",
        "\n",
        "    plt.show()\n",
        "\n",
        "def plot_autoencoder_outputs(sample, autoencoder, n, dims):\n",
        "    decoded_imgs = autoencoder.predict(sample)\n",
        "\n",
        "    # number of example digits to show\n",
        "    plt.figure(figsize=(8, 6))\n",
        "    for i in range(n):\n",
        "        # plot original image\n",
        "        ax = plt.subplot(2, n, i + 1)\n",
        "        event = np.random.randint(0, (layer*n_chann)+1)\n",
        "        print(event)\n",
        "        plt.imshow(sample.iloc[i, :-2].to_numpy().reshape(*dims))\n",
        "        plt.gray()\n",
        "        ax.get_xaxis().set_visible(False)\n",
        "        ax.get_yaxis().set_visible(False)\n",
        "        if i == n/2:\n",
        "            ax.set_title('Original Images')\n",
        "\n",
        "        # plot reconstruction\n",
        "        ax = plt.subplot(2, n, i + 1 + n)\n",
        "        plt.imshow(decoded_imgs[i,:-2].reshape(*dims))\n",
        "        plt.gray()\n",
        "        ax.get_xaxis().set_visible(False)\n",
        "        ax.get_yaxis().set_visible(False)\n",
        "        if i == n/2:\n",
        "            ax.set_title('Reconstructed Images')\n",
        "    plt.show()\n",
        "\n",
        "def plot_loss(history):\n",
        "    historydf = pd.DataFrame(history.history, index=history.epoch)\n",
        "    plt.figure(figsize=(8, 6))\n",
        "    historydf.plot(ylim=(0, historydf.values.max()))\n",
        "    plt.title('Loss: %.3f' % history.history['loss'][-1])"
      ],
      "metadata": {
        "id": "gDOQAbTO_rV5"
      },
      "execution_count": null,
      "outputs": []
    },
    {
      "cell_type": "markdown",
      "source": [
        "Check the input images"
      ],
      "metadata": {
        "id": "VsQzwDopsZae"
      }
    },
    {
      "cell_type": "code",
      "source": [
        "plot_input(df, 1, (layer, n_chann))"
      ],
      "metadata": {
        "colab": {
          "base_uri": "https://localhost:8080/",
          "height": 186
        },
        "id": "aakCIISH7hLr",
        "outputId": "5ca3b175-d7a4-46e8-9ec1-a953390b259c"
      },
      "execution_count": null,
      "outputs": [
        {
          "output_type": "stream",
          "name": "stdout",
          "text": [
            "568\n"
          ]
        },
        {
          "output_type": "display_data",
          "data": {
            "text/plain": [
              "<Figure size 8000x3600 with 1 Axes>"
            ],
            "image/png": "[encoded data removed]"
          },
          "metadata": {}
        }
      ]
    },
    {
      "cell_type": "code",
      "source": [
        "if train_ae :\n",
        "  print(x_train.shape[1])"
      ],
      "metadata": {
        "id": "rWb7_Umu64FN"
      },
      "execution_count": null,
      "outputs": []
    },
    {
      "cell_type": "markdown",
      "source": [
        "Define the autoencoder model"
      ],
      "metadata": {
        "id": "SLZP7BSTr9S_"
      }
    },
    {
      "cell_type": "code",
      "source": [
        "input_img = n_input\n",
        "#define separately encoder and decoder to extract encoder for classification after training\n",
        "encoder = models.Sequential([\n",
        "    layers.InputLayer(input_shape=(input_img,)),\n",
        "    layers.Dense(n_hidden1, activation='relu'),\n",
        "    layers.Dense(n_code, activation='relu'),\n",
        "])\n",
        "\n",
        "# Decoder\n",
        "decoder = models.Sequential([\n",
        "    layers.Dense(n_hidden1, activation='relu', input_shape=(n_code,)),\n",
        "    layers.Dense(input_img, activation='sigmoid'),\n",
        "])\n",
        "\n",
        "# Autoencoder\n",
        "autoencoder = models.Sequential([\n",
        "    encoder,\n",
        "    decoder,\n",
        "])\n",
        "\n",
        "l_rate = 0.001 # 0.001 default value\n",
        "\n",
        "#schedule learning rate to change\n",
        "lr_scheduler = keras.optimizers.schedules.ExponentialDecay(\n",
        "    initial_learning_rate=1e-3,\n",
        "    decay_steps=100,\n",
        "    decay_rate=0.99)\n",
        "\n",
        "schedule = keras.callbacks.LearningRateScheduler(lr_scheduler)\n",
        "#implement early stopping\n",
        "early_stop = keras.callbacks.EarlyStopping(monitor='loss', patience=10, verbose=1, restore_best_weights=True, mode = 'min')\n",
        "\n",
        "autoencoder.compile(optimizer='adam', loss='MSE')\n"
      ],
      "metadata": {
        "id": "oJj-oIXH9n8L"
      },
      "execution_count": null,
      "outputs": []
    },
    {
      "cell_type": "markdown",
      "source": [
        "Check the autoencoder model"
      ],
      "metadata": {
        "id": "57FfHcwWtSSF"
      }
    },
    {
      "cell_type": "code",
      "source": [
        "if train_ae:\n",
        "  autoencoder.summary()"
      ],
      "metadata": {
        "id": "7E82ineF-Lwg"
      },
      "execution_count": null,
      "outputs": []
    },
    {
      "cell_type": "code",
      "source": [
        "if train_ae :\n",
        "  n_epochs = 250\n",
        "  tf.keras.backend.clear_session()\n",
        "  tf.random.set_seed(42)\n",
        "\n",
        "  history = autoencoder.fit(x_train, x_train, batch_size= 512, epochs=n_epochs, validation_data=(x_validation, x_validation), callbacks=[schedule, early_stop])"
      ],
      "metadata": {
        "id": "F7uCF0VP-SJj"
      },
      "execution_count": null,
      "outputs": []
    },
    {
      "cell_type": "markdown",
      "source": [
        "Plot train and validation loss during the training to check for convergence/overfitting"
      ],
      "metadata": {
        "id": "uHMZsrlVtYvy"
      }
    },
    {
      "cell_type": "code",
      "source": [
        "if train_ae :\n",
        "  loss = history.history['loss']\n",
        "  val_loss = history.history['val_loss']\n",
        "  epochs = range(204)\n",
        "  plt.figure()\n",
        "  plt.plot(epochs, loss, 'r', label='Training loss')\n",
        "  plt.plot(epochs, val_loss, 'b', label='Validation loss')\n",
        "  plt.title('Training and validation loss')\n",
        "  plt.legend()\n",
        "  plt.show()"
      ],
      "metadata": {
        "id": "U2Wg1IrSJ1VE"
      },
      "execution_count": null,
      "outputs": []
    },
    {
      "cell_type": "markdown",
      "source": [
        "save the model after training"
      ],
      "metadata": {
        "id": "Qzo09RTcblw6"
      }
    },
    {
      "cell_type": "code",
      "source": [
        "if train_ae :\n",
        "  from google.colab import drive\n",
        "  drive.mount('/content/drive')"
      ],
      "metadata": {
        "id": "hnZZ9LKQbgTn"
      },
      "execution_count": null,
      "outputs": []
    },
    {
      "cell_type": "code",
      "source": [
        "if train_ae :\n",
        "  autoencoder.save_weights('/content/drive/MyDrive/JetDTsAutoencoder')"
      ],
      "metadata": {
        "id": "6HJkf2YTblY3"
      },
      "execution_count": null,
      "outputs": []
    },
    {
      "cell_type": "markdown",
      "source": [
        "load previously saved weights so there is no need to train every time"
      ],
      "metadata": {
        "id": "MV9ZcFT1BKtM"
      }
    },
    {
      "cell_type": "code",
      "source": [
        "autoencoder.load_weights('/content/drive/MyDrive/JetDTsAutoencoder')"
      ],
      "metadata": {
        "colab": {
          "base_uri": "https://localhost:8080/"
        },
        "id": "BZSY0A846ZRz",
        "outputId": "485bf22b-d3e4-408e-b6de-d0093bd30f85"
      },
      "execution_count": null,
      "outputs": [
        {
          "output_type": "execute_result",
          "data": {
            "text/plain": [
              "<tensorflow.python.checkpoint.checkpoint.CheckpointLoadStatus at 0x7b277d8ffb20>"
            ]
          },
          "metadata": {},
          "execution_count": 18
        }
      ]
    },
    {
      "cell_type": "code",
      "source": [
        "if train_ae:\n",
        "  test_eval = autoencoder.evaluate(x_test, x_test)"
      ],
      "metadata": {
        "id": "Kfb-HVpW53Uj"
      },
      "execution_count": null,
      "outputs": []
    },
    {
      "cell_type": "code",
      "source": [
        "if train_ae:\n",
        "  plot_autoencoder_outputs(x_validation, autoencoder, 2, (layer, n_chann))"
      ],
      "metadata": {
        "id": "52VQVfkz3otd"
      },
      "execution_count": null,
      "outputs": []
    },
    {
      "cell_type": "markdown",
      "source": [
        "Use the trained model encoder part for classification"
      ],
      "metadata": {
        "id": "BO6kl1ofn9OU"
      }
    },
    {
      "cell_type": "markdown",
      "source": [
        "Import the muon data and add them to the dataset, shuffle"
      ],
      "metadata": {
        "id": "Fu6ce6krtt9S"
      }
    },
    {
      "cell_type": "code",
      "source": [
        "#add muons to the dataset\n",
        "\n",
        "df[\"is_muon\"] = 0\n",
        "\n",
        "dfs = []\n",
        "csv_files_muon = [f for f in os.listdir() if (f.startswith('muon') and f.endswith('.csv'))]\n",
        "for data_file in csv_files_muon :\n",
        "  print(\"Read \"+data_file)\n",
        "  m_df = pd.read_csv(data_file)\n",
        "  m_df[\"is_muon\"] = 1\n",
        "  dfs.append(m_df)\n",
        "\n",
        "\n",
        "c_df = pd.concat(dfs, ignore_index = True)\n",
        "del(dfs)\n",
        "c_df = c_df.drop(columns = 'Unnamed: 0')\n",
        "\n",
        "c_df = pd.concat([c_df, df], ignore_index=True)\n",
        "c_df = c_df.sample(frac = 1).reset_index(drop=True)\n"
      ],
      "metadata": {
        "colab": {
          "base_uri": "https://localhost:8080/"
        },
        "id": "GRFK-geuLMd4",
        "outputId": "28c6fe03-a6d2-4ec2-ae35-4a97e2932d0b"
      },
      "execution_count": null,
      "outputs": [
        {
          "output_type": "stream",
          "name": "stdout",
          "text": [
            "Read muon_HiddenGluGluH_mH-375_Phi-60_ctau-1000_7.csv\n",
            "Read muon_HiddenGluGluH_mH-375_Phi-60_ctau-1000_26.csv\n",
            "Read muon_HiddenGluGluH_mH-375_Phi-60_ctau-1000_11.csv\n",
            "Read muon_HiddenGluGluH_mH-375_Phi-60_ctau-1000_30.csv\n",
            "Read muon_HiddenGluGluH_mH-375_Phi-60_ctau-1000_22.csv\n",
            "Read muon_HiddenGluGluH_mH-375_Phi-60_ctau-1000_9.csv\n",
            "Read muon_HiddenGluGluH_mH-375_Phi-60_ctau-1000_15.csv\n",
            "Read muon_HiddenGluGluH_mH-375_Phi-60_ctau-1000_28.csv\n",
            "Read muon_HiddenGluGluH_mH-375_Phi-60_ctau-1000_6.csv\n",
            "Read muon_HiddenGluGluH_mH-375_Phi-60_ctau-1000_23.csv\n",
            "Read muon_HiddenGluGluH_mH-375_Phi-60_ctau-1000_29.csv\n",
            "Read muon_HiddenGluGluH_mH-375_Phi-60_ctau-1000_25.csv\n",
            "Read muon_HiddenGluGluH_mH-375_Phi-60_ctau-1000_17.csv\n",
            "Read muon_HiddenGluGluH_mH-375_Phi-60_ctau-1000_19.csv\n",
            "Read muon_HiddenGluGluH_mH-375_Phi-60_ctau-1000_5.csv\n",
            "Read muon_HiddenGluGluH_mH-375_Phi-60_ctau-1000_1.csv\n",
            "Read muon_HiddenGluGluH_mH-375_Phi-60_ctau-1000_8.csv\n",
            "Read muon_HiddenGluGluH_mH-375_Phi-60_ctau-1000_20.csv\n",
            "Read muon_HiddenGluGluH_mH-375_Phi-60_ctau-1000_4.csv\n",
            "Read muon_HiddenGluGluH_mH-375_Phi-60_ctau-1000_21.csv\n",
            "Read muon_HiddenGluGluH_mH-375_Phi-60_ctau-1000_10.csv\n",
            "Read muon_HiddenGluGluH_mH-375_Phi-60_ctau-1000_18.csv\n",
            "Read muon_HiddenGluGluH_mH-375_Phi-60_ctau-1000_14.csv\n",
            "Read muon_HiddenGluGluH_mH-375_Phi-60_ctau-1000_13.csv\n",
            "Read muon_HiddenGluGluH_mH-375_Phi-60_ctau-1000_27.csv\n",
            "Read muon_HiddenGluGluH_mH-375_Phi-60_ctau-1000_24.csv\n",
            "Read muon_HiddenGluGluH_mH-375_Phi-60_ctau-1000_12.csv\n",
            "Read muon_HiddenGluGluH_mH-375_Phi-60_ctau-1000_16.csv\n",
            "Read muon_HiddenGluGluH_mH-375_Phi-60_ctau-1000_3.csv\n",
            "Read muon_HiddenGluGluH_mH-375_Phi-60_ctau-1000_0.csv\n",
            "Read muon_HiddenGluGluH_mH-375_Phi-60_ctau-1000_2.csv\n"
          ]
        }
      ]
    },
    {
      "cell_type": "markdown",
      "source": [
        "Divide also the new dataset in train validation and test subsample"
      ],
      "metadata": {
        "id": "MHazaYxzaNT2"
      }
    },
    {
      "cell_type": "code",
      "source": [
        "print(len(c_df))\n",
        "classification_train_events = round(len(c_df)*.7)\n",
        "classification_validation_events = round(len(c_df)*.2)\n",
        "classification_test_events = len(c_df)-(classification_train_events+classification_validation_events)\n",
        "\n",
        "c_x_train = c_df.iloc[:classification_train_events , :n_input]\n",
        "c_x_validation = c_df.iloc[classification_train_events:(classification_train_events+classification_validation_events) , :n_input]\n",
        "c_x_test = c_df.iloc[(classification_train_events+classification_validation_events): , :n_input]\n",
        "\n",
        "c_y_train = c_df.iloc[:classification_train_events, n_input:]\n",
        "c_y_validation = c_df.iloc[classification_train_events:(classification_train_events+classification_validation_events), n_input:]\n",
        "c_y_test = c_df.iloc[(classification_train_events+classification_validation_events):, n_input:]"
      ],
      "metadata": {
        "colab": {
          "base_uri": "https://localhost:8080/"
        },
        "id": "iTbToaGOaMcD",
        "outputId": "1bebbe2f-a075-48ee-dc35-a1b76b965324"
      },
      "execution_count": null,
      "outputs": [
        {
          "output_type": "stream",
          "name": "stdout",
          "text": [
            "295000\n"
          ]
        }
      ]
    },
    {
      "cell_type": "code",
      "source": [
        "  print(len(c_df))\n",
        "  print(\"train sample\")\n",
        "  print(classification_train_events)\n",
        "  print(len(c_x_train))\n",
        "  print(\"validation sample\")\n",
        "  print(classification_validation_events)\n",
        "  print(len(c_x_validation))\n",
        "  print(\"test sample\")\n",
        "  print(len(c_x_test))"
      ],
      "metadata": {
        "colab": {
          "base_uri": "https://localhost:8080/"
        },
        "id": "ZdbK94ZiPc0l",
        "outputId": "be31305c-757e-4de9-821c-46c851172bb9"
      },
      "execution_count": null,
      "outputs": [
        {
          "output_type": "stream",
          "name": "stdout",
          "text": [
            "295000\n",
            "train sample\n",
            "206500\n",
            "206500\n",
            "validation sample\n",
            "59000\n",
            "59000\n",
            "test sample\n",
            "29500\n"
          ]
        }
      ]
    },
    {
      "cell_type": "markdown",
      "source": [
        "Check the images also with muons"
      ],
      "metadata": {
        "id": "So37XCc1t_hj"
      }
    },
    {
      "cell_type": "code",
      "source": [
        "plot_input(c_df, 1, (layer, n_chann))"
      ],
      "metadata": {
        "colab": {
          "base_uri": "https://localhost:8080/",
          "height": 186
        },
        "id": "CZbG9XUNeO-V",
        "outputId": "9dd5ff43-feb6-4e7a-870d-9d58519fe9a2"
      },
      "execution_count": null,
      "outputs": [
        {
          "output_type": "stream",
          "name": "stdout",
          "text": [
            "203\n"
          ]
        },
        {
          "output_type": "display_data",
          "data": {
            "text/plain": [
              "<Figure size 8000x3600 with 1 Axes>"
            ],
            "image/png": "[encoded data removed]"
          },
          "metadata": {}
        }
      ]
    },
    {
      "cell_type": "markdown",
      "source": [
        "Define the fully connected layer for muon/shower classification"
      ],
      "metadata": {
        "id": "mAyRTo8luI3f"
      }
    },
    {
      "cell_type": "code",
      "source": [
        "# Extract the encoder part for classification\n",
        "\n",
        "#fully connected layer which receives the codings from the encoder part\n",
        "encoded_input = layers.Input(shape=(n_code,))\n",
        "classifier_output = layers.Dense(1, activation='sigmoid')(encoded_input)\n",
        "classifier_model = models.Model(encoded_input, classifier_output)\n",
        "\n",
        "# Compile the classifier model\n",
        "classifier_model.compile(optimizer='adam', loss='binary_crossentropy', metrics=['accuracy'])\n"
      ],
      "metadata": {
        "id": "WrpL-WtnkBou"
      },
      "execution_count": null,
      "outputs": []
    },
    {
      "cell_type": "markdown",
      "source": [
        "Use the encoder that was trained before to reduce the dimensionality of the input images for train -  validation - test samples"
      ],
      "metadata": {
        "id": "_EvpdtwnuOne"
      }
    },
    {
      "cell_type": "code",
      "source": [
        "encoded_x_train= encoder.predict(c_x_train)\n",
        "encoded_x_validation = encoder.predict(c_x_validation)\n",
        "encoded_x_test = encoder.predict(c_x_test)"
      ],
      "metadata": {
        "colab": {
          "base_uri": "https://localhost:8080/"
        },
        "id": "xMGevR6hDjXq",
        "outputId": "2619eb22-ae47-424a-d785-48ef62cf4dc9"
      },
      "execution_count": null,
      "outputs": [
        {
          "output_type": "stream",
          "name": "stdout",
          "text": [
            "6454/6454 [==============================] - 21s 3ms/step\n",
            "1844/1844 [==============================] - 7s 4ms/step\n",
            "922/922 [==============================] - 3s 3ms/step\n"
          ]
        }
      ]
    },
    {
      "cell_type": "markdown",
      "source": [
        "Train the classifier layer"
      ],
      "metadata": {
        "id": "Cjryn8YiuacK"
      }
    },
    {
      "cell_type": "code",
      "source": [
        "# Train the classifier\n",
        "classifier_history = classifier_model.fit(x= encoded_x_train, y = c_y_train, epochs=1000, batch_size= 512, validation_data=(encoded_x_validation, c_y_validation), callbacks=[schedule, early_stop])"
      ],
      "metadata": {
        "colab": {
          "base_uri": "https://localhost:8080/"
        },
        "id": "kkSqNqzbqulH",
        "outputId": "c682b114-d459-4c6d-8ebb-51977950c160"
      },
      "execution_count": null,
      "outputs": [
        {
          "output_type": "stream",
          "name": "stdout",
          "text": [
            "Epoch 1/1000\n",
            "404/404 [==============================] - 3s 5ms/step - loss: 0.8658 - accuracy: 0.6984 - val_loss: 0.3998 - val_accuracy: 0.8516 - lr: 0.0010\n",
            "Epoch 2/1000\n",
            "404/404 [==============================] - 1s 3ms/step - loss: 0.3020 - accuracy: 0.8948 - val_loss: 0.2361 - val_accuracy: 0.9231 - lr: 9.9990e-04\n",
            "Epoch 3/1000\n",
            "404/404 [==============================] - 1s 3ms/step - loss: 0.2018 - accuracy: 0.9357 - val_loss: 0.1749 - val_accuracy: 0.9448 - lr: 9.9980e-04\n",
            "Epoch 4/1000\n",
            "404/404 [==============================] - 1s 3ms/step - loss: 0.1600 - accuracy: 0.9503 - val_loss: 0.1471 - val_accuracy: 0.9563 - lr: 9.9970e-04\n",
            "Epoch 5/1000\n",
            "404/404 [==============================] - 1s 3ms/step - loss: 0.1385 - accuracy: 0.9578 - val_loss: 0.1287 - val_accuracy: 0.9615 - lr: 9.9960e-04\n",
            "Epoch 6/1000\n",
            "404/404 [==============================] - 1s 3ms/step - loss: 0.1260 - accuracy: 0.9621 - val_loss: 0.1215 - val_accuracy: 0.9618 - lr: 9.9950e-04\n",
            "Epoch 7/1000\n",
            "404/404 [==============================] - 1s 3ms/step - loss: 0.1182 - accuracy: 0.9642 - val_loss: 0.1163 - val_accuracy: 0.9632 - lr: 9.9940e-04\n",
            "Epoch 8/1000\n",
            "404/404 [==============================] - 1s 3ms/step - loss: 0.1129 - accuracy: 0.9657 - val_loss: 0.1108 - val_accuracy: 0.9680 - lr: 9.9930e-04\n",
            "Epoch 9/1000\n",
            "404/404 [==============================] - 1s 3ms/step - loss: 0.1097 - accuracy: 0.9667 - val_loss: 0.1061 - val_accuracy: 0.9675 - lr: 9.9920e-04\n",
            "Epoch 10/1000\n",
            "404/404 [==============================] - 2s 4ms/step - loss: 0.1073 - accuracy: 0.9672 - val_loss: 0.1036 - val_accuracy: 0.9684 - lr: 9.9910e-04\n",
            "Epoch 11/1000\n",
            "404/404 [==============================] - 2s 5ms/step - loss: 0.1053 - accuracy: 0.9678 - val_loss: 0.1047 - val_accuracy: 0.9691 - lr: 9.9900e-04\n",
            "Epoch 12/1000\n",
            "404/404 [==============================] - 2s 4ms/step - loss: 0.1048 - accuracy: 0.9680 - val_loss: 0.1009 - val_accuracy: 0.9694 - lr: 9.9890e-04\n",
            "Epoch 13/1000\n",
            "404/404 [==============================] - 1s 3ms/step - loss: 0.1035 - accuracy: 0.9683 - val_loss: 0.1005 - val_accuracy: 0.9701 - lr: 9.9879e-04\n",
            "Epoch 14/1000\n",
            "404/404 [==============================] - 1s 3ms/step - loss: 0.1031 - accuracy: 0.9684 - val_loss: 0.1000 - val_accuracy: 0.9689 - lr: 9.9869e-04\n",
            "Epoch 15/1000\n",
            "404/404 [==============================] - 1s 3ms/step - loss: 0.1026 - accuracy: 0.9685 - val_loss: 0.1045 - val_accuracy: 0.9672 - lr: 9.9859e-04\n",
            "Epoch 16/1000\n",
            "404/404 [==============================] - 1s 3ms/step - loss: 0.1015 - accuracy: 0.9687 - val_loss: 0.0978 - val_accuracy: 0.9706 - lr: 9.9849e-04\n",
            "Epoch 17/1000\n",
            "404/404 [==============================] - 1s 3ms/step - loss: 0.1010 - accuracy: 0.9689 - val_loss: 0.0974 - val_accuracy: 0.9705 - lr: 9.9839e-04\n",
            "Epoch 18/1000\n",
            "404/404 [==============================] - 1s 3ms/step - loss: 0.1007 - accuracy: 0.9689 - val_loss: 0.0971 - val_accuracy: 0.9704 - lr: 9.9829e-04\n",
            "Epoch 19/1000\n",
            "404/404 [==============================] - 1s 3ms/step - loss: 0.1002 - accuracy: 0.9691 - val_loss: 0.0989 - val_accuracy: 0.9690 - lr: 9.9819e-04\n",
            "Epoch 20/1000\n",
            "404/404 [==============================] - 1s 3ms/step - loss: 0.0999 - accuracy: 0.9691 - val_loss: 0.0969 - val_accuracy: 0.9707 - lr: 9.9809e-04\n",
            "Epoch 21/1000\n",
            "404/404 [==============================] - 2s 4ms/step - loss: 0.0994 - accuracy: 0.9694 - val_loss: 0.0957 - val_accuracy: 0.9711 - lr: 9.9799e-04\n",
            "Epoch 22/1000\n",
            "404/404 [==============================] - 2s 5ms/step - loss: 0.0989 - accuracy: 0.9696 - val_loss: 0.0978 - val_accuracy: 0.9706 - lr: 9.9789e-04\n",
            "Epoch 23/1000\n",
            "404/404 [==============================] - 1s 3ms/step - loss: 0.0988 - accuracy: 0.9696 - val_loss: 0.0949 - val_accuracy: 0.9713 - lr: 9.9779e-04\n",
            "Epoch 24/1000\n",
            "404/404 [==============================] - 1s 3ms/step - loss: 0.0980 - accuracy: 0.9695 - val_loss: 0.0961 - val_accuracy: 0.9710 - lr: 9.9769e-04\n",
            "Epoch 25/1000\n",
            "404/404 [==============================] - 1s 3ms/step - loss: 0.0974 - accuracy: 0.9699 - val_loss: 0.0962 - val_accuracy: 0.9711 - lr: 9.9759e-04\n",
            "Epoch 26/1000\n",
            "404/404 [==============================] - 1s 3ms/step - loss: 0.0971 - accuracy: 0.9702 - val_loss: 0.0975 - val_accuracy: 0.9693 - lr: 9.9749e-04\n",
            "Epoch 27/1000\n",
            "404/404 [==============================] - 1s 3ms/step - loss: 0.0976 - accuracy: 0.9698 - val_loss: 0.0945 - val_accuracy: 0.9707 - lr: 9.9739e-04\n",
            "Epoch 28/1000\n",
            "404/404 [==============================] - 1s 3ms/step - loss: 0.0971 - accuracy: 0.9700 - val_loss: 0.0935 - val_accuracy: 0.9718 - lr: 9.9729e-04\n",
            "Epoch 29/1000\n",
            "404/404 [==============================] - 1s 3ms/step - loss: 0.0963 - accuracy: 0.9705 - val_loss: 0.0926 - val_accuracy: 0.9717 - lr: 9.9719e-04\n",
            "Epoch 30/1000\n",
            "404/404 [==============================] - 1s 3ms/step - loss: 0.0957 - accuracy: 0.9709 - val_loss: 0.0941 - val_accuracy: 0.9717 - lr: 9.9709e-04\n",
            "Epoch 31/1000\n",
            "404/404 [==============================] - 2s 5ms/step - loss: 0.0954 - accuracy: 0.9708 - val_loss: 0.0925 - val_accuracy: 0.9714 - lr: 9.9699e-04\n",
            "Epoch 32/1000\n",
            "404/404 [==============================] - 2s 4ms/step - loss: 0.0949 - accuracy: 0.9708 - val_loss: 0.0917 - val_accuracy: 0.9721 - lr: 9.9689e-04\n",
            "Epoch 33/1000\n",
            "404/404 [==============================] - 1s 3ms/step - loss: 0.0952 - accuracy: 0.9706 - val_loss: 0.0919 - val_accuracy: 0.9715 - lr: 9.9679e-04\n",
            "Epoch 34/1000\n",
            "404/404 [==============================] - 1s 3ms/step - loss: 0.0942 - accuracy: 0.9711 - val_loss: 0.0909 - val_accuracy: 0.9724 - lr: 9.9669e-04\n",
            "Epoch 35/1000\n",
            "404/404 [==============================] - 1s 3ms/step - loss: 0.0940 - accuracy: 0.9712 - val_loss: 0.0910 - val_accuracy: 0.9719 - lr: 9.9659e-04\n",
            "Epoch 36/1000\n",
            "404/404 [==============================] - 1s 3ms/step - loss: 0.0942 - accuracy: 0.9710 - val_loss: 0.0912 - val_accuracy: 0.9728 - lr: 9.9649e-04\n",
            "Epoch 37/1000\n",
            "404/404 [==============================] - 1s 3ms/step - loss: 0.0933 - accuracy: 0.9714 - val_loss: 0.0954 - val_accuracy: 0.9720 - lr: 9.9639e-04\n",
            "Epoch 38/1000\n",
            "404/404 [==============================] - 1s 3ms/step - loss: 0.0928 - accuracy: 0.9716 - val_loss: 0.0895 - val_accuracy: 0.9730 - lr: 9.9629e-04\n",
            "Epoch 39/1000\n",
            "404/404 [==============================] - 1s 3ms/step - loss: 0.0927 - accuracy: 0.9716 - val_loss: 0.0905 - val_accuracy: 0.9715 - lr: 9.9619e-04\n",
            "Epoch 40/1000\n",
            "404/404 [==============================] - 1s 3ms/step - loss: 0.0922 - accuracy: 0.9716 - val_loss: 0.0899 - val_accuracy: 0.9719 - lr: 9.9609e-04\n",
            "Epoch 41/1000\n",
            "404/404 [==============================] - 1s 3ms/step - loss: 0.0917 - accuracy: 0.9719 - val_loss: 0.0954 - val_accuracy: 0.9699 - lr: 9.9599e-04\n",
            "Epoch 42/1000\n",
            "404/404 [==============================] - 2s 5ms/step - loss: 0.0913 - accuracy: 0.9717 - val_loss: 0.0886 - val_accuracy: 0.9733 - lr: 9.9589e-04\n",
            "Epoch 43/1000\n",
            "404/404 [==============================] - 2s 5ms/step - loss: 0.0914 - accuracy: 0.9720 - val_loss: 0.0904 - val_accuracy: 0.9715 - lr: 9.9579e-04\n",
            "Epoch 44/1000\n",
            "404/404 [==============================] - 1s 3ms/step - loss: 0.0909 - accuracy: 0.9721 - val_loss: 0.0874 - val_accuracy: 0.9734 - lr: 9.9569e-04\n",
            "Epoch 45/1000\n",
            "404/404 [==============================] - 1s 3ms/step - loss: 0.0910 - accuracy: 0.9720 - val_loss: 0.0907 - val_accuracy: 0.9735 - lr: 9.9559e-04\n",
            "Epoch 46/1000\n",
            "404/404 [==============================] - 1s 3ms/step - loss: 0.0902 - accuracy: 0.9723 - val_loss: 0.0886 - val_accuracy: 0.9725 - lr: 9.9549e-04\n",
            "Epoch 47/1000\n",
            "404/404 [==============================] - 1s 3ms/step - loss: 0.0898 - accuracy: 0.9725 - val_loss: 0.0888 - val_accuracy: 0.9720 - lr: 9.9539e-04\n",
            "Epoch 48/1000\n",
            "404/404 [==============================] - 1s 3ms/step - loss: 0.0901 - accuracy: 0.9722 - val_loss: 0.0863 - val_accuracy: 0.9739 - lr: 9.9529e-04\n",
            "Epoch 49/1000\n",
            "404/404 [==============================] - 1s 3ms/step - loss: 0.0887 - accuracy: 0.9729 - val_loss: 0.0876 - val_accuracy: 0.9745 - lr: 9.9519e-04\n",
            "Epoch 50/1000\n",
            "404/404 [==============================] - 1s 3ms/step - loss: 0.0885 - accuracy: 0.9731 - val_loss: 0.0899 - val_accuracy: 0.9716 - lr: 9.9509e-04\n",
            "Epoch 51/1000\n",
            "404/404 [==============================] - 1s 4ms/step - loss: 0.0884 - accuracy: 0.9730 - val_loss: 0.0854 - val_accuracy: 0.9743 - lr: 9.9499e-04\n",
            "Epoch 52/1000\n",
            "404/404 [==============================] - 2s 4ms/step - loss: 0.0880 - accuracy: 0.9730 - val_loss: 0.0848 - val_accuracy: 0.9742 - lr: 9.9489e-04\n",
            "Epoch 53/1000\n",
            "404/404 [==============================] - 2s 5ms/step - loss: 0.0879 - accuracy: 0.9731 - val_loss: 0.0845 - val_accuracy: 0.9742 - lr: 9.9479e-04\n",
            "Epoch 54/1000\n",
            "404/404 [==============================] - 1s 3ms/step - loss: 0.0874 - accuracy: 0.9734 - val_loss: 0.0841 - val_accuracy: 0.9743 - lr: 9.9469e-04\n",
            "Epoch 55/1000\n",
            "404/404 [==============================] - 1s 3ms/step - loss: 0.0872 - accuracy: 0.9733 - val_loss: 0.0844 - val_accuracy: 0.9740 - lr: 9.9459e-04\n",
            "Epoch 56/1000\n",
            "404/404 [==============================] - 1s 3ms/step - loss: 0.0866 - accuracy: 0.9735 - val_loss: 0.0861 - val_accuracy: 0.9731 - lr: 9.9449e-04\n",
            "Epoch 57/1000\n",
            "404/404 [==============================] - 1s 3ms/step - loss: 0.0864 - accuracy: 0.9737 - val_loss: 0.0842 - val_accuracy: 0.9740 - lr: 9.9439e-04\n",
            "Epoch 58/1000\n",
            "404/404 [==============================] - 1s 3ms/step - loss: 0.0862 - accuracy: 0.9736 - val_loss: 0.0833 - val_accuracy: 0.9751 - lr: 9.9429e-04\n",
            "Epoch 59/1000\n",
            "404/404 [==============================] - 1s 3ms/step - loss: 0.0859 - accuracy: 0.9737 - val_loss: 0.0825 - val_accuracy: 0.9747 - lr: 9.9419e-04\n",
            "Epoch 60/1000\n",
            "404/404 [==============================] - 1s 3ms/step - loss: 0.0858 - accuracy: 0.9736 - val_loss: 0.0825 - val_accuracy: 0.9752 - lr: 9.9409e-04\n",
            "Epoch 61/1000\n",
            "404/404 [==============================] - 1s 3ms/step - loss: 0.0850 - accuracy: 0.9740 - val_loss: 0.0909 - val_accuracy: 0.9736 - lr: 9.9399e-04\n",
            "Epoch 62/1000\n",
            "404/404 [==============================] - 2s 5ms/step - loss: 0.0851 - accuracy: 0.9739 - val_loss: 0.0836 - val_accuracy: 0.9740 - lr: 9.9389e-04\n",
            "Epoch 63/1000\n",
            "404/404 [==============================] - 2s 4ms/step - loss: 0.0850 - accuracy: 0.9742 - val_loss: 0.0848 - val_accuracy: 0.9735 - lr: 9.9379e-04\n",
            "Epoch 64/1000\n",
            "404/404 [==============================] - 1s 4ms/step - loss: 0.0841 - accuracy: 0.9741 - val_loss: 0.0816 - val_accuracy: 0.9747 - lr: 9.9369e-04\n",
            "Epoch 65/1000\n",
            "404/404 [==============================] - 1s 3ms/step - loss: 0.0839 - accuracy: 0.9744 - val_loss: 0.0811 - val_accuracy: 0.9750 - lr: 9.9359e-04\n",
            "Epoch 66/1000\n",
            "404/404 [==============================] - 1s 3ms/step - loss: 0.0833 - accuracy: 0.9746 - val_loss: 0.0838 - val_accuracy: 0.9738 - lr: 9.9349e-04\n",
            "Epoch 67/1000\n",
            "404/404 [==============================] - 1s 3ms/step - loss: 0.0835 - accuracy: 0.9745 - val_loss: 0.0802 - val_accuracy: 0.9756 - lr: 9.9339e-04\n",
            "Epoch 68/1000\n",
            "404/404 [==============================] - 1s 3ms/step - loss: 0.0835 - accuracy: 0.9747 - val_loss: 0.0840 - val_accuracy: 0.9736 - lr: 9.9329e-04\n",
            "Epoch 69/1000\n",
            "404/404 [==============================] - 1s 3ms/step - loss: 0.0838 - accuracy: 0.9745 - val_loss: 0.0803 - val_accuracy: 0.9761 - lr: 9.9319e-04\n",
            "Epoch 70/1000\n",
            "404/404 [==============================] - 1s 3ms/step - loss: 0.0827 - accuracy: 0.9749 - val_loss: 0.0803 - val_accuracy: 0.9750 - lr: 9.9309e-04\n",
            "Epoch 71/1000\n",
            "404/404 [==============================] - 1s 3ms/step - loss: 0.0825 - accuracy: 0.9750 - val_loss: 0.0791 - val_accuracy: 0.9761 - lr: 9.9299e-04\n",
            "Epoch 72/1000\n",
            "404/404 [==============================] - 1s 3ms/step - loss: 0.0817 - accuracy: 0.9751 - val_loss: 0.0789 - val_accuracy: 0.9763 - lr: 9.9289e-04\n",
            "Epoch 73/1000\n",
            "404/404 [==============================] - 2s 5ms/step - loss: 0.0818 - accuracy: 0.9752 - val_loss: 0.0785 - val_accuracy: 0.9763 - lr: 9.9279e-04\n",
            "Epoch 74/1000\n",
            "404/404 [==============================] - 2s 4ms/step - loss: 0.0814 - accuracy: 0.9754 - val_loss: 0.0784 - val_accuracy: 0.9763 - lr: 9.9269e-04\n",
            "Epoch 75/1000\n",
            "404/404 [==============================] - 1s 4ms/step - loss: 0.0814 - accuracy: 0.9751 - val_loss: 0.0811 - val_accuracy: 0.9746 - lr: 9.9259e-04\n",
            "Epoch 76/1000\n",
            "404/404 [==============================] - 1s 3ms/step - loss: 0.0814 - accuracy: 0.9754 - val_loss: 0.0790 - val_accuracy: 0.9769 - lr: 9.9249e-04\n",
            "Epoch 77/1000\n",
            "404/404 [==============================] - 1s 3ms/step - loss: 0.0806 - accuracy: 0.9756 - val_loss: 0.0805 - val_accuracy: 0.9768 - lr: 9.9239e-04\n",
            "Epoch 78/1000\n",
            "404/404 [==============================] - 1s 3ms/step - loss: 0.0809 - accuracy: 0.9755 - val_loss: 0.0797 - val_accuracy: 0.9752 - lr: 9.9229e-04\n",
            "Epoch 79/1000\n",
            "404/404 [==============================] - 1s 3ms/step - loss: 0.0806 - accuracy: 0.9757 - val_loss: 0.0772 - val_accuracy: 0.9766 - lr: 9.9219e-04\n",
            "Epoch 80/1000\n",
            "404/404 [==============================] - 1s 3ms/step - loss: 0.0799 - accuracy: 0.9757 - val_loss: 0.0767 - val_accuracy: 0.9768 - lr: 9.9209e-04\n",
            "Epoch 81/1000\n",
            "404/404 [==============================] - 1s 3ms/step - loss: 0.0796 - accuracy: 0.9758 - val_loss: 0.0834 - val_accuracy: 0.9764 - lr: 9.9199e-04\n",
            "Epoch 82/1000\n",
            "404/404 [==============================] - 3s 9ms/step - loss: 0.0796 - accuracy: 0.9760 - val_loss: 0.0793 - val_accuracy: 0.9753 - lr: 9.9189e-04\n",
            "Epoch 83/1000\n",
            "404/404 [==============================] - 7s 16ms/step - loss: 0.0789 - accuracy: 0.9760 - val_loss: 0.0760 - val_accuracy: 0.9771 - lr: 9.9179e-04\n",
            "Epoch 84/1000\n",
            "404/404 [==============================] - 6s 14ms/step - loss: 0.0789 - accuracy: 0.9760 - val_loss: 0.0778 - val_accuracy: 0.9756 - lr: 9.9169e-04\n",
            "Epoch 85/1000\n",
            "404/404 [==============================] - 4s 9ms/step - loss: 0.0783 - accuracy: 0.9764 - val_loss: 0.0764 - val_accuracy: 0.9775 - lr: 9.9159e-04\n",
            "Epoch 86/1000\n",
            "404/404 [==============================] - 4s 9ms/step - loss: 0.0786 - accuracy: 0.9762 - val_loss: 0.0783 - val_accuracy: 0.9775 - lr: 9.9149e-04\n",
            "Epoch 87/1000\n",
            "404/404 [==============================] - 3s 7ms/step - loss: 0.0782 - accuracy: 0.9763 - val_loss: 0.0761 - val_accuracy: 0.9764 - lr: 9.9139e-04\n",
            "Epoch 88/1000\n",
            "404/404 [==============================] - 2s 5ms/step - loss: 0.0781 - accuracy: 0.9763 - val_loss: 0.0748 - val_accuracy: 0.9773 - lr: 9.9129e-04\n",
            "Epoch 89/1000\n",
            "404/404 [==============================] - 2s 6ms/step - loss: 0.0774 - accuracy: 0.9768 - val_loss: 0.0806 - val_accuracy: 0.9744 - lr: 9.9119e-04\n",
            "Epoch 90/1000\n",
            "404/404 [==============================] - 4s 10ms/step - loss: 0.0776 - accuracy: 0.9766 - val_loss: 0.0742 - val_accuracy: 0.9778 - lr: 9.9110e-04\n",
            "Epoch 91/1000\n",
            "404/404 [==============================] - 5s 12ms/step - loss: 0.0778 - accuracy: 0.9764 - val_loss: 0.0749 - val_accuracy: 0.9780 - lr: 9.9100e-04\n",
            "Epoch 92/1000\n",
            "404/404 [==============================] - 2s 5ms/step - loss: 0.0769 - accuracy: 0.9767 - val_loss: 0.0743 - val_accuracy: 0.9782 - lr: 9.9090e-04\n",
            "Epoch 93/1000\n",
            "404/404 [==============================] - 2s 5ms/step - loss: 0.0768 - accuracy: 0.9768 - val_loss: 0.0751 - val_accuracy: 0.9767 - lr: 9.9080e-04\n",
            "Epoch 94/1000\n",
            "404/404 [==============================] - 2s 6ms/step - loss: 0.0765 - accuracy: 0.9768 - val_loss: 0.0747 - val_accuracy: 0.9781 - lr: 9.9070e-04\n",
            "Epoch 95/1000\n",
            "404/404 [==============================] - 3s 6ms/step - loss: 0.0765 - accuracy: 0.9770 - val_loss: 0.0731 - val_accuracy: 0.9780 - lr: 9.9060e-04\n",
            "Epoch 96/1000\n",
            "404/404 [==============================] - 4s 9ms/step - loss: 0.0763 - accuracy: 0.9769 - val_loss: 0.0735 - val_accuracy: 0.9785 - lr: 9.9050e-04\n",
            "Epoch 97/1000\n",
            "404/404 [==============================] - 3s 8ms/step - loss: 0.0762 - accuracy: 0.9770 - val_loss: 0.0735 - val_accuracy: 0.9785 - lr: 9.9040e-04\n",
            "Epoch 98/1000\n",
            "404/404 [==============================] - 2s 4ms/step - loss: 0.0760 - accuracy: 0.9769 - val_loss: 0.0776 - val_accuracy: 0.9781 - lr: 9.9030e-04\n",
            "Epoch 99/1000\n",
            "404/404 [==============================] - 1s 3ms/step - loss: 0.0754 - accuracy: 0.9773 - val_loss: 0.0748 - val_accuracy: 0.9767 - lr: 9.9020e-04\n",
            "Epoch 100/1000\n",
            "404/404 [==============================] - 1s 3ms/step - loss: 0.0752 - accuracy: 0.9775 - val_loss: 0.0731 - val_accuracy: 0.9773 - lr: 9.9010e-04\n",
            "Epoch 101/1000\n",
            "404/404 [==============================] - 1s 3ms/step - loss: 0.0749 - accuracy: 0.9776 - val_loss: 0.0719 - val_accuracy: 0.9787 - lr: 9.9000e-04\n",
            "Epoch 102/1000\n",
            "404/404 [==============================] - 1s 3ms/step - loss: 0.0744 - accuracy: 0.9777 - val_loss: 0.0723 - val_accuracy: 0.9788 - lr: 9.8990e-04\n",
            "Epoch 103/1000\n",
            "404/404 [==============================] - 1s 3ms/step - loss: 0.0743 - accuracy: 0.9777 - val_loss: 0.0714 - val_accuracy: 0.9785 - lr: 9.8980e-04\n",
            "Epoch 104/1000\n",
            "404/404 [==============================] - 2s 4ms/step - loss: 0.0740 - accuracy: 0.9778 - val_loss: 0.0727 - val_accuracy: 0.9788 - lr: 9.8970e-04\n",
            "Epoch 105/1000\n",
            "404/404 [==============================] - 2s 6ms/step - loss: 0.0740 - accuracy: 0.9777 - val_loss: 0.0772 - val_accuracy: 0.9785 - lr: 9.8960e-04\n",
            "Epoch 106/1000\n",
            "404/404 [==============================] - 1s 3ms/step - loss: 0.0740 - accuracy: 0.9778 - val_loss: 0.0723 - val_accuracy: 0.9774 - lr: 9.8950e-04\n",
            "Epoch 107/1000\n",
            "404/404 [==============================] - 1s 3ms/step - loss: 0.0738 - accuracy: 0.9776 - val_loss: 0.0705 - val_accuracy: 0.9787 - lr: 9.8940e-04\n",
            "Epoch 108/1000\n",
            "404/404 [==============================] - 1s 3ms/step - loss: 0.0733 - accuracy: 0.9780 - val_loss: 0.0714 - val_accuracy: 0.9792 - lr: 9.8930e-04\n",
            "Epoch 109/1000\n",
            "404/404 [==============================] - 1s 3ms/step - loss: 0.0730 - accuracy: 0.9781 - val_loss: 0.0701 - val_accuracy: 0.9789 - lr: 9.8920e-04\n",
            "Epoch 110/1000\n",
            "404/404 [==============================] - 1s 3ms/step - loss: 0.0728 - accuracy: 0.9781 - val_loss: 0.0699 - val_accuracy: 0.9791 - lr: 9.8910e-04\n",
            "Epoch 111/1000\n",
            "404/404 [==============================] - 1s 3ms/step - loss: 0.0728 - accuracy: 0.9782 - val_loss: 0.0697 - val_accuracy: 0.9789 - lr: 9.8901e-04\n",
            "Epoch 112/1000\n",
            "404/404 [==============================] - 1s 3ms/step - loss: 0.0723 - accuracy: 0.9783 - val_loss: 0.0697 - val_accuracy: 0.9788 - lr: 9.8891e-04\n",
            "Epoch 113/1000\n",
            "404/404 [==============================] - 1s 3ms/step - loss: 0.0718 - accuracy: 0.9787 - val_loss: 0.0697 - val_accuracy: 0.9784 - lr: 9.8881e-04\n",
            "Epoch 114/1000\n",
            "404/404 [==============================] - 2s 4ms/step - loss: 0.0724 - accuracy: 0.9783 - val_loss: 0.0691 - val_accuracy: 0.9790 - lr: 9.8871e-04\n",
            "Epoch 115/1000\n",
            "404/404 [==============================] - 2s 6ms/step - loss: 0.0721 - accuracy: 0.9783 - val_loss: 0.0707 - val_accuracy: 0.9796 - lr: 9.8861e-04\n",
            "Epoch 116/1000\n",
            "404/404 [==============================] - 1s 3ms/step - loss: 0.0723 - accuracy: 0.9782 - val_loss: 0.0692 - val_accuracy: 0.9786 - lr: 9.8851e-04\n",
            "Epoch 117/1000\n",
            "404/404 [==============================] - 1s 3ms/step - loss: 0.0716 - accuracy: 0.9786 - val_loss: 0.0684 - val_accuracy: 0.9794 - lr: 9.8841e-04\n",
            "Epoch 118/1000\n",
            "404/404 [==============================] - 1s 3ms/step - loss: 0.0714 - accuracy: 0.9787 - val_loss: 0.0688 - val_accuracy: 0.9799 - lr: 9.8831e-04\n",
            "Epoch 119/1000\n",
            "404/404 [==============================] - 1s 3ms/step - loss: 0.0712 - accuracy: 0.9787 - val_loss: 0.0690 - val_accuracy: 0.9784 - lr: 9.8821e-04\n",
            "Epoch 120/1000\n",
            "404/404 [==============================] - 1s 3ms/step - loss: 0.0705 - accuracy: 0.9791 - val_loss: 0.0680 - val_accuracy: 0.9793 - lr: 9.8811e-04\n",
            "Epoch 121/1000\n",
            "404/404 [==============================] - 1s 3ms/step - loss: 0.0705 - accuracy: 0.9789 - val_loss: 0.0691 - val_accuracy: 0.9802 - lr: 9.8801e-04\n",
            "Epoch 122/1000\n",
            "404/404 [==============================] - 1s 3ms/step - loss: 0.0708 - accuracy: 0.9789 - val_loss: 0.0675 - val_accuracy: 0.9798 - lr: 9.8791e-04\n",
            "Epoch 123/1000\n",
            "404/404 [==============================] - 1s 3ms/step - loss: 0.0703 - accuracy: 0.9790 - val_loss: 0.0673 - val_accuracy: 0.9798 - lr: 9.8781e-04\n",
            "Epoch 124/1000\n",
            "404/404 [==============================] - 2s 4ms/step - loss: 0.0699 - accuracy: 0.9793 - val_loss: 0.0672 - val_accuracy: 0.9796 - lr: 9.8771e-04\n",
            "Epoch 125/1000\n",
            "404/404 [==============================] - 2s 4ms/step - loss: 0.0695 - accuracy: 0.9796 - val_loss: 0.0670 - val_accuracy: 0.9800 - lr: 9.8761e-04\n",
            "Epoch 126/1000\n",
            "404/404 [==============================] - 2s 5ms/step - loss: 0.0700 - accuracy: 0.9792 - val_loss: 0.0677 - val_accuracy: 0.9789 - lr: 9.8752e-04\n",
            "Epoch 127/1000\n",
            "404/404 [==============================] - 1s 3ms/step - loss: 0.0695 - accuracy: 0.9793 - val_loss: 0.0665 - val_accuracy: 0.9801 - lr: 9.8742e-04\n",
            "Epoch 128/1000\n",
            "404/404 [==============================] - 1s 3ms/step - loss: 0.0692 - accuracy: 0.9796 - val_loss: 0.0685 - val_accuracy: 0.9785 - lr: 9.8732e-04\n",
            "Epoch 129/1000\n",
            "404/404 [==============================] - 1s 3ms/step - loss: 0.0693 - accuracy: 0.9793 - val_loss: 0.0677 - val_accuracy: 0.9787 - lr: 9.8722e-04\n",
            "Epoch 130/1000\n",
            "404/404 [==============================] - 1s 3ms/step - loss: 0.0689 - accuracy: 0.9794 - val_loss: 0.0659 - val_accuracy: 0.9802 - lr: 9.8712e-04\n",
            "Epoch 131/1000\n",
            "404/404 [==============================] - 1s 3ms/step - loss: 0.0686 - accuracy: 0.9797 - val_loss: 0.0660 - val_accuracy: 0.9806 - lr: 9.8702e-04\n",
            "Epoch 132/1000\n",
            "404/404 [==============================] - 1s 3ms/step - loss: 0.0684 - accuracy: 0.9798 - val_loss: 0.0661 - val_accuracy: 0.9807 - lr: 9.8692e-04\n",
            "Epoch 133/1000\n",
            "404/404 [==============================] - 1s 3ms/step - loss: 0.0682 - accuracy: 0.9798 - val_loss: 0.0657 - val_accuracy: 0.9799 - lr: 9.8682e-04\n",
            "Epoch 134/1000\n",
            "404/404 [==============================] - 1s 3ms/step - loss: 0.0683 - accuracy: 0.9796 - val_loss: 0.0665 - val_accuracy: 0.9793 - lr: 9.8672e-04\n",
            "Epoch 135/1000\n",
            "404/404 [==============================] - 2s 5ms/step - loss: 0.0679 - accuracy: 0.9799 - val_loss: 0.0650 - val_accuracy: 0.9805 - lr: 9.8662e-04\n",
            "Epoch 136/1000\n",
            "404/404 [==============================] - 2s 6ms/step - loss: 0.0677 - accuracy: 0.9800 - val_loss: 0.0649 - val_accuracy: 0.9805 - lr: 9.8652e-04\n",
            "Epoch 137/1000\n",
            "404/404 [==============================] - 2s 5ms/step - loss: 0.0675 - accuracy: 0.9802 - val_loss: 0.0648 - val_accuracy: 0.9808 - lr: 9.8642e-04\n",
            "Epoch 138/1000\n",
            "404/404 [==============================] - 2s 6ms/step - loss: 0.0673 - accuracy: 0.9800 - val_loss: 0.0651 - val_accuracy: 0.9812 - lr: 9.8633e-04\n",
            "Epoch 139/1000\n",
            "404/404 [==============================] - 1s 3ms/step - loss: 0.0676 - accuracy: 0.9800 - val_loss: 0.0644 - val_accuracy: 0.9807 - lr: 9.8623e-04\n",
            "Epoch 140/1000\n",
            "404/404 [==============================] - 1s 3ms/step - loss: 0.0670 - accuracy: 0.9801 - val_loss: 0.0655 - val_accuracy: 0.9796 - lr: 9.8613e-04\n",
            "Epoch 141/1000\n",
            "404/404 [==============================] - 1s 3ms/step - loss: 0.0667 - accuracy: 0.9802 - val_loss: 0.0657 - val_accuracy: 0.9815 - lr: 9.8603e-04\n",
            "Epoch 142/1000\n",
            "404/404 [==============================] - 1s 3ms/step - loss: 0.0667 - accuracy: 0.9803 - val_loss: 0.0643 - val_accuracy: 0.9802 - lr: 9.8593e-04\n",
            "Epoch 143/1000\n",
            "404/404 [==============================] - 2s 5ms/step - loss: 0.0668 - accuracy: 0.9800 - val_loss: 0.0640 - val_accuracy: 0.9805 - lr: 9.8583e-04\n",
            "Epoch 144/1000\n",
            "404/404 [==============================] - 2s 4ms/step - loss: 0.0663 - accuracy: 0.9803 - val_loss: 0.0634 - val_accuracy: 0.9810 - lr: 9.8573e-04\n",
            "Epoch 145/1000\n",
            "404/404 [==============================] - 3s 6ms/step - loss: 0.0664 - accuracy: 0.9802 - val_loss: 0.0640 - val_accuracy: 0.9803 - lr: 9.8563e-04\n",
            "Epoch 146/1000\n",
            "404/404 [==============================] - 1s 4ms/step - loss: 0.0661 - accuracy: 0.9805 - val_loss: 0.0651 - val_accuracy: 0.9795 - lr: 9.8553e-04\n",
            "Epoch 147/1000\n",
            "404/404 [==============================] - 2s 4ms/step - loss: 0.0658 - accuracy: 0.9806 - val_loss: 0.0635 - val_accuracy: 0.9815 - lr: 9.8543e-04\n",
            "Epoch 148/1000\n",
            "404/404 [==============================] - 1s 3ms/step - loss: 0.0655 - accuracy: 0.9806 - val_loss: 0.0628 - val_accuracy: 0.9810 - lr: 9.8533e-04\n",
            "Epoch 149/1000\n",
            "404/404 [==============================] - 2s 4ms/step - loss: 0.0657 - accuracy: 0.9804 - val_loss: 0.0628 - val_accuracy: 0.9814 - lr: 9.8524e-04\n",
            "Epoch 150/1000\n",
            "404/404 [==============================] - 3s 7ms/step - loss: 0.0656 - accuracy: 0.9804 - val_loss: 0.0787 - val_accuracy: 0.9791 - lr: 9.8514e-04\n",
            "Epoch 151/1000\n",
            "404/404 [==============================] - 5s 11ms/step - loss: 0.0654 - accuracy: 0.9807 - val_loss: 0.0624 - val_accuracy: 0.9814 - lr: 9.8504e-04\n",
            "Epoch 152/1000\n",
            "404/404 [==============================] - 3s 8ms/step - loss: 0.0649 - accuracy: 0.9807 - val_loss: 0.0626 - val_accuracy: 0.9809 - lr: 9.8494e-04\n",
            "Epoch 153/1000\n",
            "404/404 [==============================] - 1s 3ms/step - loss: 0.0653 - accuracy: 0.9808 - val_loss: 0.0621 - val_accuracy: 0.9815 - lr: 9.8484e-04\n",
            "Epoch 154/1000\n",
            "404/404 [==============================] - 1s 3ms/step - loss: 0.0652 - accuracy: 0.9807 - val_loss: 0.0619 - val_accuracy: 0.9815 - lr: 9.8474e-04\n",
            "Epoch 155/1000\n",
            "404/404 [==============================] - 1s 3ms/step - loss: 0.0646 - accuracy: 0.9811 - val_loss: 0.0618 - val_accuracy: 0.9814 - lr: 9.8464e-04\n",
            "Epoch 156/1000\n",
            "404/404 [==============================] - 1s 3ms/step - loss: 0.0645 - accuracy: 0.9810 - val_loss: 0.0616 - val_accuracy: 0.9814 - lr: 9.8454e-04\n",
            "Epoch 157/1000\n",
            "404/404 [==============================] - 3s 7ms/step - loss: 0.0640 - accuracy: 0.9812 - val_loss: 0.0615 - val_accuracy: 0.9814 - lr: 9.8444e-04\n",
            "Epoch 158/1000\n",
            "404/404 [==============================] - 3s 7ms/step - loss: 0.0638 - accuracy: 0.9812 - val_loss: 0.0616 - val_accuracy: 0.9819 - lr: 9.8434e-04\n",
            "Epoch 159/1000\n",
            "404/404 [==============================] - 2s 5ms/step - loss: 0.0640 - accuracy: 0.9813 - val_loss: 0.0624 - val_accuracy: 0.9806 - lr: 9.8425e-04\n",
            "Epoch 160/1000\n",
            "404/404 [==============================] - 1s 3ms/step - loss: 0.0641 - accuracy: 0.9811 - val_loss: 0.0643 - val_accuracy: 0.9821 - lr: 9.8415e-04\n",
            "Epoch 161/1000\n",
            "404/404 [==============================] - 1s 3ms/step - loss: 0.0640 - accuracy: 0.9812 - val_loss: 0.0692 - val_accuracy: 0.9816 - lr: 9.8405e-04\n",
            "Epoch 162/1000\n",
            "404/404 [==============================] - 1s 3ms/step - loss: 0.0634 - accuracy: 0.9814 - val_loss: 0.0648 - val_accuracy: 0.9821 - lr: 9.8395e-04\n",
            "Epoch 163/1000\n",
            "404/404 [==============================] - 1s 3ms/step - loss: 0.0635 - accuracy: 0.9814 - val_loss: 0.0611 - val_accuracy: 0.9825 - lr: 9.8385e-04\n",
            "Epoch 164/1000\n",
            "404/404 [==============================] - 1s 3ms/step - loss: 0.0632 - accuracy: 0.9812 - val_loss: 0.0643 - val_accuracy: 0.9823 - lr: 9.8375e-04\n",
            "Epoch 165/1000\n",
            "404/404 [==============================] - 1s 3ms/step - loss: 0.0631 - accuracy: 0.9816 - val_loss: 0.0602 - val_accuracy: 0.9821 - lr: 9.8365e-04\n",
            "Epoch 166/1000\n",
            "404/404 [==============================] - 1s 3ms/step - loss: 0.0631 - accuracy: 0.9813 - val_loss: 0.0603 - val_accuracy: 0.9816 - lr: 9.8355e-04\n",
            "Epoch 167/1000\n",
            "404/404 [==============================] - 1s 3ms/step - loss: 0.0627 - accuracy: 0.9815 - val_loss: 0.0607 - val_accuracy: 0.9826 - lr: 9.8345e-04\n",
            "Epoch 168/1000\n",
            "404/404 [==============================] - 3s 7ms/step - loss: 0.0628 - accuracy: 0.9814 - val_loss: 0.0599 - val_accuracy: 0.9817 - lr: 9.8336e-04\n",
            "Epoch 169/1000\n",
            "404/404 [==============================] - 3s 8ms/step - loss: 0.0623 - accuracy: 0.9816 - val_loss: 0.0598 - val_accuracy: 0.9816 - lr: 9.8326e-04\n",
            "Epoch 170/1000\n",
            "404/404 [==============================] - 1s 3ms/step - loss: 0.0629 - accuracy: 0.9814 - val_loss: 0.0599 - val_accuracy: 0.9825 - lr: 9.8316e-04\n",
            "Epoch 171/1000\n",
            "404/404 [==============================] - 1s 3ms/step - loss: 0.0626 - accuracy: 0.9815 - val_loss: 0.0595 - val_accuracy: 0.9817 - lr: 9.8306e-04\n",
            "Epoch 172/1000\n",
            "404/404 [==============================] - 1s 3ms/step - loss: 0.0621 - accuracy: 0.9817 - val_loss: 0.0618 - val_accuracy: 0.9828 - lr: 9.8296e-04\n",
            "Epoch 173/1000\n",
            "404/404 [==============================] - 1s 3ms/step - loss: 0.0623 - accuracy: 0.9817 - val_loss: 0.0592 - val_accuracy: 0.9819 - lr: 9.8286e-04\n",
            "Epoch 174/1000\n",
            "404/404 [==============================] - 1s 3ms/step - loss: 0.0617 - accuracy: 0.9819 - val_loss: 0.0601 - val_accuracy: 0.9814 - lr: 9.8276e-04\n",
            "Epoch 175/1000\n",
            "404/404 [==============================] - 1s 3ms/step - loss: 0.0620 - accuracy: 0.9816 - val_loss: 0.0593 - val_accuracy: 0.9827 - lr: 9.8266e-04\n",
            "Epoch 176/1000\n",
            "404/404 [==============================] - 1s 3ms/step - loss: 0.0613 - accuracy: 0.9820 - val_loss: 0.0618 - val_accuracy: 0.9830 - lr: 9.8257e-04\n",
            "Epoch 177/1000\n",
            "404/404 [==============================] - 2s 4ms/step - loss: 0.0614 - accuracy: 0.9819 - val_loss: 0.0590 - val_accuracy: 0.9819 - lr: 9.8247e-04\n",
            "Epoch 178/1000\n",
            "404/404 [==============================] - 2s 5ms/step - loss: 0.0616 - accuracy: 0.9820 - val_loss: 0.0591 - val_accuracy: 0.9829 - lr: 9.8237e-04\n",
            "Epoch 179/1000\n",
            "404/404 [==============================] - 2s 5ms/step - loss: 0.0608 - accuracy: 0.9822 - val_loss: 0.0585 - val_accuracy: 0.9823 - lr: 9.8227e-04\n",
            "Epoch 180/1000\n",
            "404/404 [==============================] - 1s 3ms/step - loss: 0.0607 - accuracy: 0.9823 - val_loss: 0.0581 - val_accuracy: 0.9828 - lr: 9.8217e-04\n",
            "Epoch 181/1000\n",
            "404/404 [==============================] - 1s 3ms/step - loss: 0.0607 - accuracy: 0.9822 - val_loss: 0.0606 - val_accuracy: 0.9832 - lr: 9.8207e-04\n",
            "Epoch 182/1000\n",
            "404/404 [==============================] - 1s 3ms/step - loss: 0.0605 - accuracy: 0.9823 - val_loss: 0.0595 - val_accuracy: 0.9814 - lr: 9.8197e-04\n",
            "Epoch 183/1000\n",
            "404/404 [==============================] - 1s 3ms/step - loss: 0.0610 - accuracy: 0.9820 - val_loss: 0.0580 - val_accuracy: 0.9823 - lr: 9.8187e-04\n",
            "Epoch 184/1000\n",
            "404/404 [==============================] - 1s 3ms/step - loss: 0.0603 - accuracy: 0.9823 - val_loss: 0.0583 - val_accuracy: 0.9831 - lr: 9.8178e-04\n",
            "Epoch 185/1000\n",
            "404/404 [==============================] - 1s 3ms/step - loss: 0.0601 - accuracy: 0.9825 - val_loss: 0.0612 - val_accuracy: 0.9803 - lr: 9.8168e-04\n",
            "Epoch 186/1000\n",
            "404/404 [==============================] - 1s 3ms/step - loss: 0.0602 - accuracy: 0.9823 - val_loss: 0.0579 - val_accuracy: 0.9832 - lr: 9.8158e-04\n",
            "Epoch 187/1000\n",
            "404/404 [==============================] - 2s 4ms/step - loss: 0.0604 - accuracy: 0.9823 - val_loss: 0.0577 - val_accuracy: 0.9832 - lr: 9.8148e-04\n",
            "Epoch 188/1000\n",
            "404/404 [==============================] - 2s 5ms/step - loss: 0.0602 - accuracy: 0.9823 - val_loss: 0.0572 - val_accuracy: 0.9832 - lr: 9.8138e-04\n",
            "Epoch 189/1000\n",
            "404/404 [==============================] - 4s 9ms/step - loss: 0.0598 - accuracy: 0.9824 - val_loss: 0.0585 - val_accuracy: 0.9818 - lr: 9.8128e-04\n",
            "Epoch 190/1000\n",
            "404/404 [==============================] - 1s 3ms/step - loss: 0.0595 - accuracy: 0.9826 - val_loss: 0.0574 - val_accuracy: 0.9823 - lr: 9.8118e-04\n",
            "Epoch 191/1000\n",
            "404/404 [==============================] - 1s 3ms/step - loss: 0.0594 - accuracy: 0.9827 - val_loss: 0.0567 - val_accuracy: 0.9834 - lr: 9.8109e-04\n",
            "Epoch 192/1000\n",
            "404/404 [==============================] - 1s 3ms/step - loss: 0.0594 - accuracy: 0.9827 - val_loss: 0.0570 - val_accuracy: 0.9834 - lr: 9.8099e-04\n",
            "Epoch 193/1000\n",
            "404/404 [==============================] - 1s 3ms/step - loss: 0.0596 - accuracy: 0.9826 - val_loss: 0.0569 - val_accuracy: 0.9826 - lr: 9.8089e-04\n",
            "Epoch 194/1000\n",
            "404/404 [==============================] - 1s 3ms/step - loss: 0.0593 - accuracy: 0.9825 - val_loss: 0.0564 - val_accuracy: 0.9835 - lr: 9.8079e-04\n",
            "Epoch 195/1000\n",
            "404/404 [==============================] - 1s 3ms/step - loss: 0.0593 - accuracy: 0.9826 - val_loss: 0.0596 - val_accuracy: 0.9839 - lr: 9.8069e-04\n",
            "Epoch 196/1000\n",
            "404/404 [==============================] - 2s 5ms/step - loss: 0.0586 - accuracy: 0.9829 - val_loss: 0.0604 - val_accuracy: 0.9806 - lr: 9.8059e-04\n",
            "Epoch 197/1000\n",
            "404/404 [==============================] - 2s 5ms/step - loss: 0.0586 - accuracy: 0.9828 - val_loss: 0.0565 - val_accuracy: 0.9836 - lr: 9.8049e-04\n",
            "Epoch 198/1000\n",
            "404/404 [==============================] - 2s 4ms/step - loss: 0.0588 - accuracy: 0.9829 - val_loss: 0.0564 - val_accuracy: 0.9837 - lr: 9.8040e-04\n",
            "Epoch 199/1000\n",
            "404/404 [==============================] - 1s 3ms/step - loss: 0.0588 - accuracy: 0.9825 - val_loss: 0.0595 - val_accuracy: 0.9810 - lr: 9.8030e-04\n",
            "Epoch 200/1000\n",
            "404/404 [==============================] - 1s 3ms/step - loss: 0.0582 - accuracy: 0.9829 - val_loss: 0.0560 - val_accuracy: 0.9837 - lr: 9.8020e-04\n",
            "Epoch 201/1000\n",
            "404/404 [==============================] - 1s 3ms/step - loss: 0.0586 - accuracy: 0.9830 - val_loss: 0.0578 - val_accuracy: 0.9818 - lr: 9.8010e-04\n",
            "Epoch 202/1000\n",
            "404/404 [==============================] - 1s 3ms/step - loss: 0.0583 - accuracy: 0.9828 - val_loss: 0.0569 - val_accuracy: 0.9840 - lr: 9.8000e-04\n",
            "Epoch 203/1000\n",
            "404/404 [==============================] - 1s 3ms/step - loss: 0.0579 - accuracy: 0.9830 - val_loss: 0.0561 - val_accuracy: 0.9826 - lr: 9.7990e-04\n",
            "Epoch 204/1000\n",
            "404/404 [==============================] - 1s 3ms/step - loss: 0.0585 - accuracy: 0.9829 - val_loss: 0.0584 - val_accuracy: 0.9840 - lr: 9.7980e-04\n",
            "Epoch 205/1000\n",
            "404/404 [==============================] - 1s 3ms/step - loss: 0.0579 - accuracy: 0.9831 - val_loss: 0.0554 - val_accuracy: 0.9838 - lr: 9.7971e-04\n",
            "Epoch 206/1000\n",
            "404/404 [==============================] - 1s 3ms/step - loss: 0.0574 - accuracy: 0.9832 - val_loss: 0.0554 - val_accuracy: 0.9840 - lr: 9.7961e-04\n",
            "Epoch 207/1000\n",
            "404/404 [==============================] - 2s 5ms/step - loss: 0.0578 - accuracy: 0.9830 - val_loss: 0.0574 - val_accuracy: 0.9819 - lr: 9.7951e-04\n",
            "Epoch 208/1000\n",
            "404/404 [==============================] - 2s 4ms/step - loss: 0.0577 - accuracy: 0.9830 - val_loss: 0.0548 - val_accuracy: 0.9837 - lr: 9.7941e-04\n",
            "Epoch 209/1000\n",
            "404/404 [==============================] - 2s 5ms/step - loss: 0.0573 - accuracy: 0.9834 - val_loss: 0.0546 - val_accuracy: 0.9839 - lr: 9.7931e-04\n",
            "Epoch 210/1000\n",
            "404/404 [==============================] - 1s 3ms/step - loss: 0.0574 - accuracy: 0.9833 - val_loss: 0.0550 - val_accuracy: 0.9831 - lr: 9.7921e-04\n",
            "Epoch 211/1000\n",
            "404/404 [==============================] - 1s 3ms/step - loss: 0.0572 - accuracy: 0.9834 - val_loss: 0.0624 - val_accuracy: 0.9839 - lr: 9.7912e-04\n",
            "Epoch 212/1000\n",
            "404/404 [==============================] - 1s 3ms/step - loss: 0.0572 - accuracy: 0.9833 - val_loss: 0.0543 - val_accuracy: 0.9840 - lr: 9.7902e-04\n",
            "Epoch 213/1000\n",
            "404/404 [==============================] - 1s 3ms/step - loss: 0.0571 - accuracy: 0.9834 - val_loss: 0.0542 - val_accuracy: 0.9837 - lr: 9.7892e-04\n",
            "Epoch 214/1000\n",
            "404/404 [==============================] - 1s 3ms/step - loss: 0.0566 - accuracy: 0.9836 - val_loss: 0.0543 - val_accuracy: 0.9841 - lr: 9.7882e-04\n",
            "Epoch 215/1000\n",
            "404/404 [==============================] - 1s 3ms/step - loss: 0.0565 - accuracy: 0.9835 - val_loss: 0.0539 - val_accuracy: 0.9840 - lr: 9.7872e-04\n",
            "Epoch 216/1000\n",
            "404/404 [==============================] - 1s 3ms/step - loss: 0.0567 - accuracy: 0.9834 - val_loss: 0.0539 - val_accuracy: 0.9841 - lr: 9.7862e-04\n",
            "Epoch 217/1000\n",
            "404/404 [==============================] - 1s 3ms/step - loss: 0.0565 - accuracy: 0.9835 - val_loss: 0.0538 - val_accuracy: 0.9839 - lr: 9.7853e-04\n",
            "Epoch 218/1000\n",
            "404/404 [==============================] - 2s 4ms/step - loss: 0.0566 - accuracy: 0.9835 - val_loss: 0.0536 - val_accuracy: 0.9841 - lr: 9.7843e-04\n",
            "Epoch 219/1000\n",
            "404/404 [==============================] - 2s 4ms/step - loss: 0.0565 - accuracy: 0.9834 - val_loss: 0.0540 - val_accuracy: 0.9834 - lr: 9.7833e-04\n",
            "Epoch 220/1000\n",
            "404/404 [==============================] - 3s 7ms/step - loss: 0.0561 - accuracy: 0.9838 - val_loss: 0.0544 - val_accuracy: 0.9846 - lr: 9.7823e-04\n",
            "Epoch 221/1000\n",
            "404/404 [==============================] - 1s 3ms/step - loss: 0.0560 - accuracy: 0.9837 - val_loss: 0.0537 - val_accuracy: 0.9836 - lr: 9.7813e-04\n",
            "Epoch 222/1000\n",
            "404/404 [==============================] - 1s 3ms/step - loss: 0.0561 - accuracy: 0.9836 - val_loss: 0.0532 - val_accuracy: 0.9840 - lr: 9.7803e-04\n",
            "Epoch 223/1000\n",
            "404/404 [==============================] - 1s 3ms/step - loss: 0.0558 - accuracy: 0.9840 - val_loss: 0.0531 - val_accuracy: 0.9843 - lr: 9.7794e-04\n",
            "Epoch 224/1000\n",
            "404/404 [==============================] - 1s 3ms/step - loss: 0.0557 - accuracy: 0.9838 - val_loss: 0.0556 - val_accuracy: 0.9823 - lr: 9.7784e-04\n",
            "Epoch 225/1000\n",
            "404/404 [==============================] - 1s 3ms/step - loss: 0.0560 - accuracy: 0.9836 - val_loss: 0.0531 - val_accuracy: 0.9847 - lr: 9.7774e-04\n",
            "Epoch 226/1000\n",
            "404/404 [==============================] - 1s 3ms/step - loss: 0.0554 - accuracy: 0.9838 - val_loss: 0.0537 - val_accuracy: 0.9834 - lr: 9.7764e-04\n",
            "Epoch 227/1000\n",
            "404/404 [==============================] - 1s 3ms/step - loss: 0.0552 - accuracy: 0.9839 - val_loss: 0.0547 - val_accuracy: 0.9850 - lr: 9.7754e-04\n",
            "Epoch 228/1000\n",
            "404/404 [==============================] - 2s 4ms/step - loss: 0.0553 - accuracy: 0.9836 - val_loss: 0.0529 - val_accuracy: 0.9847 - lr: 9.7744e-04\n",
            "Epoch 229/1000\n",
            "404/404 [==============================] - 2s 5ms/step - loss: 0.0551 - accuracy: 0.9841 - val_loss: 0.0544 - val_accuracy: 0.9828 - lr: 9.7735e-04\n",
            "Epoch 230/1000\n",
            "404/404 [==============================] - 2s 4ms/step - loss: 0.0555 - accuracy: 0.9837 - val_loss: 0.0525 - val_accuracy: 0.9848 - lr: 9.7725e-04\n",
            "Epoch 231/1000\n",
            "404/404 [==============================] - 1s 3ms/step - loss: 0.0548 - accuracy: 0.9840 - val_loss: 0.0524 - val_accuracy: 0.9848 - lr: 9.7715e-04\n",
            "Epoch 232/1000\n",
            "404/404 [==============================] - 1s 3ms/step - loss: 0.0551 - accuracy: 0.9839 - val_loss: 0.0577 - val_accuracy: 0.9849 - lr: 9.7705e-04\n",
            "Epoch 233/1000\n",
            "404/404 [==============================] - 1s 3ms/step - loss: 0.0554 - accuracy: 0.9838 - val_loss: 0.0538 - val_accuracy: 0.9833 - lr: 9.7695e-04\n",
            "Epoch 234/1000\n",
            "404/404 [==============================] - 1s 3ms/step - loss: 0.0545 - accuracy: 0.9843 - val_loss: 0.0520 - val_accuracy: 0.9844 - lr: 9.7685e-04\n",
            "Epoch 235/1000\n",
            "404/404 [==============================] - 1s 3ms/step - loss: 0.0547 - accuracy: 0.9841 - val_loss: 0.0520 - val_accuracy: 0.9843 - lr: 9.7676e-04\n",
            "Epoch 236/1000\n",
            "404/404 [==============================] - 1s 3ms/step - loss: 0.0546 - accuracy: 0.9842 - val_loss: 0.0519 - val_accuracy: 0.9849 - lr: 9.7666e-04\n",
            "Epoch 237/1000\n",
            "404/404 [==============================] - 1s 3ms/step - loss: 0.0545 - accuracy: 0.9843 - val_loss: 0.0522 - val_accuracy: 0.9852 - lr: 9.7656e-04\n",
            "Epoch 238/1000\n",
            "404/404 [==============================] - 2s 5ms/step - loss: 0.0544 - accuracy: 0.9841 - val_loss: 0.0518 - val_accuracy: 0.9850 - lr: 9.7646e-04\n",
            "Epoch 239/1000\n",
            "404/404 [==============================] - 2s 5ms/step - loss: 0.0544 - accuracy: 0.9842 - val_loss: 0.0558 - val_accuracy: 0.9852 - lr: 9.7636e-04\n",
            "Epoch 240/1000\n",
            "404/404 [==============================] - 2s 5ms/step - loss: 0.0542 - accuracy: 0.9844 - val_loss: 0.0527 - val_accuracy: 0.9836 - lr: 9.7627e-04\n",
            "Epoch 241/1000\n",
            "404/404 [==============================] - 1s 3ms/step - loss: 0.0544 - accuracy: 0.9842 - val_loss: 0.0515 - val_accuracy: 0.9844 - lr: 9.7617e-04\n",
            "Epoch 242/1000\n",
            "404/404 [==============================] - 1s 3ms/step - loss: 0.0540 - accuracy: 0.9843 - val_loss: 0.0532 - val_accuracy: 0.9834 - lr: 9.7607e-04\n",
            "Epoch 243/1000\n",
            "404/404 [==============================] - 1s 3ms/step - loss: 0.0544 - accuracy: 0.9842 - val_loss: 0.0529 - val_accuracy: 0.9834 - lr: 9.7597e-04\n",
            "Epoch 244/1000\n",
            "404/404 [==============================] - 1s 3ms/step - loss: 0.0538 - accuracy: 0.9844 - val_loss: 0.0591 - val_accuracy: 0.9848 - lr: 9.7587e-04\n",
            "Epoch 245/1000\n",
            "404/404 [==============================] - 1s 3ms/step - loss: 0.0536 - accuracy: 0.9844 - val_loss: 0.0513 - val_accuracy: 0.9844 - lr: 9.7578e-04\n",
            "Epoch 246/1000\n",
            "404/404 [==============================] - 1s 3ms/step - loss: 0.0536 - accuracy: 0.9845 - val_loss: 0.0509 - val_accuracy: 0.9846 - lr: 9.7568e-04\n",
            "Epoch 247/1000\n",
            "404/404 [==============================] - 1s 3ms/step - loss: 0.0536 - accuracy: 0.9845 - val_loss: 0.0514 - val_accuracy: 0.9843 - lr: 9.7558e-04\n",
            "Epoch 248/1000\n",
            "404/404 [==============================] - 2s 4ms/step - loss: 0.0534 - accuracy: 0.9844 - val_loss: 0.0513 - val_accuracy: 0.9854 - lr: 9.7548e-04\n",
            "Epoch 249/1000\n",
            "404/404 [==============================] - 2s 5ms/step - loss: 0.0536 - accuracy: 0.9844 - val_loss: 0.0520 - val_accuracy: 0.9856 - lr: 9.7538e-04\n",
            "Epoch 250/1000\n",
            "404/404 [==============================] - 2s 5ms/step - loss: 0.0533 - accuracy: 0.9844 - val_loss: 0.0505 - val_accuracy: 0.9850 - lr: 9.7529e-04\n",
            "Epoch 251/1000\n",
            "404/404 [==============================] - 1s 3ms/step - loss: 0.0530 - accuracy: 0.9846 - val_loss: 0.0504 - val_accuracy: 0.9851 - lr: 9.7519e-04\n",
            "Epoch 252/1000\n",
            "404/404 [==============================] - 1s 3ms/step - loss: 0.0529 - accuracy: 0.9846 - val_loss: 0.0507 - val_accuracy: 0.9856 - lr: 9.7509e-04\n",
            "Epoch 253/1000\n",
            "404/404 [==============================] - 1s 3ms/step - loss: 0.0529 - accuracy: 0.9846 - val_loss: 0.0507 - val_accuracy: 0.9857 - lr: 9.7499e-04\n",
            "Epoch 254/1000\n",
            "404/404 [==============================] - 1s 3ms/step - loss: 0.0529 - accuracy: 0.9845 - val_loss: 0.0502 - val_accuracy: 0.9851 - lr: 9.7489e-04\n",
            "Epoch 255/1000\n",
            "404/404 [==============================] - 1s 3ms/step - loss: 0.0526 - accuracy: 0.9847 - val_loss: 0.0504 - val_accuracy: 0.9857 - lr: 9.7480e-04\n",
            "Epoch 256/1000\n",
            "404/404 [==============================] - 1s 3ms/step - loss: 0.0528 - accuracy: 0.9848 - val_loss: 0.0508 - val_accuracy: 0.9844 - lr: 9.7470e-04\n",
            "Epoch 257/1000\n",
            "404/404 [==============================] - 1s 3ms/step - loss: 0.0529 - accuracy: 0.9846 - val_loss: 0.0513 - val_accuracy: 0.9841 - lr: 9.7460e-04\n",
            "Epoch 258/1000\n",
            "404/404 [==============================] - 2s 4ms/step - loss: 0.0526 - accuracy: 0.9847 - val_loss: 0.0498 - val_accuracy: 0.9852 - lr: 9.7450e-04\n",
            "Epoch 259/1000\n",
            "404/404 [==============================] - 2s 5ms/step - loss: 0.0525 - accuracy: 0.9848 - val_loss: 0.0511 - val_accuracy: 0.9861 - lr: 9.7440e-04\n",
            "Epoch 260/1000\n",
            "404/404 [==============================] - 2s 5ms/step - loss: 0.0521 - accuracy: 0.9849 - val_loss: 0.0496 - val_accuracy: 0.9853 - lr: 9.7431e-04\n",
            "Epoch 261/1000\n",
            "404/404 [==============================] - 1s 4ms/step - loss: 0.0522 - accuracy: 0.9849 - val_loss: 0.0496 - val_accuracy: 0.9851 - lr: 9.7421e-04\n",
            "Epoch 262/1000\n",
            "404/404 [==============================] - 1s 3ms/step - loss: 0.0522 - accuracy: 0.9847 - val_loss: 0.0503 - val_accuracy: 0.9860 - lr: 9.7411e-04\n",
            "Epoch 263/1000\n",
            "404/404 [==============================] - 1s 3ms/step - loss: 0.0521 - accuracy: 0.9849 - val_loss: 0.0495 - val_accuracy: 0.9858 - lr: 9.7401e-04\n",
            "Epoch 264/1000\n",
            "404/404 [==============================] - 1s 3ms/step - loss: 0.0522 - accuracy: 0.9848 - val_loss: 0.0493 - val_accuracy: 0.9855 - lr: 9.7391e-04\n",
            "Epoch 265/1000\n",
            "404/404 [==============================] - 1s 3ms/step - loss: 0.0519 - accuracy: 0.9849 - val_loss: 0.0523 - val_accuracy: 0.9859 - lr: 9.7382e-04\n",
            "Epoch 266/1000\n",
            "404/404 [==============================] - 1s 4ms/step - loss: 0.0519 - accuracy: 0.9848 - val_loss: 0.0492 - val_accuracy: 0.9853 - lr: 9.7372e-04\n",
            "Epoch 267/1000\n",
            "404/404 [==============================] - 1s 3ms/step - loss: 0.0517 - accuracy: 0.9850 - val_loss: 0.0491 - val_accuracy: 0.9857 - lr: 9.7362e-04\n",
            "Epoch 268/1000\n",
            "404/404 [==============================] - 2s 4ms/step - loss: 0.0517 - accuracy: 0.9849 - val_loss: 0.0494 - val_accuracy: 0.9861 - lr: 9.7352e-04\n",
            "Epoch 269/1000\n",
            "404/404 [==============================] - 2s 6ms/step - loss: 0.0519 - accuracy: 0.9848 - val_loss: 0.0514 - val_accuracy: 0.9833 - lr: 9.7342e-04\n",
            "Epoch 270/1000\n",
            "404/404 [==============================] - 2s 4ms/step - loss: 0.0516 - accuracy: 0.9850 - val_loss: 0.0492 - val_accuracy: 0.9860 - lr: 9.7333e-04\n",
            "Epoch 271/1000\n",
            "404/404 [==============================] - 1s 3ms/step - loss: 0.0515 - accuracy: 0.9851 - val_loss: 0.0504 - val_accuracy: 0.9842 - lr: 9.7323e-04\n",
            "Epoch 272/1000\n",
            "404/404 [==============================] - 1s 3ms/step - loss: 0.0517 - accuracy: 0.9850 - val_loss: 0.0487 - val_accuracy: 0.9857 - lr: 9.7313e-04\n",
            "Epoch 273/1000\n",
            "404/404 [==============================] - 1s 4ms/step - loss: 0.0520 - accuracy: 0.9848 - val_loss: 0.0490 - val_accuracy: 0.9850 - lr: 9.7303e-04\n",
            "Epoch 274/1000\n",
            "404/404 [==============================] - 1s 3ms/step - loss: 0.0513 - accuracy: 0.9852 - val_loss: 0.0485 - val_accuracy: 0.9859 - lr: 9.7294e-04\n",
            "Epoch 275/1000\n",
            "404/404 [==============================] - 1s 3ms/step - loss: 0.0513 - accuracy: 0.9853 - val_loss: 0.0499 - val_accuracy: 0.9866 - lr: 9.7284e-04\n",
            "Epoch 276/1000\n",
            "404/404 [==============================] - 1s 4ms/step - loss: 0.0512 - accuracy: 0.9852 - val_loss: 0.0486 - val_accuracy: 0.9861 - lr: 9.7274e-04\n",
            "Epoch 277/1000\n",
            "404/404 [==============================] - 2s 4ms/step - loss: 0.0509 - accuracy: 0.9852 - val_loss: 0.0487 - val_accuracy: 0.9862 - lr: 9.7264e-04\n",
            "Epoch 278/1000\n",
            "404/404 [==============================] - 2s 5ms/step - loss: 0.0511 - accuracy: 0.9852 - val_loss: 0.0484 - val_accuracy: 0.9855 - lr: 9.7254e-04\n",
            "Epoch 279/1000\n",
            "404/404 [==============================] - 2s 5ms/step - loss: 0.0508 - accuracy: 0.9855 - val_loss: 0.0566 - val_accuracy: 0.9805 - lr: 9.7245e-04\n",
            "Epoch 280/1000\n",
            "404/404 [==============================] - 1s 3ms/step - loss: 0.0510 - accuracy: 0.9853 - val_loss: 0.0509 - val_accuracy: 0.9864 - lr: 9.7235e-04\n",
            "Epoch 281/1000\n",
            "404/404 [==============================] - 1s 3ms/step - loss: 0.0509 - accuracy: 0.9853 - val_loss: 0.0483 - val_accuracy: 0.9854 - lr: 9.7225e-04\n",
            "Epoch 282/1000\n",
            "404/404 [==============================] - 1s 3ms/step - loss: 0.0507 - accuracy: 0.9855 - val_loss: 0.0484 - val_accuracy: 0.9863 - lr: 9.7215e-04\n",
            "Epoch 283/1000\n",
            "404/404 [==============================] - 1s 3ms/step - loss: 0.0507 - accuracy: 0.9854 - val_loss: 0.0483 - val_accuracy: 0.9865 - lr: 9.7206e-04\n",
            "Epoch 284/1000\n",
            "404/404 [==============================] - 1s 3ms/step - loss: 0.0505 - accuracy: 0.9853 - val_loss: 0.0484 - val_accuracy: 0.9864 - lr: 9.7196e-04\n",
            "Epoch 285/1000\n",
            "404/404 [==============================] - 1s 3ms/step - loss: 0.0503 - accuracy: 0.9855 - val_loss: 0.0478 - val_accuracy: 0.9863 - lr: 9.7186e-04\n",
            "Epoch 286/1000\n",
            "404/404 [==============================] - 1s 3ms/step - loss: 0.0504 - accuracy: 0.9854 - val_loss: 0.0477 - val_accuracy: 0.9862 - lr: 9.7176e-04\n",
            "Epoch 287/1000\n",
            "404/404 [==============================] - 1s 4ms/step - loss: 0.0502 - accuracy: 0.9856 - val_loss: 0.0482 - val_accuracy: 0.9865 - lr: 9.7167e-04\n",
            "Epoch 288/1000\n",
            "404/404 [==============================] - 2s 5ms/step - loss: 0.0503 - accuracy: 0.9857 - val_loss: 0.0495 - val_accuracy: 0.9866 - lr: 9.7157e-04\n",
            "Epoch 289/1000\n",
            "404/404 [==============================] - 2s 5ms/step - loss: 0.0503 - accuracy: 0.9854 - val_loss: 0.0481 - val_accuracy: 0.9853 - lr: 9.7147e-04\n",
            "Epoch 290/1000\n",
            "404/404 [==============================] - 1s 3ms/step - loss: 0.0502 - accuracy: 0.9854 - val_loss: 0.0476 - val_accuracy: 0.9865 - lr: 9.7137e-04\n",
            "Epoch 291/1000\n",
            "404/404 [==============================] - 2s 5ms/step - loss: 0.0500 - accuracy: 0.9856 - val_loss: 0.0479 - val_accuracy: 0.9855 - lr: 9.7127e-04\n",
            "Epoch 292/1000\n",
            "404/404 [==============================] - 1s 3ms/step - loss: 0.0497 - accuracy: 0.9856 - val_loss: 0.0477 - val_accuracy: 0.9856 - lr: 9.7118e-04\n",
            "Epoch 293/1000\n",
            "404/404 [==============================] - 1s 3ms/step - loss: 0.0502 - accuracy: 0.9854 - val_loss: 0.0479 - val_accuracy: 0.9855 - lr: 9.7108e-04\n",
            "Epoch 294/1000\n",
            "404/404 [==============================] - 1s 3ms/step - loss: 0.0500 - accuracy: 0.9857 - val_loss: 0.0471 - val_accuracy: 0.9865 - lr: 9.7098e-04\n",
            "Epoch 295/1000\n",
            "404/404 [==============================] - 1s 3ms/step - loss: 0.0499 - accuracy: 0.9855 - val_loss: 0.0478 - val_accuracy: 0.9854 - lr: 9.7088e-04\n",
            "Epoch 296/1000\n",
            "404/404 [==============================] - 1s 3ms/step - loss: 0.0500 - accuracy: 0.9855 - val_loss: 0.0475 - val_accuracy: 0.9867 - lr: 9.7079e-04\n",
            "Epoch 297/1000\n",
            "404/404 [==============================] - 2s 5ms/step - loss: 0.0497 - accuracy: 0.9857 - val_loss: 0.0479 - val_accuracy: 0.9853 - lr: 9.7069e-04\n",
            "Epoch 298/1000\n",
            "404/404 [==============================] - 2s 5ms/step - loss: 0.0496 - accuracy: 0.9856 - val_loss: 0.0476 - val_accuracy: 0.9855 - lr: 9.7059e-04\n",
            "Epoch 299/1000\n",
            "404/404 [==============================] - 2s 5ms/step - loss: 0.0494 - accuracy: 0.9857 - val_loss: 0.0478 - val_accuracy: 0.9852 - lr: 9.7049e-04\n",
            "Epoch 300/1000\n",
            "404/404 [==============================] - 1s 4ms/step - loss: 0.0498 - accuracy: 0.9856 - val_loss: 0.0468 - val_accuracy: 0.9865 - lr: 9.7040e-04\n",
            "Epoch 301/1000\n",
            "404/404 [==============================] - 1s 3ms/step - loss: 0.0495 - accuracy: 0.9858 - val_loss: 0.0470 - val_accuracy: 0.9868 - lr: 9.7030e-04\n",
            "Epoch 302/1000\n",
            "404/404 [==============================] - 1s 3ms/step - loss: 0.0494 - accuracy: 0.9857 - val_loss: 0.0495 - val_accuracy: 0.9837 - lr: 9.7020e-04\n",
            "Epoch 303/1000\n",
            "404/404 [==============================] - 1s 3ms/step - loss: 0.0495 - accuracy: 0.9858 - val_loss: 0.0468 - val_accuracy: 0.9867 - lr: 9.7010e-04\n",
            "Epoch 304/1000\n",
            "404/404 [==============================] - 1s 3ms/step - loss: 0.0491 - accuracy: 0.9857 - val_loss: 0.0464 - val_accuracy: 0.9865 - lr: 9.7001e-04\n",
            "Epoch 305/1000\n",
            "404/404 [==============================] - 1s 3ms/step - loss: 0.0491 - accuracy: 0.9857 - val_loss: 0.0480 - val_accuracy: 0.9849 - lr: 9.6991e-04\n",
            "Epoch 306/1000\n",
            "404/404 [==============================] - 1s 3ms/step - loss: 0.0488 - accuracy: 0.9860 - val_loss: 0.0466 - val_accuracy: 0.9861 - lr: 9.6981e-04\n",
            "Epoch 307/1000\n",
            "404/404 [==============================] - 2s 4ms/step - loss: 0.0488 - accuracy: 0.9860 - val_loss: 0.0464 - val_accuracy: 0.9868 - lr: 9.6971e-04\n",
            "Epoch 308/1000\n",
            "404/404 [==============================] - 2s 5ms/step - loss: 0.0493 - accuracy: 0.9857 - val_loss: 0.0462 - val_accuracy: 0.9863 - lr: 9.6962e-04\n",
            "Epoch 309/1000\n",
            "404/404 [==============================] - 2s 4ms/step - loss: 0.0493 - accuracy: 0.9856 - val_loss: 0.0499 - val_accuracy: 0.9836 - lr: 9.6952e-04\n",
            "Epoch 310/1000\n",
            "404/404 [==============================] - 2s 4ms/step - loss: 0.0488 - accuracy: 0.9861 - val_loss: 0.0466 - val_accuracy: 0.9860 - lr: 9.6942e-04\n",
            "Epoch 311/1000\n",
            "404/404 [==============================] - 1s 3ms/step - loss: 0.0486 - accuracy: 0.9860 - val_loss: 0.0462 - val_accuracy: 0.9862 - lr: 9.6932e-04\n",
            "Epoch 312/1000\n",
            "404/404 [==============================] - 1s 3ms/step - loss: 0.0489 - accuracy: 0.9858 - val_loss: 0.0460 - val_accuracy: 0.9865 - lr: 9.6923e-04\n",
            "Epoch 313/1000\n",
            "404/404 [==============================] - 1s 3ms/step - loss: 0.0487 - accuracy: 0.9858 - val_loss: 0.0459 - val_accuracy: 0.9867 - lr: 9.6913e-04\n",
            "Epoch 314/1000\n",
            "404/404 [==============================] - 1s 3ms/step - loss: 0.0486 - accuracy: 0.9859 - val_loss: 0.0462 - val_accuracy: 0.9870 - lr: 9.6903e-04\n",
            "Epoch 315/1000\n",
            "404/404 [==============================] - 1s 3ms/step - loss: 0.0484 - accuracy: 0.9860 - val_loss: 0.0458 - val_accuracy: 0.9869 - lr: 9.6893e-04\n",
            "Epoch 316/1000\n",
            "404/404 [==============================] - 1s 3ms/step - loss: 0.0482 - accuracy: 0.9861 - val_loss: 0.0457 - val_accuracy: 0.9867 - lr: 9.6884e-04\n",
            "Epoch 317/1000\n",
            "404/404 [==============================] - 1s 4ms/step - loss: 0.0482 - accuracy: 0.9862 - val_loss: 0.0460 - val_accuracy: 0.9869 - lr: 9.6874e-04\n",
            "Epoch 318/1000\n",
            "404/404 [==============================] - 2s 4ms/step - loss: 0.0483 - accuracy: 0.9861 - val_loss: 0.0457 - val_accuracy: 0.9865 - lr: 9.6864e-04\n",
            "Epoch 319/1000\n",
            "404/404 [==============================] - 2s 5ms/step - loss: 0.0482 - accuracy: 0.9861 - val_loss: 0.0470 - val_accuracy: 0.9872 - lr: 9.6855e-04\n",
            "Epoch 320/1000\n",
            "404/404 [==============================] - 2s 5ms/step - loss: 0.0484 - accuracy: 0.9858 - val_loss: 0.0454 - val_accuracy: 0.9868 - lr: 9.6845e-04\n",
            "Epoch 321/1000\n",
            "404/404 [==============================] - 1s 3ms/step - loss: 0.0480 - accuracy: 0.9862 - val_loss: 0.0457 - val_accuracy: 0.9863 - lr: 9.6835e-04\n",
            "Epoch 322/1000\n",
            "404/404 [==============================] - 1s 4ms/step - loss: 0.0479 - accuracy: 0.9861 - val_loss: 0.0453 - val_accuracy: 0.9867 - lr: 9.6825e-04\n",
            "Epoch 323/1000\n",
            "404/404 [==============================] - 1s 4ms/step - loss: 0.0479 - accuracy: 0.9861 - val_loss: 0.0470 - val_accuracy: 0.9873 - lr: 9.6816e-04\n",
            "Epoch 324/1000\n",
            "404/404 [==============================] - 1s 3ms/step - loss: 0.0480 - accuracy: 0.9862 - val_loss: 0.0466 - val_accuracy: 0.9874 - lr: 9.6806e-04\n",
            "Epoch 325/1000\n",
            "404/404 [==============================] - 1s 3ms/step - loss: 0.0479 - accuracy: 0.9862 - val_loss: 0.0477 - val_accuracy: 0.9845 - lr: 9.6796e-04\n",
            "Epoch 326/1000\n",
            "404/404 [==============================] - 1s 3ms/step - loss: 0.0476 - accuracy: 0.9864 - val_loss: 0.0452 - val_accuracy: 0.9867 - lr: 9.6786e-04\n",
            "Epoch 327/1000\n",
            "404/404 [==============================] - 1s 3ms/step - loss: 0.0479 - accuracy: 0.9862 - val_loss: 0.0456 - val_accuracy: 0.9863 - lr: 9.6777e-04\n",
            "Epoch 328/1000\n",
            "404/404 [==============================] - 2s 4ms/step - loss: 0.0475 - accuracy: 0.9864 - val_loss: 0.0457 - val_accuracy: 0.9860 - lr: 9.6767e-04\n",
            "Epoch 329/1000\n",
            "404/404 [==============================] - 2s 4ms/step - loss: 0.0476 - accuracy: 0.9862 - val_loss: 0.0455 - val_accuracy: 0.9862 - lr: 9.6757e-04\n",
            "Epoch 330/1000\n",
            "404/404 [==============================] - 2s 5ms/step - loss: 0.0476 - accuracy: 0.9862 - val_loss: 0.0452 - val_accuracy: 0.9873 - lr: 9.6748e-04\n",
            "Epoch 331/1000\n",
            "404/404 [==============================] - 1s 3ms/step - loss: 0.0476 - accuracy: 0.9862 - val_loss: 0.0448 - val_accuracy: 0.9868 - lr: 9.6738e-04\n",
            "Epoch 332/1000\n",
            "404/404 [==============================] - 1s 3ms/step - loss: 0.0481 - accuracy: 0.9858 - val_loss: 0.0461 - val_accuracy: 0.9875 - lr: 9.6728e-04\n",
            "Epoch 333/1000\n",
            "404/404 [==============================] - 1s 3ms/step - loss: 0.0473 - accuracy: 0.9863 - val_loss: 0.0449 - val_accuracy: 0.9873 - lr: 9.6718e-04\n",
            "Epoch 334/1000\n",
            "404/404 [==============================] - 1s 3ms/step - loss: 0.0471 - accuracy: 0.9864 - val_loss: 0.0446 - val_accuracy: 0.9867 - lr: 9.6709e-04\n",
            "Epoch 335/1000\n",
            "404/404 [==============================] - 1s 3ms/step - loss: 0.0473 - accuracy: 0.9863 - val_loss: 0.0448 - val_accuracy: 0.9866 - lr: 9.6699e-04\n",
            "Epoch 336/1000\n",
            "404/404 [==============================] - 1s 3ms/step - loss: 0.0474 - accuracy: 0.9863 - val_loss: 0.0449 - val_accuracy: 0.9865 - lr: 9.6689e-04\n",
            "Epoch 337/1000\n",
            "404/404 [==============================] - 1s 3ms/step - loss: 0.0471 - accuracy: 0.9865 - val_loss: 0.0452 - val_accuracy: 0.9875 - lr: 9.6679e-04\n",
            "Epoch 338/1000\n",
            "404/404 [==============================] - 2s 4ms/step - loss: 0.0475 - accuracy: 0.9863 - val_loss: 0.0450 - val_accuracy: 0.9864 - lr: 9.6670e-04\n",
            "Epoch 339/1000\n",
            "404/404 [==============================] - 2s 5ms/step - loss: 0.0469 - accuracy: 0.9865 - val_loss: 0.0447 - val_accuracy: 0.9875 - lr: 9.6660e-04\n",
            "Epoch 340/1000\n",
            "404/404 [==============================] - 2s 5ms/step - loss: 0.0470 - accuracy: 0.9864 - val_loss: 0.0453 - val_accuracy: 0.9859 - lr: 9.6650e-04\n",
            "Epoch 341/1000\n",
            "404/404 [==============================] - 1s 3ms/step - loss: 0.0470 - accuracy: 0.9864 - val_loss: 0.0446 - val_accuracy: 0.9874 - lr: 9.6641e-04\n",
            "Epoch 342/1000\n",
            "404/404 [==============================] - 1s 3ms/step - loss: 0.0468 - accuracy: 0.9866 - val_loss: 0.0460 - val_accuracy: 0.9853 - lr: 9.6631e-04\n",
            "Epoch 343/1000\n",
            "404/404 [==============================] - 1s 3ms/step - loss: 0.0471 - accuracy: 0.9864 - val_loss: 0.0442 - val_accuracy: 0.9869 - lr: 9.6621e-04\n",
            "Epoch 344/1000\n",
            "404/404 [==============================] - 1s 3ms/step - loss: 0.0466 - accuracy: 0.9866 - val_loss: 0.0440 - val_accuracy: 0.9870 - lr: 9.6611e-04\n",
            "Epoch 345/1000\n",
            "404/404 [==============================] - 1s 4ms/step - loss: 0.0468 - accuracy: 0.9863 - val_loss: 0.0471 - val_accuracy: 0.9876 - lr: 9.6602e-04\n",
            "Epoch 346/1000\n",
            "404/404 [==============================] - 1s 3ms/step - loss: 0.0468 - accuracy: 0.9863 - val_loss: 0.0446 - val_accuracy: 0.9877 - lr: 9.6592e-04\n",
            "Epoch 347/1000\n",
            "404/404 [==============================] - 1s 3ms/step - loss: 0.0462 - accuracy: 0.9867 - val_loss: 0.0450 - val_accuracy: 0.9860 - lr: 9.6582e-04\n",
            "Epoch 348/1000\n",
            "404/404 [==============================] - 2s 4ms/step - loss: 0.0469 - accuracy: 0.9865 - val_loss: 0.0440 - val_accuracy: 0.9875 - lr: 9.6573e-04\n",
            "Epoch 349/1000\n",
            "404/404 [==============================] - 2s 5ms/step - loss: 0.0464 - accuracy: 0.9868 - val_loss: 0.0438 - val_accuracy: 0.9871 - lr: 9.6563e-04\n",
            "Epoch 350/1000\n",
            "404/404 [==============================] - 2s 5ms/step - loss: 0.0463 - accuracy: 0.9866 - val_loss: 0.0440 - val_accuracy: 0.9876 - lr: 9.6553e-04\n",
            "Epoch 351/1000\n",
            "404/404 [==============================] - 1s 4ms/step - loss: 0.0464 - accuracy: 0.9865 - val_loss: 0.0447 - val_accuracy: 0.9863 - lr: 9.6544e-04\n",
            "Epoch 352/1000\n",
            "404/404 [==============================] - 1s 3ms/step - loss: 0.0461 - accuracy: 0.9866 - val_loss: 0.0458 - val_accuracy: 0.9853 - lr: 9.6534e-04\n",
            "Epoch 353/1000\n",
            "404/404 [==============================] - 1s 3ms/step - loss: 0.0465 - accuracy: 0.9866 - val_loss: 0.0497 - val_accuracy: 0.9832 - lr: 9.6524e-04\n",
            "Epoch 354/1000\n",
            "404/404 [==============================] - 1s 3ms/step - loss: 0.0462 - accuracy: 0.9868 - val_loss: 0.0448 - val_accuracy: 0.9859 - lr: 9.6514e-04\n",
            "Epoch 355/1000\n",
            "404/404 [==============================] - 1s 3ms/step - loss: 0.0465 - accuracy: 0.9866 - val_loss: 0.0436 - val_accuracy: 0.9870 - lr: 9.6505e-04\n",
            "Epoch 356/1000\n",
            "404/404 [==============================] - 1s 3ms/step - loss: 0.0460 - accuracy: 0.9867 - val_loss: 0.0452 - val_accuracy: 0.9879 - lr: 9.6495e-04\n",
            "Epoch 357/1000\n",
            "404/404 [==============================] - 1s 3ms/step - loss: 0.0459 - accuracy: 0.9869 - val_loss: 0.0435 - val_accuracy: 0.9872 - lr: 9.6485e-04\n",
            "Epoch 358/1000\n",
            "404/404 [==============================] - 1s 4ms/step - loss: 0.0462 - accuracy: 0.9868 - val_loss: 0.0440 - val_accuracy: 0.9880 - lr: 9.6476e-04\n",
            "Epoch 359/1000\n",
            "404/404 [==============================] - 2s 5ms/step - loss: 0.0460 - accuracy: 0.9867 - val_loss: 0.0450 - val_accuracy: 0.9858 - lr: 9.6466e-04\n",
            "Epoch 360/1000\n",
            "404/404 [==============================] - 2s 5ms/step - loss: 0.0458 - accuracy: 0.9868 - val_loss: 0.0434 - val_accuracy: 0.9872 - lr: 9.6456e-04\n",
            "Epoch 361/1000\n",
            "404/404 [==============================] - 2s 4ms/step - loss: 0.0461 - accuracy: 0.9866 - val_loss: 0.0432 - val_accuracy: 0.9876 - lr: 9.6447e-04\n",
            "Epoch 362/1000\n",
            "404/404 [==============================] - 1s 3ms/step - loss: 0.0462 - accuracy: 0.9865 - val_loss: 0.0432 - val_accuracy: 0.9872 - lr: 9.6437e-04\n",
            "Epoch 363/1000\n",
            "404/404 [==============================] - 1s 3ms/step - loss: 0.0458 - accuracy: 0.9867 - val_loss: 0.0446 - val_accuracy: 0.9880 - lr: 9.6427e-04\n",
            "Epoch 364/1000\n",
            "404/404 [==============================] - 1s 3ms/step - loss: 0.0458 - accuracy: 0.9868 - val_loss: 0.0430 - val_accuracy: 0.9874 - lr: 9.6417e-04\n",
            "Epoch 365/1000\n",
            "404/404 [==============================] - 1s 3ms/step - loss: 0.0460 - accuracy: 0.9867 - val_loss: 0.0435 - val_accuracy: 0.9878 - lr: 9.6408e-04\n",
            "Epoch 366/1000\n",
            "404/404 [==============================] - 1s 3ms/step - loss: 0.0456 - accuracy: 0.9869 - val_loss: 0.0432 - val_accuracy: 0.9877 - lr: 9.6398e-04\n",
            "Epoch 367/1000\n",
            "404/404 [==============================] - 1s 3ms/step - loss: 0.0459 - accuracy: 0.9867 - val_loss: 0.0457 - val_accuracy: 0.9852 - lr: 9.6388e-04\n",
            "Epoch 368/1000\n",
            "404/404 [==============================] - 1s 3ms/step - loss: 0.0456 - accuracy: 0.9868 - val_loss: 0.0435 - val_accuracy: 0.9867 - lr: 9.6379e-04\n",
            "Epoch 369/1000\n",
            "404/404 [==============================] - 2s 4ms/step - loss: 0.0458 - accuracy: 0.9868 - val_loss: 0.0444 - val_accuracy: 0.9880 - lr: 9.6369e-04\n",
            "Epoch 370/1000\n",
            "404/404 [==============================] - 2s 5ms/step - loss: 0.0455 - accuracy: 0.9868 - val_loss: 0.0427 - val_accuracy: 0.9875 - lr: 9.6359e-04\n",
            "Epoch 371/1000\n",
            "404/404 [==============================] - 2s 4ms/step - loss: 0.0454 - accuracy: 0.9870 - val_loss: 0.0427 - val_accuracy: 0.9877 - lr: 9.6350e-04\n",
            "Epoch 372/1000\n",
            "404/404 [==============================] - 1s 3ms/step - loss: 0.0458 - accuracy: 0.9868 - val_loss: 0.0429 - val_accuracy: 0.9871 - lr: 9.6340e-04\n",
            "Epoch 373/1000\n",
            "404/404 [==============================] - 1s 3ms/step - loss: 0.0453 - accuracy: 0.9869 - val_loss: 0.0442 - val_accuracy: 0.9860 - lr: 9.6330e-04\n",
            "Epoch 374/1000\n",
            "404/404 [==============================] - 1s 3ms/step - loss: 0.0451 - accuracy: 0.9871 - val_loss: 0.0427 - val_accuracy: 0.9878 - lr: 9.6321e-04\n",
            "Epoch 375/1000\n",
            "404/404 [==============================] - 1s 3ms/step - loss: 0.0453 - accuracy: 0.9868 - val_loss: 0.0426 - val_accuracy: 0.9875 - lr: 9.6311e-04\n",
            "Epoch 376/1000\n",
            "404/404 [==============================] - 1s 3ms/step - loss: 0.0456 - accuracy: 0.9867 - val_loss: 0.0425 - val_accuracy: 0.9879 - lr: 9.6301e-04\n",
            "Epoch 377/1000\n",
            "404/404 [==============================] - 1s 3ms/step - loss: 0.0454 - accuracy: 0.9870 - val_loss: 0.0426 - val_accuracy: 0.9879 - lr: 9.6292e-04\n",
            "Epoch 378/1000\n",
            "404/404 [==============================] - 1s 3ms/step - loss: 0.0449 - accuracy: 0.9869 - val_loss: 0.0424 - val_accuracy: 0.9877 - lr: 9.6282e-04\n",
            "Epoch 379/1000\n",
            "404/404 [==============================] - 2s 4ms/step - loss: 0.0453 - accuracy: 0.9870 - val_loss: 0.0425 - val_accuracy: 0.9879 - lr: 9.6272e-04\n",
            "Epoch 380/1000\n",
            "404/404 [==============================] - 2s 4ms/step - loss: 0.0451 - accuracy: 0.9870 - val_loss: 0.0427 - val_accuracy: 0.9882 - lr: 9.6263e-04\n",
            "Epoch 381/1000\n",
            "404/404 [==============================] - 2s 5ms/step - loss: 0.0449 - accuracy: 0.9870 - val_loss: 0.0424 - val_accuracy: 0.9880 - lr: 9.6253e-04\n",
            "Epoch 382/1000\n",
            "404/404 [==============================] - 2s 5ms/step - loss: 0.0448 - accuracy: 0.9871 - val_loss: 0.0424 - val_accuracy: 0.9880 - lr: 9.6243e-04\n",
            "Epoch 383/1000\n",
            "404/404 [==============================] - 1s 3ms/step - loss: 0.0450 - accuracy: 0.9870 - val_loss: 0.0429 - val_accuracy: 0.9882 - lr: 9.6234e-04\n",
            "Epoch 384/1000\n",
            "404/404 [==============================] - 1s 3ms/step - loss: 0.0448 - accuracy: 0.9872 - val_loss: 0.0432 - val_accuracy: 0.9865 - lr: 9.6224e-04\n",
            "Epoch 385/1000\n",
            "404/404 [==============================] - 1s 3ms/step - loss: 0.0445 - accuracy: 0.9872 - val_loss: 0.0446 - val_accuracy: 0.9856 - lr: 9.6214e-04\n",
            "Epoch 386/1000\n",
            "404/404 [==============================] - 1s 4ms/step - loss: 0.0450 - accuracy: 0.9869 - val_loss: 0.0425 - val_accuracy: 0.9872 - lr: 9.6205e-04\n",
            "Epoch 387/1000\n",
            "404/404 [==============================] - 1s 3ms/step - loss: 0.0448 - accuracy: 0.9871 - val_loss: 0.0423 - val_accuracy: 0.9874 - lr: 9.6195e-04\n",
            "Epoch 388/1000\n",
            "404/404 [==============================] - 1s 3ms/step - loss: 0.0448 - accuracy: 0.9870 - val_loss: 0.0434 - val_accuracy: 0.9864 - lr: 9.6185e-04\n",
            "Epoch 389/1000\n",
            "404/404 [==============================] - 1s 4ms/step - loss: 0.0445 - accuracy: 0.9872 - val_loss: 0.0419 - val_accuracy: 0.9880 - lr: 9.6176e-04\n",
            "Epoch 390/1000\n",
            "404/404 [==============================] - 2s 4ms/step - loss: 0.0449 - accuracy: 0.9870 - val_loss: 0.0455 - val_accuracy: 0.9850 - lr: 9.6166e-04\n",
            "Epoch 391/1000\n",
            "404/404 [==============================] - 2s 5ms/step - loss: 0.0451 - accuracy: 0.9869 - val_loss: 0.0455 - val_accuracy: 0.9882 - lr: 9.6156e-04\n",
            "Epoch 392/1000\n",
            "404/404 [==============================] - 2s 4ms/step - loss: 0.0446 - accuracy: 0.9871 - val_loss: 0.0421 - val_accuracy: 0.9874 - lr: 9.6147e-04\n",
            "Epoch 393/1000\n",
            "404/404 [==============================] - 1s 4ms/step - loss: 0.0443 - accuracy: 0.9873 - val_loss: 0.0428 - val_accuracy: 0.9884 - lr: 9.6137e-04\n",
            "Epoch 394/1000\n",
            "404/404 [==============================] - 1s 3ms/step - loss: 0.0443 - accuracy: 0.9873 - val_loss: 0.0426 - val_accuracy: 0.9868 - lr: 9.6127e-04\n",
            "Epoch 395/1000\n",
            "404/404 [==============================] - 1s 3ms/step - loss: 0.0443 - accuracy: 0.9872 - val_loss: 0.0417 - val_accuracy: 0.9880 - lr: 9.6118e-04\n",
            "Epoch 396/1000\n",
            "404/404 [==============================] - 1s 3ms/step - loss: 0.0444 - accuracy: 0.9872 - val_loss: 0.0422 - val_accuracy: 0.9883 - lr: 9.6108e-04\n",
            "Epoch 397/1000\n",
            "404/404 [==============================] - 1s 4ms/step - loss: 0.0443 - accuracy: 0.9874 - val_loss: 0.0416 - val_accuracy: 0.9881 - lr: 9.6098e-04\n",
            "Epoch 398/1000\n",
            "404/404 [==============================] - 2s 4ms/step - loss: 0.0441 - accuracy: 0.9873 - val_loss: 0.0423 - val_accuracy: 0.9885 - lr: 9.6089e-04\n",
            "Epoch 399/1000\n",
            "404/404 [==============================] - 1s 3ms/step - loss: 0.0444 - accuracy: 0.9872 - val_loss: 0.0415 - val_accuracy: 0.9880 - lr: 9.6079e-04\n",
            "Epoch 400/1000\n",
            "404/404 [==============================] - 1s 4ms/step - loss: 0.0443 - accuracy: 0.9874 - val_loss: 0.0454 - val_accuracy: 0.9884 - lr: 9.6069e-04\n",
            "Epoch 401/1000\n",
            "404/404 [==============================] - 2s 5ms/step - loss: 0.0440 - accuracy: 0.9874 - val_loss: 0.0444 - val_accuracy: 0.9854 - lr: 9.6060e-04\n",
            "Epoch 402/1000\n",
            "404/404 [==============================] - 2s 4ms/step - loss: 0.0445 - accuracy: 0.9873 - val_loss: 0.0414 - val_accuracy: 0.9880 - lr: 9.6050e-04\n",
            "Epoch 403/1000\n",
            "404/404 [==============================] - 2s 4ms/step - loss: 0.0439 - accuracy: 0.9875 - val_loss: 0.0417 - val_accuracy: 0.9875 - lr: 9.6040e-04\n",
            "Epoch 404/1000\n",
            "404/404 [==============================] - 1s 3ms/step - loss: 0.0439 - accuracy: 0.9873 - val_loss: 0.0413 - val_accuracy: 0.9880 - lr: 9.6031e-04\n",
            "Epoch 405/1000\n",
            "404/404 [==============================] - 1s 3ms/step - loss: 0.0437 - accuracy: 0.9875 - val_loss: 0.0415 - val_accuracy: 0.9876 - lr: 9.6021e-04\n",
            "Epoch 406/1000\n",
            "404/404 [==============================] - 1s 3ms/step - loss: 0.0439 - accuracy: 0.9873 - val_loss: 0.0417 - val_accuracy: 0.9874 - lr: 9.6011e-04\n",
            "Epoch 407/1000\n",
            "404/404 [==============================] - 1s 3ms/step - loss: 0.0439 - accuracy: 0.9874 - val_loss: 0.0415 - val_accuracy: 0.9885 - lr: 9.6002e-04\n",
            "Epoch 408/1000\n",
            "404/404 [==============================] - 1s 3ms/step - loss: 0.0436 - accuracy: 0.9875 - val_loss: 0.0416 - val_accuracy: 0.9886 - lr: 9.5992e-04\n",
            "Epoch 409/1000\n",
            "404/404 [==============================] - 1s 3ms/step - loss: 0.0440 - accuracy: 0.9873 - val_loss: 0.0415 - val_accuracy: 0.9884 - lr: 9.5982e-04\n",
            "Epoch 410/1000\n",
            "404/404 [==============================] - 1s 3ms/step - loss: 0.0439 - accuracy: 0.9873 - val_loss: 0.0411 - val_accuracy: 0.9882 - lr: 9.5973e-04\n",
            "Epoch 411/1000\n",
            "404/404 [==============================] - 2s 4ms/step - loss: 0.0435 - accuracy: 0.9876 - val_loss: 0.0411 - val_accuracy: 0.9882 - lr: 9.5963e-04\n",
            "Epoch 412/1000\n",
            "404/404 [==============================] - 2s 5ms/step - loss: 0.0434 - accuracy: 0.9875 - val_loss: 0.0410 - val_accuracy: 0.9879 - lr: 9.5953e-04\n",
            "Epoch 413/1000\n",
            "404/404 [==============================] - 2s 5ms/step - loss: 0.0435 - accuracy: 0.9875 - val_loss: 0.0414 - val_accuracy: 0.9886 - lr: 9.5944e-04\n",
            "Epoch 414/1000\n",
            "404/404 [==============================] - 1s 3ms/step - loss: 0.0438 - accuracy: 0.9873 - val_loss: 0.0410 - val_accuracy: 0.9877 - lr: 9.5934e-04\n",
            "Epoch 415/1000\n",
            "404/404 [==============================] - 1s 3ms/step - loss: 0.0436 - accuracy: 0.9873 - val_loss: 0.0441 - val_accuracy: 0.9887 - lr: 9.5925e-04\n",
            "Epoch 416/1000\n",
            "404/404 [==============================] - 1s 3ms/step - loss: 0.0437 - accuracy: 0.9874 - val_loss: 0.0412 - val_accuracy: 0.9876 - lr: 9.5915e-04\n",
            "Epoch 417/1000\n",
            "404/404 [==============================] - 1s 3ms/step - loss: 0.0435 - accuracy: 0.9875 - val_loss: 0.0408 - val_accuracy: 0.9881 - lr: 9.5905e-04\n",
            "Epoch 418/1000\n",
            "404/404 [==============================] - 1s 3ms/step - loss: 0.0434 - accuracy: 0.9874 - val_loss: 0.0416 - val_accuracy: 0.9886 - lr: 9.5896e-04\n",
            "Epoch 419/1000\n",
            "404/404 [==============================] - 1s 3ms/step - loss: 0.0436 - accuracy: 0.9874 - val_loss: 0.0410 - val_accuracy: 0.9885 - lr: 9.5886e-04\n",
            "Epoch 420/1000\n",
            "404/404 [==============================] - 1s 3ms/step - loss: 0.0432 - accuracy: 0.9875 - val_loss: 0.0408 - val_accuracy: 0.9878 - lr: 9.5876e-04\n",
            "Epoch 421/1000\n",
            "404/404 [==============================] - 1s 4ms/step - loss: 0.0432 - accuracy: 0.9876 - val_loss: 0.0407 - val_accuracy: 0.9879 - lr: 9.5867e-04\n",
            "Epoch 422/1000\n",
            "404/404 [==============================] - 2s 6ms/step - loss: 0.0435 - accuracy: 0.9874 - val_loss: 0.0406 - val_accuracy: 0.9883 - lr: 9.5857e-04\n",
            "Epoch 423/1000\n",
            "404/404 [==============================] - 2s 5ms/step - loss: 0.0434 - accuracy: 0.9875 - val_loss: 0.0410 - val_accuracy: 0.9877 - lr: 9.5847e-04\n",
            "Epoch 424/1000\n",
            "404/404 [==============================] - 1s 4ms/step - loss: 0.0432 - accuracy: 0.9876 - val_loss: 0.0408 - val_accuracy: 0.9886 - lr: 9.5838e-04\n",
            "Epoch 425/1000\n",
            "404/404 [==============================] - 1s 3ms/step - loss: 0.0433 - accuracy: 0.9876 - val_loss: 0.0412 - val_accuracy: 0.9875 - lr: 9.5828e-04\n",
            "Epoch 426/1000\n",
            "404/404 [==============================] - 1s 4ms/step - loss: 0.0433 - accuracy: 0.9875 - val_loss: 0.0404 - val_accuracy: 0.9884 - lr: 9.5819e-04\n",
            "Epoch 427/1000\n",
            "404/404 [==============================] - 1s 3ms/step - loss: 0.0430 - accuracy: 0.9877 - val_loss: 0.0413 - val_accuracy: 0.9889 - lr: 9.5809e-04\n",
            "Epoch 428/1000\n",
            "404/404 [==============================] - 1s 3ms/step - loss: 0.0429 - accuracy: 0.9877 - val_loss: 0.0404 - val_accuracy: 0.9882 - lr: 9.5799e-04\n",
            "Epoch 429/1000\n",
            "404/404 [==============================] - 1s 3ms/step - loss: 0.0433 - accuracy: 0.9876 - val_loss: 0.0406 - val_accuracy: 0.9878 - lr: 9.5790e-04\n",
            "Epoch 430/1000\n",
            "404/404 [==============================] - 1s 3ms/step - loss: 0.0427 - accuracy: 0.9877 - val_loss: 0.0403 - val_accuracy: 0.9884 - lr: 9.5780e-04\n",
            "Epoch 431/1000\n",
            "404/404 [==============================] - 1s 3ms/step - loss: 0.0430 - accuracy: 0.9877 - val_loss: 0.0412 - val_accuracy: 0.9889 - lr: 9.5770e-04\n",
            "Epoch 432/1000\n",
            "404/404 [==============================] - 2s 5ms/step - loss: 0.0427 - accuracy: 0.9877 - val_loss: 0.0403 - val_accuracy: 0.9880 - lr: 9.5761e-04\n",
            "Epoch 433/1000\n",
            "404/404 [==============================] - 2s 4ms/step - loss: 0.0430 - accuracy: 0.9877 - val_loss: 0.0408 - val_accuracy: 0.9875 - lr: 9.5751e-04\n",
            "Epoch 434/1000\n",
            "404/404 [==============================] - 2s 5ms/step - loss: 0.0428 - accuracy: 0.9877 - val_loss: 0.0406 - val_accuracy: 0.9887 - lr: 9.5742e-04\n",
            "Epoch 435/1000\n",
            "404/404 [==============================] - 1s 3ms/step - loss: 0.0431 - accuracy: 0.9874 - val_loss: 0.0404 - val_accuracy: 0.9888 - lr: 9.5732e-04\n",
            "Epoch 436/1000\n",
            "404/404 [==============================] - 1s 3ms/step - loss: 0.0427 - accuracy: 0.9877 - val_loss: 0.0402 - val_accuracy: 0.9887 - lr: 9.5722e-04\n",
            "Epoch 437/1000\n",
            "404/404 [==============================] - 1s 3ms/step - loss: 0.0429 - accuracy: 0.9876 - val_loss: 0.0402 - val_accuracy: 0.9886 - lr: 9.5713e-04\n",
            "Epoch 438/1000\n",
            "404/404 [==============================] - 1s 3ms/step - loss: 0.0428 - accuracy: 0.9875 - val_loss: 0.0400 - val_accuracy: 0.9885 - lr: 9.5703e-04\n",
            "Epoch 439/1000\n",
            "404/404 [==============================] - 1s 4ms/step - loss: 0.0428 - accuracy: 0.9877 - val_loss: 0.0444 - val_accuracy: 0.9852 - lr: 9.5693e-04\n",
            "Epoch 440/1000\n",
            "389/404 [===========================>..] - ETA: 0s - loss: 0.0427 - accuracy: 0.9878Restoring model weights from the end of the best epoch: 430.\n",
            "404/404 [==============================] - 1s 3ms/step - loss: 0.0427 - accuracy: 0.9877 - val_loss: 0.0400 - val_accuracy: 0.9882 - lr: 9.5684e-04\n",
            "Epoch 440: early stopping\n"
          ]
        }
      ]
    },
    {
      "cell_type": "markdown",
      "source": [
        "Check the training and validation loss and validation for unsual behaviour"
      ],
      "metadata": {
        "id": "O-_zaDPDudoh"
      }
    },
    {
      "cell_type": "code",
      "source": [
        "classifier_loss = classifier_history.history['loss']\n",
        "classifier_val_loss = classifier_history.history['val_loss']\n",
        "epochs = range(len(classifier_loss))\n",
        "plt.figure()\n",
        "plt.plot(epochs, classifier_loss, 'r', label='Training loss')\n",
        "plt.plot(epochs, classifier_val_loss, 'b', label='Validation loss')\n",
        "plt.title('Training and validation loss')\n",
        "plt.legend()\n",
        "plt.show()"
      ],
      "metadata": {
        "colab": {
          "base_uri": "https://localhost:8080/",
          "height": 452
        },
        "id": "djbK-xHe_1sr",
        "outputId": "d9e1b2fb-91e7-49b2-90e2-44f4b7674fec"
      },
      "execution_count": null,
      "outputs": [
        {
          "output_type": "display_data",
          "data": {
            "text/plain": [
              "<Figure size 640x480 with 1 Axes>"
            ],
            "image/png": "[encoded data removed]"
          },
          "metadata": {}
        }
      ]
    },
    {
      "cell_type": "code",
      "source": [
        "accuracy = classifier_history.history['accuracy']\n",
        "val_accuracy = classifier_history.history['val_accuracy']\n",
        "epochs = range(len(accuracy))\n",
        "plt.plot(epochs, accuracy, 'bo', label='Training accuracy')\n",
        "plt.plot(epochs, val_accuracy, 'b', label='Validation accuracy')\n",
        "plt.title('Training and validation accuracy')\n",
        "plt.legend()\n",
        "plt.show()"
      ],
      "metadata": {
        "colab": {
          "base_uri": "https://localhost:8080/",
          "height": 452
        },
        "id": "vpSJabsfUPF4",
        "outputId": "39cff697-bd82-4c91-db8b-8717d0fe59e3"
      },
      "execution_count": null,
      "outputs": [
        {
          "output_type": "display_data",
          "data": {
            "text/plain": [
              "<Figure size 640x480 with 1 Axes>"
            ],
            "image/png": "[encoded data removed]"
          },
          "metadata": {}
        }
      ]
    },
    {
      "cell_type": "markdown",
      "source": [
        "Save also this model weights"
      ],
      "metadata": {
        "id": "31JcUzzOunp6"
      }
    },
    {
      "cell_type": "code",
      "source": [
        "classifier_model.save_weights('/content/drive/MyDrive/JetDTsAutoencoder/classifier/')"
      ],
      "metadata": {
        "id": "1v3t07RVOgNp"
      },
      "execution_count": null,
      "outputs": []
    },
    {
      "cell_type": "code",
      "source": [
        "classifier_model.load_weights('/content/drive/MyDrive/JetDTsAutoencoder/classifier/')"
      ],
      "metadata": {
        "colab": {
          "base_uri": "https://localhost:8080/"
        },
        "id": "4QsXPes0OtrT",
        "outputId": "dedf079a-ae55-4dc4-d69f-db602d4748c5"
      },
      "execution_count": null,
      "outputs": [
        {
          "output_type": "execute_result",
          "data": {
            "text/plain": [
              "<tensorflow.python.checkpoint.checkpoint.CheckpointLoadStatus at 0x7b277d8ff6a0>"
            ]
          },
          "metadata": {},
          "execution_count": 32
        }
      ]
    },
    {
      "cell_type": "markdown",
      "source": [
        "Check the final outpur results using the test sample"
      ],
      "metadata": {
        "id": "nlmGMAYmus23"
      }
    },
    {
      "cell_type": "code",
      "source": [
        "test_eval = classifier_model.evaluate(encoded_x_test, c_y_test)"
      ],
      "metadata": {
        "colab": {
          "base_uri": "https://localhost:8080/"
        },
        "id": "KwuIo8qNVC_x",
        "outputId": "112e399c-5ba9-43c3-bae7-c7f2bdd07f43"
      },
      "execution_count": null,
      "outputs": [
        {
          "output_type": "stream",
          "name": "stdout",
          "text": [
            "922/922 [==============================] - 2s 2ms/step - loss: 0.0433 - accuracy: 0.9884\n"
          ]
        }
      ]
    },
    {
      "cell_type": "code",
      "source": [
        "print('Test loss:', test_eval[0])\n",
        "print('Test accuracy:', test_eval[1])"
      ],
      "metadata": {
        "colab": {
          "base_uri": "https://localhost:8080/"
        },
        "id": "KEzQVyfRVQ9v",
        "outputId": "e3596949-c283-40b0-bc19-d83c4d039d0b"
      },
      "execution_count": null,
      "outputs": [
        {
          "output_type": "stream",
          "name": "stdout",
          "text": [
            "Test loss: 0.04327608644962311\n",
            "Test accuracy: 0.988406777381897\n"
          ]
        }
      ]
    },
    {
      "cell_type": "markdown",
      "source": [
        "Check also the roc curve since it's a classification problem"
      ],
      "metadata": {
        "id": "-OpRKWsWu0f3"
      }
    },
    {
      "cell_type": "code",
      "source": [
        "from sklearn.metrics import roc_curve\n",
        "y_pred = classifier_model.predict(encoded_x_test).ravel()\n",
        "fpr_keras, tpr_keras, thresholds_keras = roc_curve(c_y_test, y_pred)"
      ],
      "metadata": {
        "colab": {
          "base_uri": "https://localhost:8080/"
        },
        "id": "a4FKPpD7dw5K",
        "outputId": "a62d5b5b-3651-4aa9-ef37-5f36f4532569"
      },
      "execution_count": null,
      "outputs": [
        {
          "output_type": "stream",
          "name": "stdout",
          "text": [
            "922/922 [==============================] - 2s 2ms/step\n"
          ]
        }
      ]
    },
    {
      "cell_type": "code",
      "source": [
        "from sklearn.metrics import auc\n",
        "auc_keras = auc(fpr_keras, tpr_keras)"
      ],
      "metadata": {
        "id": "mUluPM8zeMFn"
      },
      "execution_count": null,
      "outputs": []
    },
    {
      "cell_type": "code",
      "source": [
        "plt.figure(1)\n",
        "plt.plot([0, 1], [0, 1], 'k--')\n",
        "plt.plot(fpr_keras, tpr_keras, label='Classifier (area = {:.3f})'.format(auc_keras))\n",
        "plt.xlabel('False positive rate')\n",
        "plt.ylabel('True positive rate')\n",
        "plt.title('ROC curve')\n",
        "plt.legend(loc='best')\n",
        "plt.show()\n",
        "# Zoom in view of the upper left corner.\n",
        "plt.figure(2)\n",
        "plt.xlim(0, 0.2)\n",
        "plt.ylim(0.8, 1)\n",
        "plt.plot([0, 1], [0, 1], 'k--')\n",
        "plt.plot(fpr_keras, tpr_keras, label='Classifier (area = {:.3f})'.format(auc_keras))\n",
        "plt.xlabel('False positive rate')\n",
        "plt.ylabel('True positive rate')\n",
        "plt.title('ROC curve (zoomed in at top left)')\n",
        "plt.legend(loc='best')\n",
        "plt.show()"
      ],
      "metadata": {
        "colab": {
          "base_uri": "https://localhost:8080/",
          "height": 927
        },
        "id": "wtMhC-69eRN_",
        "outputId": "031b00b0-d5e5-4a55-d2f9-98298f938b3a"
      },
      "execution_count": null,
      "outputs": [
        {
          "output_type": "display_data",
          "data": {
            "text/plain": [
              "<Figure size 640x480 with 1 Axes>"
            ],
            "image/png": "[encoded data removed]"
          },
          "metadata": {}
        },
        {
          "output_type": "display_data",
          "data": {
            "text/plain": [
              "<Figure size 640x480 with 1 Axes>"
            ],
            "image/png": "[encoded data removed]"
          },
          "metadata": {}
        }
      ]
    }
  ]
}